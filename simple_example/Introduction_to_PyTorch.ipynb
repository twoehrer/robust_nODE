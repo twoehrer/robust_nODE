{
 "cells": [
  {
   "cell_type": "markdown",
   "metadata": {},
   "source": [
    "# Tutorial 2: Introduction to PyTorch\n",
    "\n",
    "![Status](https://img.shields.io/static/v1.svg?label=Status&message=Finished&color=green)\n",
    "\n",
    "**Filled notebook:** \n",
    "[![View filled on Github](https://img.shields.io/static/v1.svg?logo=github&label=Repo&message=View%20On%20Github&color=lightgrey)](https://github.com/phlippe/uvadlc_notebooks/blob/master/docs/tutorial_notebooks/tutorial2/Introduction_to_PyTorch.ipynb)\n",
    "[![Open filled In Collab](https://colab.research.google.com/assets/colab-badge.svg)](https://colab.research.google.com/github/phlippe/uvadlc_notebooks/blob/master/docs/tutorial_notebooks/tutorial2/Introduction_to_PyTorch.ipynb)   \n",
    "**Recordings:** \n",
    "[![YouTube - Part 1](https://img.shields.io/static/v1.svg?logo=youtube&label=YouTube&message=Part%201&color=red)](https://youtu.be/wnKZZgFQY-E)\n",
    "[![YouTube - Part 2](https://img.shields.io/static/v1.svg?logo=youtube&label=YouTube&message=Part%202&color=red)](https://youtu.be/schbjeU5X2g)"
   ]
  },
  {
   "cell_type": "markdown",
   "metadata": {},
   "source": [
    "Welcome to our PyTorch tutorial for the Deep Learning course 2021 at the University of Amsterdam! The following notebook is meant to give a short introduction to PyTorch basics, and get you setup for writing your own neural networks. PyTorch is an open source machine learning framework that allows you to write your own neural networks and optimize them efficiently. However, PyTorch is not the only framework of its kind. Alternatives to PyTorch include [TensorFlow](https://www.tensorflow.org/), [JAX](https://github.com/google/jax#quickstart-colab-in-the-cloud) and [Caffe](http://caffe.berkeleyvision.org/). We choose to teach PyTorch at the University of Amsterdam because it is well established, has a huge developer community (originally developed by Facebook), is very flexible and especially used in research. Many current papers publish their code in PyTorch, and thus it is good to be familiar with PyTorch as well. \n",
    "Meanwhile, TensorFlow (developed by Google) is usually known for being a production-grade deep learning library. Still, if you know one machine learning framework in depth, it is very easy to learn another one because many of them use the same concepts and ideas. For instance, TensorFlow's version 2 was heavily inspired by the most popular features of PyTorch, making the frameworks even more similar. \n",
    "If you are already familiar with PyTorch and have created your own neural network projects, feel free to just skim this notebook.\n",
    "\n",
    "We are of course not the first ones to create a PyTorch tutorial. There are many great tutorials online, including the [\"60-min blitz\"](https://pytorch.org/tutorials/beginner/deep_learning_60min_blitz.html) on the official [PyTorch website](https://pytorch.org/tutorials/). Yet, we choose to create our own tutorial which is designed to give you the basics particularly necessary for the practicals, but still understand how PyTorch works under the hood. Over the next few weeks, we will also keep exploring new PyTorch features in the series of Jupyter notebook tutorials about deep learning. \n",
    "\n",
    "We will use a set of standard libraries that are often used in machine learning projects. If you are running this notebook on Google Colab, all libraries should be pre-installed. If you are running this notebook locally, make sure you have installed our `dl2021` environment and have activated it."
   ]
  },
  {
   "cell_type": "code",
   "execution_count": 1,
   "metadata": {},
   "outputs": [
    {
     "name": "stderr",
     "output_type": "stream",
     "text": [
      "/tmp/ipykernel_32730/3937499902.py:11: DeprecationWarning: `set_matplotlib_formats` is deprecated since IPython 7.23, directly use `matplotlib_inline.backend_inline.set_matplotlib_formats()`\n",
      "  set_matplotlib_formats('svg', 'pdf') # For export\n"
     ]
    }
   ],
   "source": [
    "## Standard libraries\n",
    "import os\n",
    "import math\n",
    "import numpy as np \n",
    "import time\n",
    "\n",
    "## Imports for plotting\n",
    "import matplotlib.pyplot as plt\n",
    "%matplotlib inline \n",
    "from IPython.display import set_matplotlib_formats\n",
    "set_matplotlib_formats('svg', 'pdf') # For export\n",
    "from matplotlib.colors import to_rgba\n",
    "import seaborn as sns\n",
    "sns.set()\n",
    "\n",
    "## Progress bar\n",
    "from tqdm.notebook import tqdm"
   ]
  },
  {
   "cell_type": "markdown",
   "metadata": {},
   "source": [
    "## The Basics of PyTorch\n",
    "\n",
    "We will start with reviewing the very basic concepts of PyTorch. As a prerequisite, we recommend to be familiar with the `numpy` package as most machine learning frameworks are based on very similar concepts. If you are not familiar with numpy yet, don't worry: here is a [tutorial](https://numpy.org/devdocs/user/quickstart.html) to go through. \n",
    "\n",
    "So, let's start with importing PyTorch. The package is called `torch`, based on its original framework [Torch](http://torch.ch/). As a first step, we can check its version:"
   ]
  },
  {
   "cell_type": "code",
   "execution_count": 2,
   "metadata": {},
   "outputs": [
    {
     "name": "stdout",
     "output_type": "stream",
     "text": [
      "Using torch 1.8.1\n"
     ]
    }
   ],
   "source": [
    "import torch\n",
    "print(\"Using torch\", torch.__version__)"
   ]
  },
  {
   "cell_type": "markdown",
   "metadata": {},
   "source": [
    "At the time of writing this tutorial (mid of October 2021), the current stable version is 1.10. You should therefore see the output `Using torch 1.10.0` or `Using torch 1.9.0`, eventually with some extension for the CUDA version on Colab. In case you use the `dl2021` environment, you should see `Using torch 1.10.0`. In general, it is recommended to keep the PyTorch version updated to the newest one. If you see a lower version number than 1.9, make sure you have installed the correct the environment, or ask one of your TAs. In case PyTorch 1.11 or newer will be published during the time of the course, don't worry. The interface between PyTorch versions doesn't change too much, and hence all code should also be runnable with newer versions.\n",
    "\n",
    "As in every machine learning framework, PyTorch provides functions that are stochastic like generating random numbers. However, a very good practice is to setup your code to be reproducible with the exact same random numbers. This is why we set a seed below. "
   ]
  },
  {
   "cell_type": "code",
   "execution_count": 3,
   "metadata": {},
   "outputs": [
    {
     "data": {
      "text/plain": [
       "<torch._C.Generator at 0x7fd6344ce790>"
      ]
     },
     "execution_count": 3,
     "metadata": {},
     "output_type": "execute_result"
    }
   ],
   "source": [
    "torch.manual_seed(42) # Setting the seed"
   ]
  },
  {
   "cell_type": "markdown",
   "metadata": {},
   "source": [
    "### Tensors\n",
    "\n",
    "Tensors are the PyTorch equivalent to Numpy arrays, with the addition to also have support for GPU acceleration (more on that later).\n",
    "The name \"tensor\" is a generalization of concepts you already know. For instance, a vector is a 1-D tensor, and a matrix a 2-D tensor. When working with neural networks, we will use tensors of various shapes and number of dimensions.\n",
    "\n",
    "Most common functions you know from numpy can be used on tensors as well. Actually, since numpy arrays are so similar to tensors, we can convert most tensors to numpy arrays (and back) but we don't need it too often.\n",
    "\n",
    "#### Initialization\n",
    "\n",
    "Let's first start by looking at different ways of creating a tensor. There are many possible options, the most simple one is to call `torch.Tensor` passing the desired shape as input argument:"
   ]
  },
  {
   "cell_type": "code",
   "execution_count": 4,
   "metadata": {},
   "outputs": [
    {
     "name": "stdout",
     "output_type": "stream",
     "text": [
      "tensor([[[0.0000e+00, 0.0000e+00, 0.0000e+00, 0.0000e+00],\n",
      "         [0.0000e+00, 0.0000e+00, 0.0000e+00, 0.0000e+00],\n",
      "         [0.0000e+00, 0.0000e+00, 1.4013e-45, 0.0000e+00]],\n",
      "\n",
      "        [[0.0000e+00, 0.0000e+00, 0.0000e+00, 0.0000e+00],\n",
      "         [1.0437e+36, 3.0719e-41, 0.0000e+00, 0.0000e+00],\n",
      "         [1.0965e-38, 0.0000e+00, 0.0000e+00, 0.0000e+00]]])\n"
     ]
    }
   ],
   "source": [
    "x = torch.Tensor(2, 3, 4)\n",
    "print(x)"
   ]
  },
  {
   "cell_type": "markdown",
   "metadata": {},
   "source": [
    "The function `torch.Tensor` allocates memory for the desired tensor, but reuses any values that have already been in the memory. To directly assign values to the tensor during initialization, there are many alternatives including:\n",
    "\n",
    "* `torch.zeros`: Creates a tensor filled with zeros\n",
    "* `torch.ones`: Creates a tensor filled with ones\n",
    "* `torch.rand`: Creates a tensor with random values uniformly sampled between 0 and 1\n",
    "* `torch.randn`: Creates a tensor with random values sampled from a normal distribution with mean 0 and variance 1\n",
    "* `torch.arange`: Creates a tensor containing the values $N,N+1,N+2,...,M$\n",
    "* `torch.Tensor` (input list): Creates a tensor from the list elements you provide"
   ]
  },
  {
   "cell_type": "code",
   "execution_count": 5,
   "metadata": {},
   "outputs": [
    {
     "name": "stdout",
     "output_type": "stream",
     "text": [
      "tensor([[1., 2.],\n",
      "        [3., 4.]])\n"
     ]
    }
   ],
   "source": [
    "# Create a tensor from a (nested) list\n",
    "x = torch.Tensor([[1, 2], [3, 4]])\n",
    "print(x)"
   ]
  },
  {
   "cell_type": "code",
   "execution_count": 6,
   "metadata": {},
   "outputs": [
    {
     "name": "stdout",
     "output_type": "stream",
     "text": [
      "tensor([[[0.8823, 0.9150, 0.3829, 0.9593],\n",
      "         [0.3904, 0.6009, 0.2566, 0.7936],\n",
      "         [0.9408, 0.1332, 0.9346, 0.5936]],\n",
      "\n",
      "        [[0.8694, 0.5677, 0.7411, 0.4294],\n",
      "         [0.8854, 0.5739, 0.2666, 0.6274],\n",
      "         [0.2696, 0.4414, 0.2969, 0.8317]]])\n"
     ]
    }
   ],
   "source": [
    "# Create a tensor with random values between 0 and 1 with the shape [2, 3, 4]\n",
    "x = torch.rand(2, 3, 4)\n",
    "print(x)"
   ]
  },
  {
   "cell_type": "markdown",
   "metadata": {},
   "source": [
    "You can obtain the shape of a tensor in the same way as in numpy (`x.shape`), or using the `.size` method:"
   ]
  },
  {
   "cell_type": "code",
   "execution_count": 7,
   "metadata": {},
   "outputs": [
    {
     "name": "stdout",
     "output_type": "stream",
     "text": [
      "Shape: torch.Size([2, 3, 4])\n",
      "Size: torch.Size([2, 3, 4])\n",
      "Size: 2 3 4\n"
     ]
    }
   ],
   "source": [
    "shape = x.shape\n",
    "print(\"Shape:\", x.shape)\n",
    "\n",
    "size = x.size()\n",
    "print(\"Size:\", size)\n",
    "\n",
    "dim1, dim2, dim3 = x.size()\n",
    "print(\"Size:\", dim1, dim2, dim3)"
   ]
  },
  {
   "cell_type": "markdown",
   "metadata": {},
   "source": [
    "#### Tensor to Numpy, and Numpy to Tensor\n",
    "\n",
    "Tensors can be converted to numpy arrays, and numpy arrays back to tensors. To transform a numpy array into a tensor, we can use the function `torch.from_numpy`:"
   ]
  },
  {
   "cell_type": "code",
   "execution_count": 8,
   "metadata": {},
   "outputs": [
    {
     "name": "stdout",
     "output_type": "stream",
     "text": [
      "Numpy array: [[1 2]\n",
      " [3 4]]\n",
      "PyTorch tensor: tensor([[1, 2],\n",
      "        [3, 4]])\n"
     ]
    }
   ],
   "source": [
    "np_arr = np.array([[1, 2], [3, 4]])\n",
    "tensor = torch.from_numpy(np_arr)\n",
    "\n",
    "print(\"Numpy array:\", np_arr)\n",
    "print(\"PyTorch tensor:\", tensor)"
   ]
  },
  {
   "cell_type": "markdown",
   "metadata": {},
   "source": [
    "To transform a PyTorch tensor back to a numpy array, we can use the function `.numpy()` on tensors:"
   ]
  },
  {
   "cell_type": "code",
   "execution_count": 9,
   "metadata": {},
   "outputs": [
    {
     "name": "stdout",
     "output_type": "stream",
     "text": [
      "PyTorch tensor: tensor([0, 1, 2, 3])\n",
      "Numpy array: [0 1 2 3]\n"
     ]
    }
   ],
   "source": [
    "tensor = torch.arange(4)\n",
    "np_arr = tensor.numpy()\n",
    "\n",
    "print(\"PyTorch tensor:\", tensor)\n",
    "print(\"Numpy array:\", np_arr)"
   ]
  },
  {
   "cell_type": "markdown",
   "metadata": {},
   "source": [
    "The conversion of tensors to numpy require the tensor to be on the CPU, and not the GPU (more on GPU support in a later section). In case you have a tensor on GPU, you need to call `.cpu()` on the tensor beforehand. Hence, you get a line like `np_arr = tensor.cpu().numpy()`."
   ]
  },
  {
   "cell_type": "markdown",
   "metadata": {},
   "source": [
    "#### Operations\n",
    "\n",
    "Most operations that exist in numpy, also exist in PyTorch. A full list of operations can be found in the [PyTorch documentation](https://pytorch.org/docs/stable/tensors.html#), but we will review the most important ones here.\n",
    "\n",
    "The simplest operation is to add two tensors:"
   ]
  },
  {
   "cell_type": "code",
   "execution_count": 10,
   "metadata": {},
   "outputs": [
    {
     "name": "stdout",
     "output_type": "stream",
     "text": [
      "X1 tensor([[0.1053, 0.2695, 0.3588],\n",
      "        [0.1994, 0.5472, 0.0062]])\n",
      "X2 tensor([[0.9516, 0.0753, 0.8860],\n",
      "        [0.5832, 0.3376, 0.8090]])\n",
      "Y tensor([[1.0569, 0.3448, 1.2448],\n",
      "        [0.7826, 0.8848, 0.8151]])\n"
     ]
    }
   ],
   "source": [
    "x1 = torch.rand(2, 3)\n",
    "x2 = torch.rand(2, 3)\n",
    "y = x1 + x2\n",
    "\n",
    "print(\"X1\", x1)\n",
    "print(\"X2\", x2)\n",
    "print(\"Y\", y)"
   ]
  },
  {
   "cell_type": "markdown",
   "metadata": {},
   "source": [
    "Calling `x1 + x2` creates a new tensor containing the sum of the two inputs. However, we can also use in-place operations that are applied directly on the memory of a tensor. We therefore change the values of `x2` without the chance to re-accessing the values of `x2` before the operation. An example is shown below:"
   ]
  },
  {
   "cell_type": "code",
   "execution_count": 11,
   "metadata": {},
   "outputs": [
    {
     "name": "stdout",
     "output_type": "stream",
     "text": [
      "X1 (before) tensor([[0.5779, 0.9040, 0.5547],\n",
      "        [0.3423, 0.6343, 0.3644]])\n",
      "X2 (before) tensor([[0.7104, 0.9464, 0.7890],\n",
      "        [0.2814, 0.7886, 0.5895]])\n",
      "X1 (after) tensor([[0.5779, 0.9040, 0.5547],\n",
      "        [0.3423, 0.6343, 0.3644]])\n",
      "X2 (after) tensor([[1.2884, 1.8504, 1.3437],\n",
      "        [0.6237, 1.4230, 0.9539]])\n"
     ]
    }
   ],
   "source": [
    "x1 = torch.rand(2, 3)\n",
    "x2 = torch.rand(2, 3)\n",
    "print(\"X1 (before)\", x1)\n",
    "print(\"X2 (before)\", x2)\n",
    "\n",
    "x2.add_(x1)\n",
    "print(\"X1 (after)\", x1)\n",
    "print(\"X2 (after)\", x2)"
   ]
  },
  {
   "cell_type": "markdown",
   "metadata": {},
   "source": [
    "In-place operations are usually marked with a underscore postfix (e.g. \"add_\" instead of \"add\").\n",
    "\n",
    "Another common operation aims at changing the shape of a tensor. A tensor of size (2,3) can be re-organized to any other shape with the same number of elements (e.g. a tensor of size (6), or (3,2), ...). In PyTorch, this operation is called `view`:"
   ]
  },
  {
   "cell_type": "code",
   "execution_count": 12,
   "metadata": {},
   "outputs": [
    {
     "name": "stdout",
     "output_type": "stream",
     "text": [
      "X tensor([0, 1, 2, 3, 4, 5])\n"
     ]
    }
   ],
   "source": [
    "x = torch.arange(6)\n",
    "print(\"X\", x)"
   ]
  },
  {
   "cell_type": "code",
   "execution_count": 13,
   "metadata": {},
   "outputs": [
    {
     "name": "stdout",
     "output_type": "stream",
     "text": [
      "X tensor([[0, 1, 2],\n",
      "        [3, 4, 5]])\n"
     ]
    }
   ],
   "source": [
    "x = x.view(2, 3)\n",
    "print(\"X\", x)"
   ]
  },
  {
   "cell_type": "code",
   "execution_count": 14,
   "metadata": {},
   "outputs": [
    {
     "name": "stdout",
     "output_type": "stream",
     "text": [
      "X tensor([[0, 3],\n",
      "        [1, 4],\n",
      "        [2, 5]])\n"
     ]
    }
   ],
   "source": [
    "x = x.permute(1, 0) # Swapping dimension 0 and 1\n",
    "print(\"X\", x)"
   ]
  },
  {
   "cell_type": "markdown",
   "metadata": {},
   "source": [
    "Other commonly used operations include matrix multiplications, which are essential for neural networks. Quite often, we have an input vector $\\mathbf{x}$, which is transformed using a learned weight matrix $\\mathbf{W}$. There are multiple ways and functions to perform matrix multiplication, some of which we list below:\n",
    "\n",
    "* `torch.matmul`: Performs the matrix product over two tensors, where the specific behavior depends on the dimensions. If both inputs are matrices (2-dimensional tensors), it performs the standard matrix product. For higher dimensional inputs, the function supports broadcasting (for details see the [documentation](https://pytorch.org/docs/stable/generated/torch.matmul.html?highlight=matmul#torch.matmul)). Can also be written as `a @ b`, similar to numpy. \n",
    "* `torch.mm`: Performs the matrix product over two matrices, but doesn't support broadcasting (see [documentation](https://pytorch.org/docs/stable/generated/torch.mm.html?highlight=torch%20mm#torch.mm))\n",
    "* `torch.bmm`: Performs the matrix product with a support batch dimension. If the first tensor $T$ is of shape ($b\\times n\\times m$), and the second tensor $R$ ($b\\times m\\times p$), the output $O$ is of shape ($b\\times n\\times p$), and has been calculated by performing $b$ matrix multiplications of the submatrices of $T$ and $R$: $O_i = T_i @ R_i$\n",
    "* `torch.einsum`: Performs matrix multiplications and more (i.e. sums of products) using the Einstein summation convention. Explanation of the Einstein sum can be found in assignment 1.\n",
    "\n",
    "Usually, we use `torch.matmul` or `torch.bmm`. We can try a matrix multiplication with `torch.matmul` below."
   ]
  },
  {
   "cell_type": "code",
   "execution_count": 15,
   "metadata": {},
   "outputs": [
    {
     "name": "stdout",
     "output_type": "stream",
     "text": [
      "X tensor([[0, 1, 2],\n",
      "        [3, 4, 5]])\n"
     ]
    }
   ],
   "source": [
    "x = torch.arange(6)\n",
    "x = x.view(2, 3)\n",
    "print(\"X\", x)"
   ]
  },
  {
   "cell_type": "code",
   "execution_count": 16,
   "metadata": {},
   "outputs": [
    {
     "name": "stdout",
     "output_type": "stream",
     "text": [
      "W tensor([[0, 1, 2],\n",
      "        [3, 4, 5],\n",
      "        [6, 7, 8]])\n"
     ]
    }
   ],
   "source": [
    "W = torch.arange(9).view(3, 3) # We can also stack multiple operations in a single line\n",
    "print(\"W\", W)"
   ]
  },
  {
   "cell_type": "code",
   "execution_count": 17,
   "metadata": {},
   "outputs": [
    {
     "name": "stdout",
     "output_type": "stream",
     "text": [
      "h tensor([[15, 18, 21],\n",
      "        [42, 54, 66]])\n"
     ]
    }
   ],
   "source": [
    "h = torch.matmul(x, W) # Verify the result by calculating it by hand too!\n",
    "print(\"h\", h)"
   ]
  },
  {
   "cell_type": "markdown",
   "metadata": {},
   "source": [
    "#### Indexing\n",
    "\n",
    "We often have the situation where we need to select a part of a tensor. Indexing works just like in numpy, so let's try it:"
   ]
  },
  {
   "cell_type": "code",
   "execution_count": 18,
   "metadata": {},
   "outputs": [
    {
     "name": "stdout",
     "output_type": "stream",
     "text": [
      "X tensor([[ 0,  1,  2,  3],\n",
      "        [ 4,  5,  6,  7],\n",
      "        [ 8,  9, 10, 11]])\n"
     ]
    }
   ],
   "source": [
    "x = torch.arange(12).view(3, 4)\n",
    "print(\"X\", x)"
   ]
  },
  {
   "cell_type": "code",
   "execution_count": 19,
   "metadata": {},
   "outputs": [
    {
     "name": "stdout",
     "output_type": "stream",
     "text": [
      "tensor([1, 5, 9])\n"
     ]
    }
   ],
   "source": [
    "print(x[:, 1])   # Second column"
   ]
  },
  {
   "cell_type": "code",
   "execution_count": 20,
   "metadata": {},
   "outputs": [
    {
     "name": "stdout",
     "output_type": "stream",
     "text": [
      "tensor([0, 1, 2, 3])\n"
     ]
    }
   ],
   "source": [
    "print(x[0])      # First row"
   ]
  },
  {
   "cell_type": "code",
   "execution_count": 21,
   "metadata": {},
   "outputs": [
    {
     "name": "stdout",
     "output_type": "stream",
     "text": [
      "tensor([3, 7])\n"
     ]
    }
   ],
   "source": [
    "print(x[:2, -1]) # First two rows, last column"
   ]
  },
  {
   "cell_type": "code",
   "execution_count": 22,
   "metadata": {},
   "outputs": [
    {
     "name": "stdout",
     "output_type": "stream",
     "text": [
      "tensor([[ 4,  5,  6,  7],\n",
      "        [ 8,  9, 10, 11]])\n"
     ]
    }
   ],
   "source": [
    "print(x[1:3, :]) # Middle two rows"
   ]
  },
  {
   "cell_type": "markdown",
   "metadata": {},
   "source": [
    "### Dynamic Computation Graph and Backpropagation\n",
    "\n",
    "One of the main reasons for using PyTorch in Deep Learning projects is that we can automatically get **gradients/derivatives** of functions that we define. We will mainly use PyTorch for implementing neural networks, and they are just fancy functions. If we use weight matrices in our function that we want to learn, then those are called the **parameters** or simply the **weights**.\n",
    "\n",
    "If our neural network would output a single scalar value, we would talk about taking the **derivative**, but you will see that quite often we will have **multiple** output variables (\"values\"); in that case we talk about **gradients**. It's a more general term.\n",
    "\n",
    "Given an input $\\mathbf{x}$, we define our function by **manipulating** that input, usually by matrix-multiplications with weight matrices and additions with so-called bias vectors. As we manipulate our input, we are automatically creating a **computational graph**. This graph shows how to arrive at our output from our input. \n",
    "PyTorch is a **define-by-run** framework; this means that we can just do our manipulations, and PyTorch will keep track of that graph for us. Thus, we create a dynamic computation graph along the way.\n",
    "\n",
    "So, to recap: the only thing we have to do is to compute the **output**, and then we can ask PyTorch to automatically get the **gradients**. \n",
    "\n",
    "> **Note:  Why do we want gradients?** Consider that we have defined a function, a neural net, that is supposed to compute a certain output $y$ for an input vector $\\mathbf{x}$. We then define an **error measure** that tells us how wrong our network is; how bad it is in predicting output $y$ from input $\\mathbf{x}$. Based on this error measure, we can use the gradients to **update** the weights $\\mathbf{W}$ that were responsible for the output, so that the next time we present input $\\mathbf{x}$ to our network, the output will be closer to what we want.\n",
    "\n",
    "The first thing we have to do is to specify which tensors require gradients. By default, when we create a tensor, it does not require gradients."
   ]
  },
  {
   "cell_type": "code",
   "execution_count": 23,
   "metadata": {},
   "outputs": [
    {
     "name": "stdout",
     "output_type": "stream",
     "text": [
      "False\n"
     ]
    }
   ],
   "source": [
    "x = torch.ones((3,))\n",
    "print(x.requires_grad)"
   ]
  },
  {
   "cell_type": "markdown",
   "metadata": {},
   "source": [
    "We can change this for an existing tensor using the function `requires_grad_()` (underscore indicating that this is a in-place operation). Alternatively, when creating a tensor, you can pass the argument `requires_grad=True` to most initializers we have seen above."
   ]
  },
  {
   "cell_type": "code",
   "execution_count": 24,
   "metadata": {},
   "outputs": [
    {
     "name": "stdout",
     "output_type": "stream",
     "text": [
      "True\n"
     ]
    }
   ],
   "source": [
    "x.requires_grad_(True)\n",
    "print(x.requires_grad)"
   ]
  },
  {
   "cell_type": "markdown",
   "metadata": {},
   "source": [
    "In order to get familiar with the concept of a computation graph, we will create one for the following function:\n",
    "\n",
    "$$y = \\frac{1}{|x|}\\sum_i \\left[(x_i + 2)^2 + 3\\right]$$\n",
    "\n",
    "You could imagine that $x$ are our parameters, and we want to optimize (either maximize or minimize) the output $y$. For this, we want to obtain the gradients $\\partial y / \\partial \\mathbf{x}$. For our example, we'll use $\\mathbf{x}=[0,1,2]$ as our input."
   ]
  },
  {
   "cell_type": "code",
   "execution_count": 25,
   "metadata": {},
   "outputs": [
    {
     "name": "stdout",
     "output_type": "stream",
     "text": [
      "X tensor([0., 1., 2.], requires_grad=True)\n"
     ]
    }
   ],
   "source": [
    "x = torch.arange(3, dtype=torch.float32, requires_grad=True) # Only float tensors can have gradients\n",
    "print(\"X\", x)"
   ]
  },
  {
   "cell_type": "markdown",
   "metadata": {},
   "source": [
    "Now let's build the computation graph step by step. You can combine multiple operations in a single line, but we will separate them here to get a better understanding of how each operation is added to the computation graph."
   ]
  },
  {
   "cell_type": "code",
   "execution_count": 26,
   "metadata": {},
   "outputs": [
    {
     "name": "stdout",
     "output_type": "stream",
     "text": [
      "Y tensor(12.6667, grad_fn=<MeanBackward0>)\n"
     ]
    }
   ],
   "source": [
    "a = x + 2\n",
    "b = a ** 2\n",
    "c = b + 3\n",
    "y = c.mean()\n",
    "print(\"Y\", y)"
   ]
  },
  {
   "cell_type": "markdown",
   "metadata": {},
   "source": [
    "Using the statements above, we have created a computation graph that looks similar to the figure below:\n",
    "\n",
    "<center style=\"width: 100%\"><img src=\"pytorch_computation_graph.svg\" width=\"200px\"></center>\n",
    "\n",
    "We calculate $a$ based on the inputs $x$ and the constant $2$, $b$ is $a$ squared, and so on. The visualization is an abstraction of the dependencies between inputs and outputs of the operations we have applied.\n",
    "Each node of the computation graph has automatically defined a function for calculating the gradients with respect to its inputs, `grad_fn`. You can see this when we printed the output tensor $y$. This is why the computation graph is usually visualized in the reverse direction (arrows point from the result to the inputs). We can perform backpropagation on the computation graph by calling the function `backward()` on the last output, which effectively calculates the gradients for each tensor that has the property `requires_grad=True`:"
   ]
  },
  {
   "cell_type": "code",
   "execution_count": 27,
   "metadata": {},
   "outputs": [],
   "source": [
    "y.backward()"
   ]
  },
  {
   "cell_type": "markdown",
   "metadata": {},
   "source": [
    "`x.grad` will now contain the gradient $\\partial y/ \\partial \\mathcal{x}$, and this gradient indicates how a change in $\\mathbf{x}$ will affect output $y$ given the current input $\\mathbf{x}=[0,1,2]$:"
   ]
  },
  {
   "cell_type": "code",
   "execution_count": 28,
   "metadata": {},
   "outputs": [
    {
     "name": "stdout",
     "output_type": "stream",
     "text": [
      "tensor([1.3333, 2.0000, 2.6667])\n"
     ]
    }
   ],
   "source": [
    "print(x.grad)"
   ]
  },
  {
   "cell_type": "markdown",
   "metadata": {},
   "source": [
    "We can also verify these gradients by hand. We will calculate the gradients using the chain rule, in the same way as PyTorch did it:\n",
    "\n",
    "$$\\frac{\\partial y}{\\partial x_i} = \\frac{\\partial y}{\\partial c_i}\\frac{\\partial c_i}{\\partial b_i}\\frac{\\partial b_i}{\\partial a_i}\\frac{\\partial a_i}{\\partial x_i}$$\n",
    "\n",
    "Note that we have simplified this equation to index notation, and by using the fact that all operation besides the mean do not combine the elements in the tensor. The partial derivatives are:\n",
    "\n",
    "$$\n",
    "\\frac{\\partial a_i}{\\partial x_i} = 1,\\hspace{1cm}\n",
    "\\frac{\\partial b_i}{\\partial a_i} = 2\\cdot a_i\\hspace{1cm}\n",
    "\\frac{\\partial c_i}{\\partial b_i} = 1\\hspace{1cm}\n",
    "\\frac{\\partial y}{\\partial c_i} = \\frac{1}{3}\n",
    "$$\n",
    "\n",
    "Hence, with the input being $\\mathbf{x}=[0,1,2]$, our gradients are $\\partial y/\\partial \\mathbf{x}=[4/3,2,8/3]$. The previous code cell should have printed the same result."
   ]
  },
  {
   "cell_type": "markdown",
   "metadata": {},
   "source": [
    "### GPU support\n",
    "\n",
    "A crucial feature of PyTorch is the support of GPUs, short for Graphics Processing Unit. A GPU can perform many thousands of small operations in parallel, making it very well suitable for performing large matrix operations in neural networks. When comparing GPUs to CPUs, we can list the following main differences (credit: [Kevin Krewell, 2009](https://blogs.nvidia.com/blog/2009/12/16/whats-the-difference-between-a-cpu-and-a-gpu/)) \n",
    "\n",
    "<center style=\"width: 100%\"><img src=\"comparison_CPU_GPU.png\" width=\"700px\"></center>\n",
    "\n",
    "CPUs and GPUs have both different advantages and disadvantages, which is why many computers contain both components and use them for different tasks. In case you are not familiar with GPUs, you can read up more details in this [NVIDIA blog post](https://blogs.nvidia.com/blog/2009/12/16/whats-the-difference-between-a-cpu-and-a-gpu/) or [here](https://www.intel.com/content/www/us/en/products/docs/processors/what-is-a-gpu.html). \n",
    "\n",
    "GPUs can accelerate the training of your network up to a factor of $100$ which is essential for large neural networks. PyTorch implements a lot of functionality for supporting GPUs (mostly those of NVIDIA due to the libraries [CUDA](https://developer.nvidia.com/cuda-zone) and [cuDNN](https://developer.nvidia.com/cudnn)). First, let's check whether you have a GPU available:"
   ]
  },
  {
   "cell_type": "code",
   "execution_count": 29,
   "metadata": {},
   "outputs": [
    {
     "name": "stdout",
     "output_type": "stream",
     "text": [
      "Is the GPU available? False\n"
     ]
    }
   ],
   "source": [
    "gpu_avail = torch.cuda.is_available()\n",
    "print(f\"Is the GPU available? {gpu_avail}\")"
   ]
  },
  {
   "cell_type": "markdown",
   "metadata": {},
   "source": [
    "If you have a GPU on your computer but the command above returns False, make sure you have the correct CUDA-version installed. The `dl2021` environment comes with the CUDA-toolkit 11.3, which is selected for the Lisa supercomputer. Please change it if necessary (CUDA 11.1 is currently common on Colab). On Google Colab, make sure that you have selected a GPU in your runtime setup (in the menu, check under `Runtime -> Change runtime type`). \n",
    "\n",
    "By default, all tensors you create are stored on the CPU. We can push a tensor to the GPU by using the function `.to(...)`, or `.cuda()`. However, it is often a good practice to define a `device` object in your code which points to the GPU if you have one, and otherwise to the CPU. Then, you can write your code with respect to this device object, and it allows you to run the same code on both a CPU-only system, and one with a GPU. Let's try it below. We can specify the device as follows: "
   ]
  },
  {
   "cell_type": "code",
   "execution_count": 30,
   "metadata": {},
   "outputs": [
    {
     "name": "stdout",
     "output_type": "stream",
     "text": [
      "Device cpu\n"
     ]
    }
   ],
   "source": [
    "device = torch.device(\"cuda\") if torch.cuda.is_available() else torch.device(\"cpu\")\n",
    "print(\"Device\", device)"
   ]
  },
  {
   "cell_type": "markdown",
   "metadata": {},
   "source": [
    "Now let's create a tensor and push it to the device:"
   ]
  },
  {
   "cell_type": "code",
   "execution_count": 31,
   "metadata": {},
   "outputs": [
    {
     "name": "stdout",
     "output_type": "stream",
     "text": [
      "X tensor([[0., 0., 0.],\n",
      "        [0., 0., 0.]])\n"
     ]
    }
   ],
   "source": [
    "x = torch.zeros(2, 3)\n",
    "x = x.to(device)\n",
    "print(\"X\", x)"
   ]
  },
  {
   "cell_type": "markdown",
   "metadata": {},
   "source": [
    "In case you have a GPU, you should now see the attribute `device='cuda:0'` being printed next to your tensor. The zero next to cuda indicates that this is the zero-th GPU device on your computer. PyTorch also supports multi-GPU systems, but this you will only need once you have very big networks to train (if interested, see the [PyTorch documentation](https://pytorch.org/docs/stable/distributed.html#distributed-basics)). We can also compare the runtime of a large matrix multiplication on the CPU with a operation on the GPU:"
   ]
  },
  {
   "cell_type": "code",
   "execution_count": 32,
   "metadata": {},
   "outputs": [
    {
     "name": "stdout",
     "output_type": "stream",
     "text": [
      "CPU time: 0.23310s\n"
     ]
    }
   ],
   "source": [
    "x = torch.randn(5000, 5000)\n",
    "\n",
    "## CPU version\n",
    "start_time = time.time()\n",
    "_ = torch.matmul(x, x)\n",
    "end_time = time.time()\n",
    "print(f\"CPU time: {(end_time - start_time):6.5f}s\")\n",
    "\n",
    "## GPU version\n",
    "# x = x.to(device)\n",
    "# # CUDA is asynchronous, so we need to use different timing functions\n",
    "# start = torch.cuda.Event(enable_timing=True)\n",
    "# end = torch.cuda.Event(enable_timing=True)\n",
    "# start.record()\n",
    "# _ = torch.matmul(x, x)\n",
    "# end.record()\n",
    "# torch.cuda.synchronize()  # Waits for everything to finish running on the GPU\n",
    "# print(f\"GPU time: {0.001 * start.elapsed_time(end):6.5f}s\")  # Milliseconds to seconds"
   ]
  },
  {
   "cell_type": "markdown",
   "metadata": {},
   "source": [
    "Depending on the size of the operation and the CPU/GPU in your system, the speedup of this operation can be >50x. As `matmul` operations are very common in neural networks, we can already see the great benefit of training a NN on a GPU. The time estimate can be relatively noisy here because we haven't run it for multiple times. Feel free to extend this, but it also takes longer to run.\n",
    "\n",
    "When generating random numbers, the seed between CPU and GPU is not synchronized. Hence, we need to set the seed on the GPU separately to ensure a reproducible code. Note that due to different GPU architectures, running the same code on different GPUs does not guarantee the same random numbers. Still, we don't want that our code gives us a different output every time we run it on the exact same hardware. Hence, we also set the seed on the GPU:"
   ]
  },
  {
   "cell_type": "code",
   "execution_count": 33,
   "metadata": {},
   "outputs": [],
   "source": [
    "# GPU operations have a separate seed we also want to set\n",
    "if torch.cuda.is_available(): \n",
    "    torch.cuda.manual_seed(42)\n",
    "    torch.cuda.manual_seed_all(42)\n",
    "    \n",
    "# Additionally, some operations on a GPU are implemented stochastic for efficiency\n",
    "# We want to ensure that all operations are deterministic on GPU (if used) for reproducibility\n",
    "torch.backends.cudnn.determinstic = True\n",
    "torch.backends.cudnn.benchmark = False"
   ]
  },
  {
   "cell_type": "markdown",
   "metadata": {},
   "source": [
    "## Learning by example: Continuous XOR\n",
    "\n",
    "If we want to build a neural network in PyTorch, we could specify all our parameters (weight matrices, bias vectors) using `Tensors` (with `requires_grad=True`), ask PyTorch to calculate the gradients and then adjust the parameters. But things can quickly get cumbersome if we have a lot of parameters. In PyTorch, there is a package called `torch.nn` that makes building neural networks more convenient. \n",
    "\n",
    "We will introduce the libraries and all additional parts you might need to train a neural network in PyTorch, using a simple example classifier on a simple yet well known example: XOR. Given two binary inputs $x_1$ and $x_2$, the label to predict is $1$ if either $x_1$ or $x_2$ is $1$ while the other is $0$, or the label is $0$ in all other cases. The example became famous by the fact that a single neuron, i.e. a linear classifier, cannot learn this simple function.\n",
    "Hence, we will learn how to build a small neural network that can learn this function. \n",
    "To make it a little bit more interesting, we move the XOR into continuous space and introduce some gaussian noise on the binary inputs. Our desired separation of an XOR dataset could look as follows:\n",
    "\n",
    "<center style=\"width: 100%\"><img src=\"continuous_xor.svg\" width=\"350px\"></center>"
   ]
  },
  {
   "cell_type": "markdown",
   "metadata": {},
   "source": [
    "### The model\n",
    "\n",
    "The package `torch.nn` defines a series of useful classes like linear networks layers, activation functions, loss functions etc. A full list can be found [here](https://pytorch.org/docs/stable/nn.html). In case you need a certain network layer, check the documentation of the package first before writing the layer yourself as the package likely contains the code for it already. We import it below:"
   ]
  },
  {
   "cell_type": "code",
   "execution_count": 34,
   "metadata": {},
   "outputs": [],
   "source": [
    "import torch.nn as nn"
   ]
  },
  {
   "cell_type": "markdown",
   "metadata": {},
   "source": [
    "Additionally to `torch.nn`, there is also `torch.nn.functional`. It contains functions that are used in network layers. This is in contrast to `torch.nn` which defines them as `nn.Modules` (more on it below), and `torch.nn` actually uses a lot of functionalities from `torch.nn.functional`. Hence, the functional package is useful in many situations, and so we import it as well here."
   ]
  },
  {
   "cell_type": "code",
   "execution_count": 35,
   "metadata": {},
   "outputs": [],
   "source": [
    "import torch.nn.functional as F"
   ]
  },
  {
   "cell_type": "markdown",
   "metadata": {},
   "source": [
    "#### nn.Module\n",
    "\n",
    "In PyTorch, a neural network is built up out of modules. Modules can contain other modules, and a neural network is considered to be a module itself as well. The basic template of a module is as follows:"
   ]
  },
  {
   "cell_type": "code",
   "execution_count": 36,
   "metadata": {},
   "outputs": [],
   "source": [
    "class MyModule(nn.Module):\n",
    "    \n",
    "    def __init__(self):\n",
    "        super().__init__()\n",
    "        # Some init for my module\n",
    "        \n",
    "    def forward(self, x):\n",
    "        # Function for performing the calculation of the module.\n",
    "        pass"
   ]
  },
  {
   "cell_type": "markdown",
   "metadata": {},
   "source": [
    "The forward function is where the computation of the module is taken place, and is executed when you call the module (`nn = MyModule(); nn(x)`). In the init function, we usually create the parameters of the module, using `nn.Parameter`, or defining other modules that are used in the forward function. The backward calculation is done automatically, but could be overwritten as well if wanted.\n",
    "\n",
    "#### Simple classifier\n",
    "We can now make use of the pre-defined modules in the `torch.nn` package, and define our own small neural network. We will use a minimal network with a input layer, one hidden layer with tanh as activation function, and a output layer. In other words, our networks should look something like this:\n",
    "\n",
    "<center width=\"100%\"><img src=\"small_neural_network.svg\" width=\"300px\"></center>\n",
    "\n",
    "The input neurons are shown in blue, which represent the coordinates $x_1$ and $x_2$ of a data point. The hidden neurons including a tanh activation are shown in white, and the output neuron in red.\n",
    "In PyTorch, we can define this as follows:"
   ]
  },
  {
   "cell_type": "code",
   "execution_count": 37,
   "metadata": {},
   "outputs": [],
   "source": [
    "class SimpleClassifier(nn.Module):\n",
    "\n",
    "    def __init__(self, num_inputs, num_hidden, num_outputs):\n",
    "        super().__init__()\n",
    "        # Initialize the modules we need to build the network\n",
    "        self.linear1 = nn.Linear(num_inputs, num_hidden)\n",
    "        self.act_fn = nn.Tanh()\n",
    "        self.linear2 = nn.Linear(num_hidden, num_outputs)\n",
    "\n",
    "    def forward(self, x):\n",
    "        # Perform the calculation of the model to determine the prediction\n",
    "        x = self.linear1(x)\n",
    "        x = self.act_fn(x)\n",
    "        x = self.linear2(x)\n",
    "        return x\n",
    "\n",
    "    "
   ]
  },
  {
   "cell_type": "markdown",
   "metadata": {},
   "source": [
    "For the examples in this notebook, we will use a tiny neural network with two input neurons and four hidden neurons. As we perform binary classification, we will use a single output neuron. Note that we do not apply a sigmoid on the output yet. This is because other functions, especially the loss, are more efficient and precise to calculate on the original outputs instead of the sigmoid output. We will discuss the detailed reason later."
   ]
  },
  {
   "cell_type": "code",
   "execution_count": 38,
   "metadata": {},
   "outputs": [
    {
     "name": "stdout",
     "output_type": "stream",
     "text": [
      "SimpleClassifier(\n",
      "  (linear1): Linear(in_features=2, out_features=4, bias=True)\n",
      "  (act_fn): Tanh()\n",
      "  (linear2): Linear(in_features=4, out_features=1, bias=True)\n",
      ")\n"
     ]
    }
   ],
   "source": [
    "model = SimpleClassifier(num_inputs=2, num_hidden=4, num_outputs=1)\n",
    "# Printing a module shows all its submodules\n",
    "print(model)"
   ]
  },
  {
   "cell_type": "markdown",
   "metadata": {},
   "source": [
    "Printing the model lists all submodules it contains. The parameters of a module can be obtained by using its `parameters()` functions, or `named_parameters()` to get a name to each parameter object. For our small neural network, we have the following parameters:"
   ]
  },
  {
   "cell_type": "code",
   "execution_count": 39,
   "metadata": {},
   "outputs": [
    {
     "name": "stdout",
     "output_type": "stream",
     "text": [
      "Parameter linear1.weight, shape torch.Size([4, 2])\n",
      "Parameter linear1.bias, shape torch.Size([4])\n",
      "Parameter linear2.weight, shape torch.Size([1, 4])\n",
      "Parameter linear2.bias, shape torch.Size([1])\n"
     ]
    }
   ],
   "source": [
    "for name, param in model.named_parameters():\n",
    "    print(f\"Parameter {name}, shape {param.shape}\")"
   ]
  },
  {
   "cell_type": "markdown",
   "metadata": {},
   "source": [
    "Each linear layer has a weight matrix of the shape `[output, input]`, and a bias of the shape `[output]`. The tanh activation function does not have any parameters. Note that parameters are only registered for `nn.Module` objects that are direct object attributes, i.e. `self.a = ...`. If you define a list of modules, the parameters of those are not registered for the outer module and can cause some issues when you try to optimize your module. There are alternatives, like `nn.ModuleList`, `nn.ModuleDict` and `nn.Sequential`, that allow you to have different data structures of modules. We will use them in a few later tutorials and explain them there. "
   ]
  },
  {
   "cell_type": "markdown",
   "metadata": {},
   "source": [
    "### The data\n",
    "\n",
    "PyTorch also provides a few functionalities to load the training and test data efficiently, summarized in the package `torch.utils.data`."
   ]
  },
  {
   "cell_type": "code",
   "execution_count": 40,
   "metadata": {},
   "outputs": [],
   "source": [
    "import torch.utils.data as data"
   ]
  },
  {
   "cell_type": "markdown",
   "metadata": {},
   "source": [
    "The data package defines two classes which are the standard interface for handling data in PyTorch: `data.Dataset`, and `data.DataLoader`. The dataset class provides an uniform interface to access the training/test data, while the data loader makes sure to efficiently load and stack the data points from the dataset into batches during training."
   ]
  },
  {
   "cell_type": "markdown",
   "metadata": {},
   "source": [
    "#### The dataset class\n",
    "\n",
    "The dataset class summarizes the basic functionality of a dataset in a natural way. To define a dataset in PyTorch, we simply specify two functions: `__getitem__`, and `__len__`. The get-item function has to return the $i$-th data point in the dataset, while the len function returns the size of the dataset. For the XOR dataset, we can define the dataset class as follows:"
   ]
  },
  {
   "cell_type": "code",
   "execution_count": 41,
   "metadata": {},
   "outputs": [],
   "source": [
    "class XORDataset(data.Dataset):\n",
    "\n",
    "    def __init__(self, size, std=0.1):\n",
    "        \"\"\"\n",
    "        Inputs:\n",
    "            size - Number of data points we want to generate\n",
    "            std - Standard deviation of the noise (see generate_continuous_xor function)\n",
    "        \"\"\"\n",
    "        super().__init__()\n",
    "        self.size = size\n",
    "        self.std = std\n",
    "        self.generate_continuous_xor()\n",
    "\n",
    "    def generate_continuous_xor(self):\n",
    "        # Each data point in the XOR dataset has two variables, x and y, that can be either 0 or 1\n",
    "        # The label is their XOR combination, i.e. 1 if only x or only y is 1 while the other is 0.\n",
    "        # If x=y, the label is 0.\n",
    "        data = torch.randint(low=0, high=2, size=(self.size, 2), dtype=torch.float32)\n",
    "        label = (data.sum(dim=1) == 1).to(torch.long)\n",
    "        # To make it slightly more challenging, we add a bit of gaussian noise to the data points.\n",
    "        data += self.std * torch.randn(data.shape)\n",
    "\n",
    "        self.data = data\n",
    "        self.label = label\n",
    "\n",
    "    def __len__(self):\n",
    "        # Number of data point we have. Alternatively self.data.shape[0], or self.label.shape[0]\n",
    "        return self.size\n",
    "\n",
    "    def __getitem__(self, idx):\n",
    "        # Return the idx-th data point of the dataset\n",
    "        # If we have multiple things to return (data point and label), we can return them as tuple\n",
    "        data_point = self.data[idx]\n",
    "        data_label = self.label[idx]\n",
    "        return data_point, data_label"
   ]
  },
  {
   "cell_type": "markdown",
   "metadata": {},
   "source": [
    "Let's try to create such a dataset and inspect it:"
   ]
  },
  {
   "cell_type": "code",
   "execution_count": 42,
   "metadata": {},
   "outputs": [
    {
     "name": "stdout",
     "output_type": "stream",
     "text": [
      "Size of dataset: 200\n",
      "Data point 0: (tensor([0.9632, 0.1117]), tensor(1))\n"
     ]
    }
   ],
   "source": [
    "dataset = XORDataset(size=200, std = 0.1)\n",
    "print(\"Size of dataset:\", len(dataset))\n",
    "print(\"Data point 0:\", dataset[0])"
   ]
  },
  {
   "cell_type": "markdown",
   "metadata": {},
   "source": [
    "To better relate to the dataset, we visualize the samples below. "
   ]
  },
  {
   "cell_type": "code",
   "execution_count": 43,
   "metadata": {},
   "outputs": [],
   "source": [
    "def visualize_samples(data, label):\n",
    "    if isinstance(data, torch.Tensor):\n",
    "        data = data.cpu().numpy()\n",
    "    if isinstance(label, torch.Tensor):\n",
    "        label = label.cpu().numpy()\n",
    "    data_0 = data[label == 0]\n",
    "    data_1 = data[label == 1]\n",
    "    \n",
    "    plt.figure(figsize=(4,4))\n",
    "    plt.scatter(data_0[:,0], data_0[:,1], edgecolor=\"#333\", label=\"Class 0\")\n",
    "    plt.scatter(data_1[:,0], data_1[:,1], edgecolor=\"#333\", label=\"Class 1\")\n",
    "    plt.title(\"Dataset samples\")\n",
    "    plt.ylabel(r\"$x_2$\")\n",
    "    plt.xlabel(r\"$x_1$\")\n",
    "    plt.legend()"
   ]
  },
  {
   "cell_type": "code",
   "execution_count": 44,
   "metadata": {},
   "outputs": [
    {
     "data": {
      "application/pdf": "[encoded data removed]",
      "image/svg+xml": "<?xml version=\"1.0\" encoding=\"utf-8\" standalone=\"no\"?>\n<!DOCTYPE svg PUBLIC \"-//W3C//DTD SVG 1.1//EN\"\n  \"http://www.w3.org/Graphics/SVG/1.1/DTD/svg11.dtd\">\n<svg height=\"280.963594pt\" version=\"1.1\" viewBox=\"0 0 283.789062 280.963594\" width=\"283.789062pt\" xmlns=\"http://www.w3.org/2000/svg\" xmlns:xlink=\"http://www.w3.org/1999/xlink\">\n <metadata>\n  <rdf:RDF xmlns:cc=\"http://creativecommons.org/ns#\" xmlns:dc=\"http://purl.org/dc/elements/1.1/\" xmlns:rdf=\"http://www.w3.org/1999/02/22-rdf-syntax-ns#\">\n   <cc:Work>\n    <dc:type rdf:resource=\"http://purl.org/dc/dcmitype/StillImage\"/>\n    <dc:date>2022-03-23T12:53:33.993337</dc:date>\n    <dc:format>image/svg+xml</dc:format>\n    <dc:creator>\n     <cc:Agent>\n      <dc:title>Matplotlib v3.4.2, https://matplotlib.org/</dc:title>\n     </cc:Agent>\n    </dc:creator>\n   </cc:Work>\n  </rdf:RDF>\n </metadata>\n <defs>\n  <style type=\"text/css\">*{stroke-linecap:butt;stroke-linejoin:round;}</style>\n </defs>\n <g id=\"figure_1\">\n  <g id=\"patch_1\">\n   <path d=\"M 0 280.963594 \nL 283.789062 280.963594 \nL 283.789062 0 \nL 0 0 \nz\n\" style=\"fill:#ffffff;\"/>\n  </g>\n  <g id=\"axes_1\">\n   <g id=\"patch_2\">\n    <path d=\"M 53.389062 239.229375 \nL 276.589063 239.229375 \nL 276.589063 21.789375 \nL 53.389062 21.789375 \nz\n\" style=\"fill:#eaeaf2;\"/>\n   </g>\n   <g id=\"matplotlib.axis_1\">\n    <g id=\"xtick_1\">\n     <g id=\"line2d_1\">\n      <path clip-path=\"url(#p4014378eb3)\" d=\"M 98.50043 239.229375 \nL 98.50043 21.789375 \n\" style=\"fill:none;stroke:#ffffff;stroke-linecap:round;\"/>\n     </g>\n     <g id=\"text_1\">\n      <!-- 0.0 -->\n      <g style=\"fill:#262626;\" transform=\"translate(90.85543 256.602969)scale(0.11 -0.11)\">\n       <defs>\n        <path d=\"M 266 2259 \nQ 266 3072 433 3567 \nQ 600 4063 929 4331 \nQ 1259 4600 1759 4600 \nQ 2128 4600 2406 4451 \nQ 2684 4303 2865 4023 \nQ 3047 3744 3150 3342 \nQ 3253 2941 3253 2259 \nQ 3253 1453 3087 958 \nQ 2922 463 2592 192 \nQ 2263 -78 1759 -78 \nQ 1097 -78 719 397 \nQ 266 969 266 2259 \nz\nM 844 2259 \nQ 844 1131 1108 757 \nQ 1372 384 1759 384 \nQ 2147 384 2411 759 \nQ 2675 1134 2675 2259 \nQ 2675 3391 2411 3762 \nQ 2147 4134 1753 4134 \nQ 1366 4134 1134 3806 \nQ 844 3388 844 2259 \nz\n\" id=\"ArialMT-30\" transform=\"scale(0.015625)\"/>\n        <path d=\"M 581 0 \nL 581 641 \nL 1222 641 \nL 1222 0 \nL 581 0 \nz\n\" id=\"ArialMT-2e\" transform=\"scale(0.015625)\"/>\n       </defs>\n       <use xlink:href=\"#ArialMT-30\"/>\n       <use x=\"55.615234\" xlink:href=\"#ArialMT-2e\"/>\n       <use x=\"83.398438\" xlink:href=\"#ArialMT-30\"/>\n      </g>\n     </g>\n    </g>\n    <g id=\"xtick_2\">\n     <g id=\"line2d_2\">\n      <path clip-path=\"url(#p4014378eb3)\" d=\"M 167.852486 239.229375 \nL 167.852486 21.789375 \n\" style=\"fill:none;stroke:#ffffff;stroke-linecap:round;\"/>\n     </g>\n     <g id=\"text_2\">\n      <!-- 0.5 -->\n      <g style=\"fill:#262626;\" transform=\"translate(160.207486 256.602969)scale(0.11 -0.11)\">\n       <defs>\n        <path d=\"M 266 1200 \nL 856 1250 \nQ 922 819 1161 601 \nQ 1400 384 1738 384 \nQ 2144 384 2425 690 \nQ 2706 997 2706 1503 \nQ 2706 1984 2436 2262 \nQ 2166 2541 1728 2541 \nQ 1456 2541 1237 2417 \nQ 1019 2294 894 2097 \nL 366 2166 \nL 809 4519 \nL 3088 4519 \nL 3088 3981 \nL 1259 3981 \nL 1013 2750 \nQ 1425 3038 1878 3038 \nQ 2478 3038 2890 2622 \nQ 3303 2206 3303 1553 \nQ 3303 931 2941 478 \nQ 2500 -78 1738 -78 \nQ 1113 -78 717 272 \nQ 322 622 266 1200 \nz\n\" id=\"ArialMT-35\" transform=\"scale(0.015625)\"/>\n       </defs>\n       <use xlink:href=\"#ArialMT-30\"/>\n       <use x=\"55.615234\" xlink:href=\"#ArialMT-2e\"/>\n       <use x=\"83.398438\" xlink:href=\"#ArialMT-35\"/>\n      </g>\n     </g>\n    </g>\n    <g id=\"xtick_3\">\n     <g id=\"line2d_3\">\n      <path clip-path=\"url(#p4014378eb3)\" d=\"M 237.204542 239.229375 \nL 237.204542 21.789375 \n\" style=\"fill:none;stroke:#ffffff;stroke-linecap:round;\"/>\n     </g>\n     <g id=\"text_3\">\n      <!-- 1.0 -->\n      <g style=\"fill:#262626;\" transform=\"translate(229.559542 256.602969)scale(0.11 -0.11)\">\n       <defs>\n        <path d=\"M 2384 0 \nL 1822 0 \nL 1822 3584 \nQ 1619 3391 1289 3197 \nQ 959 3003 697 2906 \nL 697 3450 \nQ 1169 3672 1522 3987 \nQ 1875 4303 2022 4600 \nL 2384 4600 \nL 2384 0 \nz\n\" id=\"ArialMT-31\" transform=\"scale(0.015625)\"/>\n       </defs>\n       <use xlink:href=\"#ArialMT-31\"/>\n       <use x=\"55.615234\" xlink:href=\"#ArialMT-2e\"/>\n       <use x=\"83.398438\" xlink:href=\"#ArialMT-30\"/>\n      </g>\n     </g>\n    </g>\n    <g id=\"text_4\">\n     <!-- $x_1$ -->\n     <g style=\"fill:#262626;\" transform=\"translate(158.569063 271.378594)scale(0.12 -0.12)\">\n      <defs>\n       <path d=\"M 3841 3500 \nL 2234 1784 \nL 3219 0 \nL 2559 0 \nL 1819 1388 \nL 531 0 \nL -166 0 \nL 1556 1844 \nL 641 3500 \nL 1300 3500 \nL 1972 2234 \nL 3144 3500 \nL 3841 3500 \nz\n\" id=\"DejaVuSans-Oblique-78\" transform=\"scale(0.015625)\"/>\n       <path d=\"M 794 531 \nL 1825 531 \nL 1825 4091 \nL 703 3866 \nL 703 4441 \nL 1819 4666 \nL 2450 4666 \nL 2450 531 \nL 3481 531 \nL 3481 0 \nL 794 0 \nL 794 531 \nz\n\" id=\"DejaVuSans-31\" transform=\"scale(0.015625)\"/>\n      </defs>\n      <use transform=\"translate(0 0.3125)\" xlink:href=\"#DejaVuSans-Oblique-78\"/>\n      <use transform=\"translate(59.179688 -16.09375)scale(0.7)\" xlink:href=\"#DejaVuSans-31\"/>\n     </g>\n    </g>\n   </g>\n   <g id=\"matplotlib.axis_2\">\n    <g id=\"ytick_1\">\n     <g id=\"line2d_4\">\n      <path clip-path=\"url(#p4014378eb3)\" d=\"M 53.389062 223.41392 \nL 276.589063 223.41392 \n\" style=\"fill:none;stroke:#ffffff;stroke-linecap:round;\"/>\n     </g>\n     <g id=\"text_5\">\n      <!-- −0.2 -->\n      <g style=\"fill:#262626;\" transform=\"translate(22.174375 227.350717)scale(0.11 -0.11)\">\n       <defs>\n        <path d=\"M 3381 1997 \nL 356 1997 \nL 356 2522 \nL 3381 2522 \nL 3381 1997 \nz\n\" id=\"ArialMT-2212\" transform=\"scale(0.015625)\"/>\n        <path d=\"M 3222 541 \nL 3222 0 \nL 194 0 \nQ 188 203 259 391 \nQ 375 700 629 1000 \nQ 884 1300 1366 1694 \nQ 2113 2306 2375 2664 \nQ 2638 3022 2638 3341 \nQ 2638 3675 2398 3904 \nQ 2159 4134 1775 4134 \nQ 1369 4134 1125 3890 \nQ 881 3647 878 3216 \nL 300 3275 \nQ 359 3922 746 4261 \nQ 1134 4600 1788 4600 \nQ 2447 4600 2831 4234 \nQ 3216 3869 3216 3328 \nQ 3216 3053 3103 2787 \nQ 2991 2522 2730 2228 \nQ 2469 1934 1863 1422 \nQ 1356 997 1212 845 \nQ 1069 694 975 541 \nL 3222 541 \nz\n\" id=\"ArialMT-32\" transform=\"scale(0.015625)\"/>\n       </defs>\n       <use xlink:href=\"#ArialMT-2212\"/>\n       <use x=\"58.398438\" xlink:href=\"#ArialMT-30\"/>\n       <use x=\"114.013672\" xlink:href=\"#ArialMT-2e\"/>\n       <use x=\"141.796875\" xlink:href=\"#ArialMT-32\"/>\n      </g>\n     </g>\n    </g>\n    <g id=\"ytick_2\">\n     <g id=\"line2d_5\">\n      <path clip-path=\"url(#p4014378eb3)\" d=\"M 53.389062 195.806867 \nL 276.589063 195.806867 \n\" style=\"fill:none;stroke:#ffffff;stroke-linecap:round;\"/>\n     </g>\n     <g id=\"text_6\">\n      <!-- 0.0 -->\n      <g style=\"fill:#262626;\" transform=\"translate(28.599062 199.743664)scale(0.11 -0.11)\">\n       <use xlink:href=\"#ArialMT-30\"/>\n       <use x=\"55.615234\" xlink:href=\"#ArialMT-2e\"/>\n       <use x=\"83.398438\" xlink:href=\"#ArialMT-30\"/>\n      </g>\n     </g>\n    </g>\n    <g id=\"ytick_3\">\n     <g id=\"line2d_6\">\n      <path clip-path=\"url(#p4014378eb3)\" d=\"M 53.389062 168.199814 \nL 276.589063 168.199814 \n\" style=\"fill:none;stroke:#ffffff;stroke-linecap:round;\"/>\n     </g>\n     <g id=\"text_7\">\n      <!-- 0.2 -->\n      <g style=\"fill:#262626;\" transform=\"translate(28.599062 172.136611)scale(0.11 -0.11)\">\n       <use xlink:href=\"#ArialMT-30\"/>\n       <use x=\"55.615234\" xlink:href=\"#ArialMT-2e\"/>\n       <use x=\"83.398438\" xlink:href=\"#ArialMT-32\"/>\n      </g>\n     </g>\n    </g>\n    <g id=\"ytick_4\">\n     <g id=\"line2d_7\">\n      <path clip-path=\"url(#p4014378eb3)\" d=\"M 53.389062 140.59276 \nL 276.589063 140.59276 \n\" style=\"fill:none;stroke:#ffffff;stroke-linecap:round;\"/>\n     </g>\n     <g id=\"text_8\">\n      <!-- 0.4 -->\n      <g style=\"fill:#262626;\" transform=\"translate(28.599062 144.529557)scale(0.11 -0.11)\">\n       <defs>\n        <path d=\"M 2069 0 \nL 2069 1097 \nL 81 1097 \nL 81 1613 \nL 2172 4581 \nL 2631 4581 \nL 2631 1613 \nL 3250 1613 \nL 3250 1097 \nL 2631 1097 \nL 2631 0 \nL 2069 0 \nz\nM 2069 1613 \nL 2069 3678 \nL 634 1613 \nL 2069 1613 \nz\n\" id=\"ArialMT-34\" transform=\"scale(0.015625)\"/>\n       </defs>\n       <use xlink:href=\"#ArialMT-30\"/>\n       <use x=\"55.615234\" xlink:href=\"#ArialMT-2e\"/>\n       <use x=\"83.398438\" xlink:href=\"#ArialMT-34\"/>\n      </g>\n     </g>\n    </g>\n    <g id=\"ytick_5\">\n     <g id=\"line2d_8\">\n      <path clip-path=\"url(#p4014378eb3)\" d=\"M 53.389062 112.985707 \nL 276.589063 112.985707 \n\" style=\"fill:none;stroke:#ffffff;stroke-linecap:round;\"/>\n     </g>\n     <g id=\"text_9\">\n      <!-- 0.6 -->\n      <g style=\"fill:#262626;\" transform=\"translate(28.599062 116.922504)scale(0.11 -0.11)\">\n       <defs>\n        <path d=\"M 3184 3459 \nL 2625 3416 \nQ 2550 3747 2413 3897 \nQ 2184 4138 1850 4138 \nQ 1581 4138 1378 3988 \nQ 1113 3794 959 3422 \nQ 806 3050 800 2363 \nQ 1003 2672 1297 2822 \nQ 1591 2972 1913 2972 \nQ 2475 2972 2870 2558 \nQ 3266 2144 3266 1488 \nQ 3266 1056 3080 686 \nQ 2894 316 2569 119 \nQ 2244 -78 1831 -78 \nQ 1128 -78 684 439 \nQ 241 956 241 2144 \nQ 241 3472 731 4075 \nQ 1159 4600 1884 4600 \nQ 2425 4600 2770 4297 \nQ 3116 3994 3184 3459 \nz\nM 888 1484 \nQ 888 1194 1011 928 \nQ 1134 663 1356 523 \nQ 1578 384 1822 384 \nQ 2178 384 2434 671 \nQ 2691 959 2691 1453 \nQ 2691 1928 2437 2201 \nQ 2184 2475 1800 2475 \nQ 1419 2475 1153 2201 \nQ 888 1928 888 1484 \nz\n\" id=\"ArialMT-36\" transform=\"scale(0.015625)\"/>\n       </defs>\n       <use xlink:href=\"#ArialMT-30\"/>\n       <use x=\"55.615234\" xlink:href=\"#ArialMT-2e\"/>\n       <use x=\"83.398438\" xlink:href=\"#ArialMT-36\"/>\n      </g>\n     </g>\n    </g>\n    <g id=\"ytick_6\">\n     <g id=\"line2d_9\">\n      <path clip-path=\"url(#p4014378eb3)\" d=\"M 53.389062 85.378654 \nL 276.589063 85.378654 \n\" style=\"fill:none;stroke:#ffffff;stroke-linecap:round;\"/>\n     </g>\n     <g id=\"text_10\">\n      <!-- 0.8 -->\n      <g style=\"fill:#262626;\" transform=\"translate(28.599062 89.315451)scale(0.11 -0.11)\">\n       <defs>\n        <path d=\"M 1131 2484 \nQ 781 2613 612 2850 \nQ 444 3088 444 3419 \nQ 444 3919 803 4259 \nQ 1163 4600 1759 4600 \nQ 2359 4600 2725 4251 \nQ 3091 3903 3091 3403 \nQ 3091 3084 2923 2848 \nQ 2756 2613 2416 2484 \nQ 2838 2347 3058 2040 \nQ 3278 1734 3278 1309 \nQ 3278 722 2862 322 \nQ 2447 -78 1769 -78 \nQ 1091 -78 675 323 \nQ 259 725 259 1325 \nQ 259 1772 486 2073 \nQ 713 2375 1131 2484 \nz\nM 1019 3438 \nQ 1019 3113 1228 2906 \nQ 1438 2700 1772 2700 \nQ 2097 2700 2305 2904 \nQ 2513 3109 2513 3406 \nQ 2513 3716 2298 3927 \nQ 2084 4138 1766 4138 \nQ 1444 4138 1231 3931 \nQ 1019 3725 1019 3438 \nz\nM 838 1322 \nQ 838 1081 952 856 \nQ 1066 631 1291 507 \nQ 1516 384 1775 384 \nQ 2178 384 2440 643 \nQ 2703 903 2703 1303 \nQ 2703 1709 2433 1975 \nQ 2163 2241 1756 2241 \nQ 1359 2241 1098 1978 \nQ 838 1716 838 1322 \nz\n\" id=\"ArialMT-38\" transform=\"scale(0.015625)\"/>\n       </defs>\n       <use xlink:href=\"#ArialMT-30\"/>\n       <use x=\"55.615234\" xlink:href=\"#ArialMT-2e\"/>\n       <use x=\"83.398438\" xlink:href=\"#ArialMT-38\"/>\n      </g>\n     </g>\n    </g>\n    <g id=\"ytick_7\">\n     <g id=\"line2d_10\">\n      <path clip-path=\"url(#p4014378eb3)\" d=\"M 53.389062 57.771601 \nL 276.589063 57.771601 \n\" style=\"fill:none;stroke:#ffffff;stroke-linecap:round;\"/>\n     </g>\n     <g id=\"text_11\">\n      <!-- 1.0 -->\n      <g style=\"fill:#262626;\" transform=\"translate(28.599062 61.708397)scale(0.11 -0.11)\">\n       <use xlink:href=\"#ArialMT-31\"/>\n       <use x=\"55.615234\" xlink:href=\"#ArialMT-2e\"/>\n       <use x=\"83.398438\" xlink:href=\"#ArialMT-30\"/>\n      </g>\n     </g>\n    </g>\n    <g id=\"ytick_8\">\n     <g id=\"line2d_11\">\n      <path clip-path=\"url(#p4014378eb3)\" d=\"M 53.389062 30.164547 \nL 276.589063 30.164547 \n\" style=\"fill:none;stroke:#ffffff;stroke-linecap:round;\"/>\n     </g>\n     <g id=\"text_12\">\n      <!-- 1.2 -->\n      <g style=\"fill:#262626;\" transform=\"translate(28.599062 34.101344)scale(0.11 -0.11)\">\n       <use xlink:href=\"#ArialMT-31\"/>\n       <use x=\"55.615234\" xlink:href=\"#ArialMT-2e\"/>\n       <use x=\"83.398438\" xlink:href=\"#ArialMT-32\"/>\n      </g>\n     </g>\n    </g>\n    <g id=\"text_13\">\n     <!-- $x_2$ -->\n     <g style=\"fill:#262626;\" transform=\"translate(15.789375 136.929375)rotate(-90)scale(0.12 -0.12)\">\n      <defs>\n       <path d=\"M 1228 531 \nL 3431 531 \nL 3431 0 \nL 469 0 \nL 469 531 \nQ 828 903 1448 1529 \nQ 2069 2156 2228 2338 \nQ 2531 2678 2651 2914 \nQ 2772 3150 2772 3378 \nQ 2772 3750 2511 3984 \nQ 2250 4219 1831 4219 \nQ 1534 4219 1204 4116 \nQ 875 4013 500 3803 \nL 500 4441 \nQ 881 4594 1212 4672 \nQ 1544 4750 1819 4750 \nQ 2544 4750 2975 4387 \nQ 3406 4025 3406 3419 \nQ 3406 3131 3298 2873 \nQ 3191 2616 2906 2266 \nQ 2828 2175 2409 1742 \nQ 1991 1309 1228 531 \nz\n\" id=\"DejaVuSans-32\" transform=\"scale(0.015625)\"/>\n      </defs>\n      <use transform=\"translate(0 0.3125)\" xlink:href=\"#DejaVuSans-Oblique-78\"/>\n      <use transform=\"translate(59.179688 -16.09375)scale(0.7)\" xlink:href=\"#DejaVuSans-32\"/>\n     </g>\n    </g>\n   </g>\n   <g id=\"PathCollection_1\">\n    <defs>\n     <path d=\"M 0 3 \nC 0.795609 3 1.55874 2.683901 2.12132 2.12132 \nC 2.683901 1.55874 3 0.795609 3 0 \nC 3 -0.795609 2.683901 -1.55874 2.12132 -2.12132 \nC 1.55874 -2.683901 0.795609 -3 0 -3 \nC -0.795609 -3 -1.55874 -2.683901 -2.12132 -2.12132 \nC -2.683901 -1.55874 -3 -0.795609 -3 0 \nC -3 0.795609 -2.683901 1.55874 -2.12132 2.12132 \nC -1.55874 2.683901 -0.795609 3 0 3 \nz\n\" id=\"m911fd0afb5\" style=\"stroke:#333333;\"/>\n    </defs>\n    <g clip-path=\"url(#p4014378eb3)\">\n     <use style=\"fill:#4c72b0;stroke:#333333;\" x=\"97.539805\" xlink:href=\"#m911fd0afb5\" y=\"192.796594\"/>\n     <use style=\"fill:#4c72b0;stroke:#333333;\" x=\"233.285782\" xlink:href=\"#m911fd0afb5\" y=\"61.616299\"/>\n     <use style=\"fill:#4c72b0;stroke:#333333;\" x=\"260.207567\" xlink:href=\"#m911fd0afb5\" y=\"63.251712\"/>\n     <use style=\"fill:#4c72b0;stroke:#333333;\" x=\"110.141493\" xlink:href=\"#m911fd0afb5\" y=\"203.880828\"/>\n     <use style=\"fill:#4c72b0;stroke:#333333;\" x=\"102.553933\" xlink:href=\"#m911fd0afb5\" y=\"204.514265\"/>\n     <use style=\"fill:#4c72b0;stroke:#333333;\" x=\"72.211579\" xlink:href=\"#m911fd0afb5\" y=\"189.031679\"/>\n     <use style=\"fill:#4c72b0;stroke:#333333;\" x=\"244.113666\" xlink:href=\"#m911fd0afb5\" y=\"58.037383\"/>\n     <use style=\"fill:#4c72b0;stroke:#333333;\" x=\"233.244834\" xlink:href=\"#m911fd0afb5\" y=\"50.911771\"/>\n     <use style=\"fill:#4c72b0;stroke:#333333;\" x=\"95.207068\" xlink:href=\"#m911fd0afb5\" y=\"204.021937\"/>\n     <use style=\"fill:#4c72b0;stroke:#333333;\" x=\"238.767099\" xlink:href=\"#m911fd0afb5\" y=\"53.043297\"/>\n     <use style=\"fill:#4c72b0;stroke:#333333;\" x=\"104.771234\" xlink:href=\"#m911fd0afb5\" y=\"199.781085\"/>\n     <use style=\"fill:#4c72b0;stroke:#333333;\" x=\"256.783223\" xlink:href=\"#m911fd0afb5\" y=\"31.673011\"/>\n     <use style=\"fill:#4c72b0;stroke:#333333;\" x=\"239.286127\" xlink:href=\"#m911fd0afb5\" y=\"62.060973\"/>\n     <use style=\"fill:#4c72b0;stroke:#333333;\" x=\"233.398186\" xlink:href=\"#m911fd0afb5\" y=\"57.225703\"/>\n     <use style=\"fill:#4c72b0;stroke:#333333;\" x=\"95.492302\" xlink:href=\"#m911fd0afb5\" y=\"212.097418\"/>\n     <use style=\"fill:#4c72b0;stroke:#333333;\" x=\"90.45996\" xlink:href=\"#m911fd0afb5\" y=\"184.508921\"/>\n     <use style=\"fill:#4c72b0;stroke:#333333;\" x=\"252.495546\" xlink:href=\"#m911fd0afb5\" y=\"90.284942\"/>\n     <use style=\"fill:#4c72b0;stroke:#333333;\" x=\"256.043604\" xlink:href=\"#m911fd0afb5\" y=\"83.224352\"/>\n     <use style=\"fill:#4c72b0;stroke:#333333;\" x=\"227.333462\" xlink:href=\"#m911fd0afb5\" y=\"58.609485\"/>\n     <use style=\"fill:#4c72b0;stroke:#333333;\" x=\"83.251017\" xlink:href=\"#m911fd0afb5\" y=\"208.673493\"/>\n     <use style=\"fill:#4c72b0;stroke:#333333;\" x=\"255.201254\" xlink:href=\"#m911fd0afb5\" y=\"32.09617\"/>\n     <use style=\"fill:#4c72b0;stroke:#333333;\" x=\"246.379035\" xlink:href=\"#m911fd0afb5\" y=\"59.427048\"/>\n     <use style=\"fill:#4c72b0;stroke:#333333;\" x=\"115.650112\" xlink:href=\"#m911fd0afb5\" y=\"175.30868\"/>\n     <use style=\"fill:#4c72b0;stroke:#333333;\" x=\"229.885909\" xlink:href=\"#m911fd0afb5\" y=\"31.807499\"/>\n     <use style=\"fill:#4c72b0;stroke:#333333;\" x=\"101.009139\" xlink:href=\"#m911fd0afb5\" y=\"194.248465\"/>\n     <use style=\"fill:#4c72b0;stroke:#333333;\" x=\"229.0353\" xlink:href=\"#m911fd0afb5\" y=\"50.97616\"/>\n     <use style=\"fill:#4c72b0;stroke:#333333;\" x=\"88.109479\" xlink:href=\"#m911fd0afb5\" y=\"178.963998\"/>\n     <use style=\"fill:#4c72b0;stroke:#333333;\" x=\"251.955188\" xlink:href=\"#m911fd0afb5\" y=\"48.24534\"/>\n     <use style=\"fill:#4c72b0;stroke:#333333;\" x=\"247.624405\" xlink:href=\"#m911fd0afb5\" y=\"60.983995\"/>\n     <use style=\"fill:#4c72b0;stroke:#333333;\" x=\"241.407644\" xlink:href=\"#m911fd0afb5\" y=\"43.16526\"/>\n     <use style=\"fill:#4c72b0;stroke:#333333;\" x=\"93.569105\" xlink:href=\"#m911fd0afb5\" y=\"183.844502\"/>\n     <use style=\"fill:#4c72b0;stroke:#333333;\" x=\"105.73424\" xlink:href=\"#m911fd0afb5\" y=\"209.180969\"/>\n     <use style=\"fill:#4c72b0;stroke:#333333;\" x=\"88.588564\" xlink:href=\"#m911fd0afb5\" y=\"169.096852\"/>\n     <use style=\"fill:#4c72b0;stroke:#333333;\" x=\"98.973611\" xlink:href=\"#m911fd0afb5\" y=\"200.790079\"/>\n     <use style=\"fill:#4c72b0;stroke:#333333;\" x=\"113.430582\" xlink:href=\"#m911fd0afb5\" y=\"200.338872\"/>\n     <use style=\"fill:#4c72b0;stroke:#333333;\" x=\"94.61486\" xlink:href=\"#m911fd0afb5\" y=\"195.173102\"/>\n     <use style=\"fill:#4c72b0;stroke:#333333;\" x=\"114.190533\" xlink:href=\"#m911fd0afb5\" y=\"211.683003\"/>\n     <use style=\"fill:#4c72b0;stroke:#333333;\" x=\"215.151649\" xlink:href=\"#m911fd0afb5\" y=\"39.091573\"/>\n     <use style=\"fill:#4c72b0;stroke:#333333;\" x=\"254.637069\" xlink:href=\"#m911fd0afb5\" y=\"64.076079\"/>\n     <use style=\"fill:#4c72b0;stroke:#333333;\" x=\"239.430724\" xlink:href=\"#m911fd0afb5\" y=\"63.231036\"/>\n     <use style=\"fill:#4c72b0;stroke:#333333;\" x=\"94.562884\" xlink:href=\"#m911fd0afb5\" y=\"204.881855\"/>\n     <use style=\"fill:#4c72b0;stroke:#333333;\" x=\"223.92514\" xlink:href=\"#m911fd0afb5\" y=\"88.563896\"/>\n     <use style=\"fill:#4c72b0;stroke:#333333;\" x=\"247.295643\" xlink:href=\"#m911fd0afb5\" y=\"56.252615\"/>\n     <use style=\"fill:#4c72b0;stroke:#333333;\" x=\"99.136481\" xlink:href=\"#m911fd0afb5\" y=\"211.598331\"/>\n     <use style=\"fill:#4c72b0;stroke:#333333;\" x=\"111.837037\" xlink:href=\"#m911fd0afb5\" y=\"217.149042\"/>\n     <use style=\"fill:#4c72b0;stroke:#333333;\" x=\"120.506731\" xlink:href=\"#m911fd0afb5\" y=\"176.49922\"/>\n     <use style=\"fill:#4c72b0;stroke:#333333;\" x=\"230.6594\" xlink:href=\"#m911fd0afb5\" y=\"71.339329\"/>\n     <use style=\"fill:#4c72b0;stroke:#333333;\" x=\"218.336148\" xlink:href=\"#m911fd0afb5\" y=\"43.829963\"/>\n     <use style=\"fill:#4c72b0;stroke:#333333;\" x=\"91.649126\" xlink:href=\"#m911fd0afb5\" y=\"205.284806\"/>\n     <use style=\"fill:#4c72b0;stroke:#333333;\" x=\"231.865739\" xlink:href=\"#m911fd0afb5\" y=\"67.956937\"/>\n     <use style=\"fill:#4c72b0;stroke:#333333;\" x=\"99.870646\" xlink:href=\"#m911fd0afb5\" y=\"200.504594\"/>\n     <use style=\"fill:#4c72b0;stroke:#333333;\" x=\"243.524679\" xlink:href=\"#m911fd0afb5\" y=\"33.080514\"/>\n     <use style=\"fill:#4c72b0;stroke:#333333;\" x=\"96.395169\" xlink:href=\"#m911fd0afb5\" y=\"188.231284\"/>\n     <use style=\"fill:#4c72b0;stroke:#333333;\" x=\"228.888058\" xlink:href=\"#m911fd0afb5\" y=\"76.047203\"/>\n     <use style=\"fill:#4c72b0;stroke:#333333;\" x=\"240.390719\" xlink:href=\"#m911fd0afb5\" y=\"46.907755\"/>\n     <use style=\"fill:#4c72b0;stroke:#333333;\" x=\"72.21366\" xlink:href=\"#m911fd0afb5\" y=\"190.080253\"/>\n     <use style=\"fill:#4c72b0;stroke:#333333;\" x=\"218.212807\" xlink:href=\"#m911fd0afb5\" y=\"46.668317\"/>\n     <use style=\"fill:#4c72b0;stroke:#333333;\" x=\"248.57056\" xlink:href=\"#m911fd0afb5\" y=\"65.08615\"/>\n     <use style=\"fill:#4c72b0;stroke:#333333;\" x=\"84.170637\" xlink:href=\"#m911fd0afb5\" y=\"196.294339\"/>\n     <use style=\"fill:#4c72b0;stroke:#333333;\" x=\"95.838332\" xlink:href=\"#m911fd0afb5\" y=\"229.345739\"/>\n     <use style=\"fill:#4c72b0;stroke:#333333;\" x=\"95.293269\" xlink:href=\"#m911fd0afb5\" y=\"199.343495\"/>\n     <use style=\"fill:#4c72b0;stroke:#333333;\" x=\"77.154625\" xlink:href=\"#m911fd0afb5\" y=\"199.478787\"/>\n     <use style=\"fill:#4c72b0;stroke:#333333;\" x=\"262.790256\" xlink:href=\"#m911fd0afb5\" y=\"65.223862\"/>\n     <use style=\"fill:#4c72b0;stroke:#333333;\" x=\"228.879584\" xlink:href=\"#m911fd0afb5\" y=\"73.230825\"/>\n     <use style=\"fill:#4c72b0;stroke:#333333;\" x=\"254.79415\" xlink:href=\"#m911fd0afb5\" y=\"39.151107\"/>\n     <use style=\"fill:#4c72b0;stroke:#333333;\" x=\"77.718849\" xlink:href=\"#m911fd0afb5\" y=\"184.792307\"/>\n     <use style=\"fill:#4c72b0;stroke:#333333;\" x=\"240.12565\" xlink:href=\"#m911fd0afb5\" y=\"81.900837\"/>\n     <use style=\"fill:#4c72b0;stroke:#333333;\" x=\"250.451214\" xlink:href=\"#m911fd0afb5\" y=\"89.132839\"/>\n     <use style=\"fill:#4c72b0;stroke:#333333;\" x=\"119.616061\" xlink:href=\"#m911fd0afb5\" y=\"217.774818\"/>\n     <use style=\"fill:#4c72b0;stroke:#333333;\" x=\"109.938832\" xlink:href=\"#m911fd0afb5\" y=\"206.541797\"/>\n     <use style=\"fill:#4c72b0;stroke:#333333;\" x=\"96.188484\" xlink:href=\"#m911fd0afb5\" y=\"189.495096\"/>\n     <use style=\"fill:#4c72b0;stroke:#333333;\" x=\"97.03243\" xlink:href=\"#m911fd0afb5\" y=\"187.182806\"/>\n     <use style=\"fill:#4c72b0;stroke:#333333;\" x=\"240.737471\" xlink:href=\"#m911fd0afb5\" y=\"53.340674\"/>\n     <use style=\"fill:#4c72b0;stroke:#333333;\" x=\"228.199143\" xlink:href=\"#m911fd0afb5\" y=\"87.625356\"/>\n     <use style=\"fill:#4c72b0;stroke:#333333;\" x=\"96.144984\" xlink:href=\"#m911fd0afb5\" y=\"194.992808\"/>\n     <use style=\"fill:#4c72b0;stroke:#333333;\" x=\"108.219394\" xlink:href=\"#m911fd0afb5\" y=\"186.321721\"/>\n     <use style=\"fill:#4c72b0;stroke:#333333;\" x=\"109.796082\" xlink:href=\"#m911fd0afb5\" y=\"193.589053\"/>\n     <use style=\"fill:#4c72b0;stroke:#333333;\" x=\"240.455536\" xlink:href=\"#m911fd0afb5\" y=\"37.061723\"/>\n     <use style=\"fill:#4c72b0;stroke:#333333;\" x=\"239.545509\" xlink:href=\"#m911fd0afb5\" y=\"35.225533\"/>\n     <use style=\"fill:#4c72b0;stroke:#333333;\" x=\"98.222624\" xlink:href=\"#m911fd0afb5\" y=\"207.579594\"/>\n     <use style=\"fill:#4c72b0;stroke:#333333;\" x=\"251.260163\" xlink:href=\"#m911fd0afb5\" y=\"37.172844\"/>\n     <use style=\"fill:#4c72b0;stroke:#333333;\" x=\"233.587526\" xlink:href=\"#m911fd0afb5\" y=\"71.845948\"/>\n     <use style=\"fill:#4c72b0;stroke:#333333;\" x=\"249.427841\" xlink:href=\"#m911fd0afb5\" y=\"33.045119\"/>\n     <use style=\"fill:#4c72b0;stroke:#333333;\" x=\"89.657172\" xlink:href=\"#m911fd0afb5\" y=\"192.42429\"/>\n     <use style=\"fill:#4c72b0;stroke:#333333;\" x=\"235.498695\" xlink:href=\"#m911fd0afb5\" y=\"47.466685\"/>\n     <use style=\"fill:#4c72b0;stroke:#333333;\" x=\"99.764129\" xlink:href=\"#m911fd0afb5\" y=\"211.986675\"/>\n     <use style=\"fill:#4c72b0;stroke:#333333;\" x=\"109.028232\" xlink:href=\"#m911fd0afb5\" y=\"203.781956\"/>\n     <use style=\"fill:#4c72b0;stroke:#333333;\" x=\"88.954921\" xlink:href=\"#m911fd0afb5\" y=\"190.687839\"/>\n     <use style=\"fill:#4c72b0;stroke:#333333;\" x=\"214.045123\" xlink:href=\"#m911fd0afb5\" y=\"53.312601\"/>\n     <use style=\"fill:#4c72b0;stroke:#333333;\" x=\"226.396293\" xlink:href=\"#m911fd0afb5\" y=\"47.312386\"/>\n     <use style=\"fill:#4c72b0;stroke:#333333;\" x=\"203.870869\" xlink:href=\"#m911fd0afb5\" y=\"44.164363\"/>\n     <use style=\"fill:#4c72b0;stroke:#333333;\" x=\"88.209656\" xlink:href=\"#m911fd0afb5\" y=\"191.006099\"/>\n     <use style=\"fill:#4c72b0;stroke:#333333;\" x=\"117.915548\" xlink:href=\"#m911fd0afb5\" y=\"206.446396\"/>\n     <use style=\"fill:#4c72b0;stroke:#333333;\" x=\"93.004906\" xlink:href=\"#m911fd0afb5\" y=\"209.289121\"/>\n     <use style=\"fill:#4c72b0;stroke:#333333;\" x=\"227.120221\" xlink:href=\"#m911fd0afb5\" y=\"90.176684\"/>\n     <use style=\"fill:#4c72b0;stroke:#333333;\" x=\"103.315363\" xlink:href=\"#m911fd0afb5\" y=\"194.774524\"/>\n     <use style=\"fill:#4c72b0;stroke:#333333;\" x=\"96.133368\" xlink:href=\"#m911fd0afb5\" y=\"188.619367\"/>\n     <use style=\"fill:#4c72b0;stroke:#333333;\" x=\"90.744113\" xlink:href=\"#m911fd0afb5\" y=\"199.694644\"/>\n     <use style=\"fill:#4c72b0;stroke:#333333;\" x=\"100.395289\" xlink:href=\"#m911fd0afb5\" y=\"207.677376\"/>\n     <use style=\"fill:#4c72b0;stroke:#333333;\" x=\"212.80607\" xlink:href=\"#m911fd0afb5\" y=\"57.339227\"/>\n     <use style=\"fill:#4c72b0;stroke:#333333;\" x=\"221.979538\" xlink:href=\"#m911fd0afb5\" y=\"40.940845\"/>\n     <use style=\"fill:#4c72b0;stroke:#333333;\" x=\"73.365903\" xlink:href=\"#m911fd0afb5\" y=\"213.916732\"/>\n     <use style=\"fill:#4c72b0;stroke:#333333;\" x=\"237.144488\" xlink:href=\"#m911fd0afb5\" y=\"79.936174\"/>\n    </g>\n   </g>\n   <g id=\"PathCollection_2\">\n    <defs>\n     <path d=\"M 0 3 \nC 0.795609 3 1.55874 2.683901 2.12132 2.12132 \nC 2.683901 1.55874 3 0.795609 3 0 \nC 3 -0.795609 2.683901 -1.55874 2.12132 -2.12132 \nC 1.55874 -2.683901 0.795609 -3 0 -3 \nC -0.795609 -3 -1.55874 -2.683901 -2.12132 -2.12132 \nC -2.683901 -1.55874 -3 -0.795609 -3 0 \nC -3 0.795609 -2.683901 1.55874 -2.12132 2.12132 \nC -1.55874 2.683901 -0.795609 3 0 3 \nz\n\" id=\"m881157b2f7\" style=\"stroke:#333333;\"/>\n    </defs>\n    <g clip-path=\"url(#p4014378eb3)\">\n     <use style=\"fill:#dd8452;stroke:#333333;\" x=\"232.105188\" xlink:href=\"#m881157b2f7\" y=\"180.384807\"/>\n     <use style=\"fill:#dd8452;stroke:#333333;\" x=\"245.070552\" xlink:href=\"#m881157b2f7\" y=\"180.655236\"/>\n     <use style=\"fill:#dd8452;stroke:#333333;\" x=\"233.245222\" xlink:href=\"#m881157b2f7\" y=\"198.403574\"/>\n     <use style=\"fill:#dd8452;stroke:#333333;\" x=\"90.974501\" xlink:href=\"#m881157b2f7\" y=\"44.864248\"/>\n     <use style=\"fill:#dd8452;stroke:#333333;\" x=\"251.914562\" xlink:href=\"#m881157b2f7\" y=\"201.070978\"/>\n     <use style=\"fill:#dd8452;stroke:#333333;\" x=\"101.62853\" xlink:href=\"#m881157b2f7\" y=\"63.024739\"/>\n     <use style=\"fill:#dd8452;stroke:#333333;\" x=\"221.090163\" xlink:href=\"#m881157b2f7\" y=\"210.821264\"/>\n     <use style=\"fill:#dd8452;stroke:#333333;\" x=\"131.826785\" xlink:href=\"#m881157b2f7\" y=\"59.070277\"/>\n     <use style=\"fill:#dd8452;stroke:#333333;\" x=\"248.764183\" xlink:href=\"#m881157b2f7\" y=\"216.668216\"/>\n     <use style=\"fill:#dd8452;stroke:#333333;\" x=\"216.025291\" xlink:href=\"#m881157b2f7\" y=\"185.029159\"/>\n     <use style=\"fill:#dd8452;stroke:#333333;\" x=\"231.135032\" xlink:href=\"#m881157b2f7\" y=\"172.489138\"/>\n     <use style=\"fill:#dd8452;stroke:#333333;\" x=\"66.959267\" xlink:href=\"#m881157b2f7\" y=\"44.038054\"/>\n     <use style=\"fill:#dd8452;stroke:#333333;\" x=\"117.813699\" xlink:href=\"#m881157b2f7\" y=\"45.004264\"/>\n     <use style=\"fill:#dd8452;stroke:#333333;\" x=\"97.705625\" xlink:href=\"#m881157b2f7\" y=\"75.967075\"/>\n     <use style=\"fill:#dd8452;stroke:#333333;\" x=\"98.016512\" xlink:href=\"#m881157b2f7\" y=\"41.562716\"/>\n     <use style=\"fill:#dd8452;stroke:#333333;\" x=\"76.936672\" xlink:href=\"#m881157b2f7\" y=\"38.501823\"/>\n     <use style=\"fill:#dd8452;stroke:#333333;\" x=\"235.150182\" xlink:href=\"#m881157b2f7\" y=\"201.228468\"/>\n     <use style=\"fill:#dd8452;stroke:#333333;\" x=\"217.510895\" xlink:href=\"#m881157b2f7\" y=\"180.237981\"/>\n     <use style=\"fill:#dd8452;stroke:#333333;\" x=\"227.173678\" xlink:href=\"#m881157b2f7\" y=\"182.303982\"/>\n     <use style=\"fill:#dd8452;stroke:#333333;\" x=\"109.116969\" xlink:href=\"#m881157b2f7\" y=\"58.73029\"/>\n     <use style=\"fill:#dd8452;stroke:#333333;\" x=\"213.494439\" xlink:href=\"#m881157b2f7\" y=\"191.618659\"/>\n     <use style=\"fill:#dd8452;stroke:#333333;\" x=\"258.317538\" xlink:href=\"#m881157b2f7\" y=\"200.013787\"/>\n     <use style=\"fill:#dd8452;stroke:#333333;\" x=\"249.756222\" xlink:href=\"#m881157b2f7\" y=\"197.579163\"/>\n     <use style=\"fill:#dd8452;stroke:#333333;\" x=\"224.503784\" xlink:href=\"#m881157b2f7\" y=\"201.58701\"/>\n     <use style=\"fill:#dd8452;stroke:#333333;\" x=\"255.852775\" xlink:href=\"#m881157b2f7\" y=\"175.927404\"/>\n     <use style=\"fill:#dd8452;stroke:#333333;\" x=\"84.428858\" xlink:href=\"#m881157b2f7\" y=\"69.646627\"/>\n     <use style=\"fill:#dd8452;stroke:#333333;\" x=\"252.952221\" xlink:href=\"#m881157b2f7\" y=\"178.861314\"/>\n     <use style=\"fill:#dd8452;stroke:#333333;\" x=\"112.047412\" xlink:href=\"#m881157b2f7\" y=\"54.594453\"/>\n     <use style=\"fill:#dd8452;stroke:#333333;\" x=\"233.354476\" xlink:href=\"#m881157b2f7\" y=\"178.140314\"/>\n     <use style=\"fill:#dd8452;stroke:#333333;\" x=\"69.726027\" xlink:href=\"#m881157b2f7\" y=\"56.444876\"/>\n     <use style=\"fill:#dd8452;stroke:#333333;\" x=\"96.454791\" xlink:href=\"#m881157b2f7\" y=\"65.591494\"/>\n     <use style=\"fill:#dd8452;stroke:#333333;\" x=\"224.621099\" xlink:href=\"#m881157b2f7\" y=\"208.143884\"/>\n     <use style=\"fill:#dd8452;stroke:#333333;\" x=\"216.173386\" xlink:href=\"#m881157b2f7\" y=\"182.604972\"/>\n     <use style=\"fill:#dd8452;stroke:#333333;\" x=\"101.433743\" xlink:href=\"#m881157b2f7\" y=\"60.132881\"/>\n     <use style=\"fill:#dd8452;stroke:#333333;\" x=\"245.355299\" xlink:href=\"#m881157b2f7\" y=\"183.33084\"/>\n     <use style=\"fill:#dd8452;stroke:#333333;\" x=\"102.010224\" xlink:href=\"#m881157b2f7\" y=\"68.005257\"/>\n     <use style=\"fill:#dd8452;stroke:#333333;\" x=\"98.914098\" xlink:href=\"#m881157b2f7\" y=\"70.755643\"/>\n     <use style=\"fill:#dd8452;stroke:#333333;\" x=\"262.469315\" xlink:href=\"#m881157b2f7\" y=\"208.828836\"/>\n     <use style=\"fill:#dd8452;stroke:#333333;\" x=\"232.764406\" xlink:href=\"#m881157b2f7\" y=\"179.545819\"/>\n     <use style=\"fill:#dd8452;stroke:#333333;\" x=\"85.660167\" xlink:href=\"#m881157b2f7\" y=\"55.297348\"/>\n     <use style=\"fill:#dd8452;stroke:#333333;\" x=\"115.932552\" xlink:href=\"#m881157b2f7\" y=\"57.352621\"/>\n     <use style=\"fill:#dd8452;stroke:#333333;\" x=\"119.367708\" xlink:href=\"#m881157b2f7\" y=\"39.753775\"/>\n     <use style=\"fill:#dd8452;stroke:#333333;\" x=\"245.559437\" xlink:href=\"#m881157b2f7\" y=\"205.799575\"/>\n     <use style=\"fill:#dd8452;stroke:#333333;\" x=\"86.16558\" xlink:href=\"#m881157b2f7\" y=\"59.456289\"/>\n     <use style=\"fill:#dd8452;stroke:#333333;\" x=\"230.339153\" xlink:href=\"#m881157b2f7\" y=\"184.725889\"/>\n     <use style=\"fill:#dd8452;stroke:#333333;\" x=\"101.093971\" xlink:href=\"#m881157b2f7\" y=\"72.97568\"/>\n     <use style=\"fill:#dd8452;stroke:#333333;\" x=\"109.002647\" xlink:href=\"#m881157b2f7\" y=\"49.599445\"/>\n     <use style=\"fill:#dd8452;stroke:#333333;\" x=\"107.909658\" xlink:href=\"#m881157b2f7\" y=\"53.04751\"/>\n     <use style=\"fill:#dd8452;stroke:#333333;\" x=\"221.52822\" xlink:href=\"#m881157b2f7\" y=\"185.625392\"/>\n     <use style=\"fill:#dd8452;stroke:#333333;\" x=\"86.159265\" xlink:href=\"#m881157b2f7\" y=\"76.979359\"/>\n     <use style=\"fill:#dd8452;stroke:#333333;\" x=\"106.719623\" xlink:href=\"#m881157b2f7\" y=\"47.632849\"/>\n     <use style=\"fill:#dd8452;stroke:#333333;\" x=\"213.246003\" xlink:href=\"#m881157b2f7\" y=\"181.675673\"/>\n     <use style=\"fill:#dd8452;stroke:#333333;\" x=\"240.008649\" xlink:href=\"#m881157b2f7\" y=\"210.063284\"/>\n     <use style=\"fill:#dd8452;stroke:#333333;\" x=\"104.149069\" xlink:href=\"#m881157b2f7\" y=\"48.142529\"/>\n     <use style=\"fill:#dd8452;stroke:#333333;\" x=\"110.455243\" xlink:href=\"#m881157b2f7\" y=\"67.262491\"/>\n     <use style=\"fill:#dd8452;stroke:#333333;\" x=\"220.144636\" xlink:href=\"#m881157b2f7\" y=\"194.581985\"/>\n     <use style=\"fill:#dd8452;stroke:#333333;\" x=\"211.640596\" xlink:href=\"#m881157b2f7\" y=\"197.278796\"/>\n     <use style=\"fill:#dd8452;stroke:#333333;\" x=\"107.637359\" xlink:href=\"#m881157b2f7\" y=\"61.841289\"/>\n     <use style=\"fill:#dd8452;stroke:#333333;\" x=\"63.534517\" xlink:href=\"#m881157b2f7\" y=\"69.010581\"/>\n     <use style=\"fill:#dd8452;stroke:#333333;\" x=\"93.062578\" xlink:href=\"#m881157b2f7\" y=\"76.940427\"/>\n     <use style=\"fill:#dd8452;stroke:#333333;\" x=\"110.711384\" xlink:href=\"#m881157b2f7\" y=\"51.587615\"/>\n     <use style=\"fill:#dd8452;stroke:#333333;\" x=\"88.755485\" xlink:href=\"#m881157b2f7\" y=\"62.694493\"/>\n     <use style=\"fill:#dd8452;stroke:#333333;\" x=\"95.262724\" xlink:href=\"#m881157b2f7\" y=\"55.240035\"/>\n     <use style=\"fill:#dd8452;stroke:#333333;\" x=\"111.341492\" xlink:href=\"#m881157b2f7\" y=\"67.732333\"/>\n     <use style=\"fill:#dd8452;stroke:#333333;\" x=\"258.54643\" xlink:href=\"#m881157b2f7\" y=\"201.788971\"/>\n     <use style=\"fill:#dd8452;stroke:#333333;\" x=\"80.99024\" xlink:href=\"#m881157b2f7\" y=\"39.319229\"/>\n     <use style=\"fill:#dd8452;stroke:#333333;\" x=\"259.276624\" xlink:href=\"#m881157b2f7\" y=\"184.484016\"/>\n     <use style=\"fill:#dd8452;stroke:#333333;\" x=\"246.017287\" xlink:href=\"#m881157b2f7\" y=\"171.336552\"/>\n     <use style=\"fill:#dd8452;stroke:#333333;\" x=\"215.702515\" xlink:href=\"#m881157b2f7\" y=\"210.770601\"/>\n     <use style=\"fill:#dd8452;stroke:#333333;\" x=\"219.61596\" xlink:href=\"#m881157b2f7\" y=\"226.724914\"/>\n     <use style=\"fill:#dd8452;stroke:#333333;\" x=\"99.475157\" xlink:href=\"#m881157b2f7\" y=\"40.818617\"/>\n     <use style=\"fill:#dd8452;stroke:#333333;\" x=\"222.319345\" xlink:href=\"#m881157b2f7\" y=\"178.431076\"/>\n     <use style=\"fill:#dd8452;stroke:#333333;\" x=\"209.011362\" xlink:href=\"#m881157b2f7\" y=\"164.49609\"/>\n     <use style=\"fill:#dd8452;stroke:#333333;\" x=\"85.714514\" xlink:href=\"#m881157b2f7\" y=\"46.591554\"/>\n     <use style=\"fill:#dd8452;stroke:#333333;\" x=\"109.548621\" xlink:href=\"#m881157b2f7\" y=\"59.318354\"/>\n     <use style=\"fill:#dd8452;stroke:#333333;\" x=\"248.253075\" xlink:href=\"#m881157b2f7\" y=\"183.765191\"/>\n     <use style=\"fill:#dd8452;stroke:#333333;\" x=\"93.252248\" xlink:href=\"#m881157b2f7\" y=\"50.871243\"/>\n     <use style=\"fill:#dd8452;stroke:#333333;\" x=\"105.204158\" xlink:href=\"#m881157b2f7\" y=\"61.049791\"/>\n     <use style=\"fill:#dd8452;stroke:#333333;\" x=\"103.603578\" xlink:href=\"#m881157b2f7\" y=\"64.288037\"/>\n     <use style=\"fill:#dd8452;stroke:#333333;\" x=\"231.755146\" xlink:href=\"#m881157b2f7\" y=\"176.642577\"/>\n     <use style=\"fill:#dd8452;stroke:#333333;\" x=\"239.712924\" xlink:href=\"#m881157b2f7\" y=\"167.421426\"/>\n     <use style=\"fill:#dd8452;stroke:#333333;\" x=\"248.56813\" xlink:href=\"#m881157b2f7\" y=\"184.651214\"/>\n     <use style=\"fill:#dd8452;stroke:#333333;\" x=\"136.036725\" xlink:href=\"#m881157b2f7\" y=\"58.775961\"/>\n     <use style=\"fill:#dd8452;stroke:#333333;\" x=\"214.954778\" xlink:href=\"#m881157b2f7\" y=\"213.049411\"/>\n     <use style=\"fill:#dd8452;stroke:#333333;\" x=\"266.443608\" xlink:href=\"#m881157b2f7\" y=\"212.097698\"/>\n     <use style=\"fill:#dd8452;stroke:#333333;\" x=\"228.067567\" xlink:href=\"#m881157b2f7\" y=\"209.064452\"/>\n     <use style=\"fill:#dd8452;stroke:#333333;\" x=\"89.68311\" xlink:href=\"#m881157b2f7\" y=\"69.273533\"/>\n     <use style=\"fill:#dd8452;stroke:#333333;\" x=\"87.428766\" xlink:href=\"#m881157b2f7\" y=\"58.77272\"/>\n     <use style=\"fill:#dd8452;stroke:#333333;\" x=\"250.936693\" xlink:href=\"#m881157b2f7\" y=\"211.938418\"/>\n     <use style=\"fill:#dd8452;stroke:#333333;\" x=\"87.867838\" xlink:href=\"#m881157b2f7\" y=\"66.205754\"/>\n     <use style=\"fill:#dd8452;stroke:#333333;\" x=\"73.777213\" xlink:href=\"#m881157b2f7\" y=\"61.2591\"/>\n     <use style=\"fill:#dd8452;stroke:#333333;\" x=\"117.555359\" xlink:href=\"#m881157b2f7\" y=\"48.087733\"/>\n     <use style=\"fill:#dd8452;stroke:#333333;\" x=\"90.852757\" xlink:href=\"#m881157b2f7\" y=\"51.062813\"/>\n     <use style=\"fill:#dd8452;stroke:#333333;\" x=\"258.598101\" xlink:href=\"#m881157b2f7\" y=\"209.454152\"/>\n     <use style=\"fill:#dd8452;stroke:#333333;\" x=\"210.562353\" xlink:href=\"#m881157b2f7\" y=\"191.426962\"/>\n     <use style=\"fill:#dd8452;stroke:#333333;\" x=\"99.36688\" xlink:href=\"#m881157b2f7\" y=\"44.037528\"/>\n     <use style=\"fill:#dd8452;stroke:#333333;\" x=\"255.847203\" xlink:href=\"#m881157b2f7\" y=\"207.03156\"/>\n    </g>\n   </g>\n   <g id=\"patch_3\">\n    <path d=\"M 53.389062 239.229375 \nL 53.389062 21.789375 \n\" style=\"fill:none;stroke:#ffffff;stroke-linecap:square;stroke-linejoin:miter;stroke-width:1.25;\"/>\n   </g>\n   <g id=\"patch_4\">\n    <path d=\"M 276.589063 239.229375 \nL 276.589063 21.789375 \n\" style=\"fill:none;stroke:#ffffff;stroke-linecap:square;stroke-linejoin:miter;stroke-width:1.25;\"/>\n   </g>\n   <g id=\"patch_5\">\n    <path d=\"M 53.389063 239.229375 \nL 276.589062 239.229375 \n\" style=\"fill:none;stroke:#ffffff;stroke-linecap:square;stroke-linejoin:miter;stroke-width:1.25;\"/>\n   </g>\n   <g id=\"patch_6\">\n    <path d=\"M 53.389063 21.789375 \nL 276.589062 21.789375 \n\" style=\"fill:none;stroke:#ffffff;stroke-linecap:square;stroke-linejoin:miter;stroke-width:1.25;\"/>\n   </g>\n   <g id=\"text_14\">\n    <!-- Dataset samples -->\n    <g style=\"fill:#262626;\" transform=\"translate(120.305 15.789375)scale(0.12 -0.12)\">\n     <defs>\n      <path d=\"M 494 0 \nL 494 4581 \nL 2072 4581 \nQ 2606 4581 2888 4516 \nQ 3281 4425 3559 4188 \nQ 3922 3881 4101 3404 \nQ 4281 2928 4281 2316 \nQ 4281 1794 4159 1391 \nQ 4038 988 3847 723 \nQ 3656 459 3429 307 \nQ 3203 156 2883 78 \nQ 2563 0 2147 0 \nL 494 0 \nz\nM 1100 541 \nL 2078 541 \nQ 2531 541 2789 625 \nQ 3047 709 3200 863 \nQ 3416 1078 3536 1442 \nQ 3656 1806 3656 2325 \nQ 3656 3044 3420 3430 \nQ 3184 3816 2847 3947 \nQ 2603 4041 2063 4041 \nL 1100 4041 \nL 1100 541 \nz\n\" id=\"ArialMT-44\" transform=\"scale(0.015625)\"/>\n      <path d=\"M 2588 409 \nQ 2275 144 1986 34 \nQ 1697 -75 1366 -75 \nQ 819 -75 525 192 \nQ 231 459 231 875 \nQ 231 1119 342 1320 \nQ 453 1522 633 1644 \nQ 813 1766 1038 1828 \nQ 1203 1872 1538 1913 \nQ 2219 1994 2541 2106 \nQ 2544 2222 2544 2253 \nQ 2544 2597 2384 2738 \nQ 2169 2928 1744 2928 \nQ 1347 2928 1158 2789 \nQ 969 2650 878 2297 \nL 328 2372 \nQ 403 2725 575 2942 \nQ 747 3159 1072 3276 \nQ 1397 3394 1825 3394 \nQ 2250 3394 2515 3294 \nQ 2781 3194 2906 3042 \nQ 3031 2891 3081 2659 \nQ 3109 2516 3109 2141 \nL 3109 1391 \nQ 3109 606 3145 398 \nQ 3181 191 3288 0 \nL 2700 0 \nQ 2613 175 2588 409 \nz\nM 2541 1666 \nQ 2234 1541 1622 1453 \nQ 1275 1403 1131 1340 \nQ 988 1278 909 1158 \nQ 831 1038 831 891 \nQ 831 666 1001 516 \nQ 1172 366 1500 366 \nQ 1825 366 2078 508 \nQ 2331 650 2450 897 \nQ 2541 1088 2541 1459 \nL 2541 1666 \nz\n\" id=\"ArialMT-61\" transform=\"scale(0.015625)\"/>\n      <path d=\"M 1650 503 \nL 1731 6 \nQ 1494 -44 1306 -44 \nQ 1000 -44 831 53 \nQ 663 150 594 308 \nQ 525 466 525 972 \nL 525 2881 \nL 113 2881 \nL 113 3319 \nL 525 3319 \nL 525 4141 \nL 1084 4478 \nL 1084 3319 \nL 1650 3319 \nL 1650 2881 \nL 1084 2881 \nL 1084 941 \nQ 1084 700 1114 631 \nQ 1144 563 1211 522 \nQ 1278 481 1403 481 \nQ 1497 481 1650 503 \nz\n\" id=\"ArialMT-74\" transform=\"scale(0.015625)\"/>\n      <path d=\"M 197 991 \nL 753 1078 \nQ 800 744 1014 566 \nQ 1228 388 1613 388 \nQ 2000 388 2187 545 \nQ 2375 703 2375 916 \nQ 2375 1106 2209 1216 \nQ 2094 1291 1634 1406 \nQ 1016 1563 777 1677 \nQ 538 1791 414 1992 \nQ 291 2194 291 2438 \nQ 291 2659 392 2848 \nQ 494 3038 669 3163 \nQ 800 3259 1026 3326 \nQ 1253 3394 1513 3394 \nQ 1903 3394 2198 3281 \nQ 2494 3169 2634 2976 \nQ 2775 2784 2828 2463 \nL 2278 2388 \nQ 2241 2644 2061 2787 \nQ 1881 2931 1553 2931 \nQ 1166 2931 1000 2803 \nQ 834 2675 834 2503 \nQ 834 2394 903 2306 \nQ 972 2216 1119 2156 \nQ 1203 2125 1616 2013 \nQ 2213 1853 2448 1751 \nQ 2684 1650 2818 1456 \nQ 2953 1263 2953 975 \nQ 2953 694 2789 445 \nQ 2625 197 2315 61 \nQ 2006 -75 1616 -75 \nQ 969 -75 630 194 \nQ 291 463 197 991 \nz\n\" id=\"ArialMT-73\" transform=\"scale(0.015625)\"/>\n      <path d=\"M 2694 1069 \nL 3275 997 \nQ 3138 488 2766 206 \nQ 2394 -75 1816 -75 \nQ 1088 -75 661 373 \nQ 234 822 234 1631 \nQ 234 2469 665 2931 \nQ 1097 3394 1784 3394 \nQ 2450 3394 2872 2941 \nQ 3294 2488 3294 1666 \nQ 3294 1616 3291 1516 \nL 816 1516 \nQ 847 969 1125 678 \nQ 1403 388 1819 388 \nQ 2128 388 2347 550 \nQ 2566 713 2694 1069 \nz\nM 847 1978 \nL 2700 1978 \nQ 2663 2397 2488 2606 \nQ 2219 2931 1791 2931 \nQ 1403 2931 1139 2672 \nQ 875 2413 847 1978 \nz\n\" id=\"ArialMT-65\" transform=\"scale(0.015625)\"/>\n      <path id=\"ArialMT-20\" transform=\"scale(0.015625)\"/>\n      <path d=\"M 422 0 \nL 422 3319 \nL 925 3319 \nL 925 2853 \nQ 1081 3097 1340 3245 \nQ 1600 3394 1931 3394 \nQ 2300 3394 2536 3241 \nQ 2772 3088 2869 2813 \nQ 3263 3394 3894 3394 \nQ 4388 3394 4653 3120 \nQ 4919 2847 4919 2278 \nL 4919 0 \nL 4359 0 \nL 4359 2091 \nQ 4359 2428 4304 2576 \nQ 4250 2725 4106 2815 \nQ 3963 2906 3769 2906 \nQ 3419 2906 3187 2673 \nQ 2956 2441 2956 1928 \nL 2956 0 \nL 2394 0 \nL 2394 2156 \nQ 2394 2531 2256 2718 \nQ 2119 2906 1806 2906 \nQ 1569 2906 1367 2781 \nQ 1166 2656 1075 2415 \nQ 984 2175 984 1722 \nL 984 0 \nL 422 0 \nz\n\" id=\"ArialMT-6d\" transform=\"scale(0.015625)\"/>\n      <path d=\"M 422 -1272 \nL 422 3319 \nL 934 3319 \nL 934 2888 \nQ 1116 3141 1344 3267 \nQ 1572 3394 1897 3394 \nQ 2322 3394 2647 3175 \nQ 2972 2956 3137 2557 \nQ 3303 2159 3303 1684 \nQ 3303 1175 3120 767 \nQ 2938 359 2589 142 \nQ 2241 -75 1856 -75 \nQ 1575 -75 1351 44 \nQ 1128 163 984 344 \nL 984 -1272 \nL 422 -1272 \nz\nM 931 1641 \nQ 931 1000 1190 694 \nQ 1450 388 1819 388 \nQ 2194 388 2461 705 \nQ 2728 1022 2728 1688 \nQ 2728 2322 2467 2637 \nQ 2206 2953 1844 2953 \nQ 1484 2953 1207 2617 \nQ 931 2281 931 1641 \nz\n\" id=\"ArialMT-70\" transform=\"scale(0.015625)\"/>\n      <path d=\"M 409 0 \nL 409 4581 \nL 972 4581 \nL 972 0 \nL 409 0 \nz\n\" id=\"ArialMT-6c\" transform=\"scale(0.015625)\"/>\n     </defs>\n     <use xlink:href=\"#ArialMT-44\"/>\n     <use x=\"72.216797\" xlink:href=\"#ArialMT-61\"/>\n     <use x=\"127.832031\" xlink:href=\"#ArialMT-74\"/>\n     <use x=\"155.615234\" xlink:href=\"#ArialMT-61\"/>\n     <use x=\"211.230469\" xlink:href=\"#ArialMT-73\"/>\n     <use x=\"261.230469\" xlink:href=\"#ArialMT-65\"/>\n     <use x=\"316.845703\" xlink:href=\"#ArialMT-74\"/>\n     <use x=\"344.628906\" xlink:href=\"#ArialMT-20\"/>\n     <use x=\"372.412109\" xlink:href=\"#ArialMT-73\"/>\n     <use x=\"422.412109\" xlink:href=\"#ArialMT-61\"/>\n     <use x=\"478.027344\" xlink:href=\"#ArialMT-6d\"/>\n     <use x=\"561.328125\" xlink:href=\"#ArialMT-70\"/>\n     <use x=\"616.943359\" xlink:href=\"#ArialMT-6c\"/>\n     <use x=\"639.160156\" xlink:href=\"#ArialMT-65\"/>\n     <use x=\"694.775391\" xlink:href=\"#ArialMT-73\"/>\n    </g>\n   </g>\n   <g id=\"legend_1\">\n    <g id=\"patch_7\">\n     <path d=\"M 197.010937 147.719219 \nL 268.889063 147.719219 \nQ 271.089063 147.719219 271.089063 145.519219 \nL 271.089063 115.499531 \nQ 271.089063 113.299531 268.889063 113.299531 \nL 197.010937 113.299531 \nQ 194.810937 113.299531 194.810937 115.499531 \nL 194.810937 145.519219 \nQ 194.810937 147.719219 197.010937 147.719219 \nz\n\" style=\"fill:#eaeaf2;opacity:0.8;stroke:#cccccc;stroke-linejoin:miter;\"/>\n    </g>\n    <g id=\"PathCollection_3\">\n     <g>\n      <use style=\"fill:#4c72b0;stroke:#333333;\" x=\"210.210938\" xlink:href=\"#m911fd0afb5\" y=\"122.685625\"/>\n     </g>\n    </g>\n    <g id=\"text_15\">\n     <!-- Class 0 -->\n     <g style=\"fill:#262626;\" transform=\"translate(230.010938 125.573125)scale(0.11 -0.11)\">\n      <defs>\n       <path d=\"M 3763 1606 \nL 4369 1453 \nQ 4178 706 3683 314 \nQ 3188 -78 2472 -78 \nQ 1731 -78 1267 223 \nQ 803 525 561 1097 \nQ 319 1669 319 2325 \nQ 319 3041 592 3573 \nQ 866 4106 1370 4382 \nQ 1875 4659 2481 4659 \nQ 3169 4659 3637 4309 \nQ 4106 3959 4291 3325 \nL 3694 3184 \nQ 3534 3684 3231 3912 \nQ 2928 4141 2469 4141 \nQ 1941 4141 1586 3887 \nQ 1231 3634 1087 3207 \nQ 944 2781 944 2328 \nQ 944 1744 1114 1308 \nQ 1284 872 1643 656 \nQ 2003 441 2422 441 \nQ 2931 441 3284 734 \nQ 3638 1028 3763 1606 \nz\n\" id=\"ArialMT-43\" transform=\"scale(0.015625)\"/>\n      </defs>\n      <use xlink:href=\"#ArialMT-43\"/>\n      <use x=\"72.216797\" xlink:href=\"#ArialMT-6c\"/>\n      <use x=\"94.433594\" xlink:href=\"#ArialMT-61\"/>\n      <use x=\"150.048828\" xlink:href=\"#ArialMT-73\"/>\n      <use x=\"200.048828\" xlink:href=\"#ArialMT-73\"/>\n      <use x=\"250.048828\" xlink:href=\"#ArialMT-20\"/>\n      <use x=\"277.832031\" xlink:href=\"#ArialMT-30\"/>\n     </g>\n    </g>\n    <g id=\"PathCollection_4\">\n     <g>\n      <use style=\"fill:#dd8452;stroke:#333333;\" x=\"210.210938\" xlink:href=\"#m881157b2f7\" y=\"138.245469\"/>\n     </g>\n    </g>\n    <g id=\"text_16\">\n     <!-- Class 1 -->\n     <g style=\"fill:#262626;\" transform=\"translate(230.010938 141.132969)scale(0.11 -0.11)\">\n      <use xlink:href=\"#ArialMT-43\"/>\n      <use x=\"72.216797\" xlink:href=\"#ArialMT-6c\"/>\n      <use x=\"94.433594\" xlink:href=\"#ArialMT-61\"/>\n      <use x=\"150.048828\" xlink:href=\"#ArialMT-73\"/>\n      <use x=\"200.048828\" xlink:href=\"#ArialMT-73\"/>\n      <use x=\"250.048828\" xlink:href=\"#ArialMT-20\"/>\n      <use x=\"277.832031\" xlink:href=\"#ArialMT-31\"/>\n     </g>\n    </g>\n   </g>\n  </g>\n </g>\n <defs>\n  <clipPath id=\"p4014378eb3\">\n   <rect height=\"217.44\" width=\"223.2\" x=\"53.389062\" y=\"21.789375\"/>\n  </clipPath>\n </defs>\n</svg>\n",
      "text/plain": [
       "<Figure size 288x288 with 1 Axes>"
      ]
     },
     "metadata": {},
     "output_type": "display_data"
    }
   ],
   "source": [
    "visualize_samples(dataset.data, dataset.label)\n",
    "plt.show()"
   ]
  },
  {
   "cell_type": "markdown",
   "metadata": {},
   "source": [
    "#### The data loader class\n",
    "\n",
    "The class `torch.utils.data.DataLoader` represents a Python iterable over a dataset with support for automatic batching, multi-process data loading and many more features. The data loader communicates with the dataset using the function `__getitem__`, and stacks its outputs as tensors over the first dimension to form a batch.\n",
    "In contrast to the dataset class, we usually don't have to define our own data loader class, but can just create an object of it with the dataset as input. Additionally, we can configure our data loader with the following input arguments (only a selection, see full list [here](https://pytorch.org/docs/stable/data.html#torch.utils.data.DataLoader)):\n",
    "\n",
    "* `batch_size`: Number of samples to stack per batch\n",
    "* `shuffle`: If True, the data is returned in a random order. This is important during training for introducing stochasticity. \n",
    "* `num_workers`: Number of subprocesses to use for data loading. The default, 0, means that the data will be loaded in the main process which can slow down training for datasets where loading a data point takes a considerable amount of time (e.g. large images). More workers are recommended for those, but can cause issues on Windows computers. For tiny datasets as ours, 0 workers are usually faster.\n",
    "* `pin_memory`: If True, the data loader will copy Tensors into CUDA pinned memory before returning them. This can save some time for large data points on GPUs. Usually a good practice to use for a training set, but not necessarily for validation and test to save memory on the GPU.\n",
    "* `drop_last`: If True, the last batch is dropped in case it is smaller than the specified batch size. This occurs when the dataset size is not a multiple of the batch size. Only potentially helpful during training to keep a consistent batch size.\n",
    "\n",
    "Let's create a simple data loader below:"
   ]
  },
  {
   "cell_type": "code",
   "execution_count": 45,
   "metadata": {},
   "outputs": [],
   "source": [
    "data_loader = data.DataLoader(dataset, batch_size=8, shuffle=True)"
   ]
  },
  {
   "cell_type": "code",
   "execution_count": 46,
   "metadata": {},
   "outputs": [
    {
     "name": "stdout",
     "output_type": "stream",
     "text": [
      "Data inputs torch.Size([8, 2]) \n",
      " tensor([[ 1.2108, -0.1180],\n",
      "        [-0.1895,  0.0415],\n",
      "        [ 1.1542, -0.0989],\n",
      "        [ 1.1135,  0.1228],\n",
      "        [-0.0280,  0.0046],\n",
      "        [-0.0378,  1.0500],\n",
      "        [-0.0636,  0.9167],\n",
      "        [-0.0392,  0.8611]])\n",
      "Data labels torch.Size([8]) \n",
      " tensor([1, 0, 1, 1, 0, 1, 1, 1])\n"
     ]
    }
   ],
   "source": [
    "# next(iter(...)) catches the first batch of the data loader\n",
    "# If shuffle is True, this will return a different batch every time we run this cell\n",
    "# For iterating over the whole dataset, we can simple use \"for batch in data_loader: ...\"\n",
    "data_inputs, data_labels = next(iter(data_loader))\n",
    "\n",
    "# The shape of the outputs are [batch_size, d_1,...,d_N] where d_1,...,d_N are the \n",
    "# dimensions of the data point returned from the dataset class\n",
    "print(\"Data inputs\", data_inputs.shape, \"\\n\", data_inputs)\n",
    "print(\"Data labels\", data_labels.shape, \"\\n\", data_labels)"
   ]
  },
  {
   "cell_type": "markdown",
   "metadata": {},
   "source": [
    "### Optimization\n",
    "\n",
    "After defining the model and the dataset, it is time to prepare the optimization of the model. During training, we will perform the following steps:\n",
    "\n",
    "1. Get a batch from the data loader\n",
    "2. Obtain the predictions from the model for the batch\n",
    "3. Calculate the loss based on the difference between predictions and labels\n",
    "4. Backpropagation: calculate the gradients for every parameter with respect to the loss\n",
    "5. Update the parameters of the model in the direction of the gradients\n",
    "\n",
    "We have seen how we can do step 1, 2 and 4 in PyTorch. Now, we will look at step 3 and 5."
   ]
  },
  {
   "cell_type": "markdown",
   "metadata": {},
   "source": [
    "#### Loss modules\n",
    "\n",
    "We can calculate the loss for a batch by simply performing a few tensor operations as those are automatically added to the computation graph. For instance, for binary classification, we can use Binary Cross Entropy (BCE) which is defined as follows:\n",
    "\n",
    "$$\\mathcal{L}_{BCE} = -\\sum_i \\left[ y_i \\log x_i + (1 - y_i) \\log (1 - x_i) \\right]$$\n",
    "\n",
    "where $y$ are our labels, and $x$ our predictions, both in the range of $[0,1]$. However, PyTorch already provides a list of predefined loss functions which we can use (see [here](https://pytorch.org/docs/stable/nn.html#loss-functions) for a full list). For instance, for BCE, PyTorch has two modules: `nn.BCELoss()`, `nn.BCEWithLogitsLoss()`. While `nn.BCELoss` expects the inputs $x$ to be in the range $[0,1]$, i.e. the output of a sigmoid, `nn.BCEWithLogitsLoss` combines a sigmoid layer and the BCE loss in a single class. This version is numerically more stable than using a plain Sigmoid followed by a BCE loss because of the logarithms applied in the loss function. Hence, it is adviced to use loss functions applied on \"logits\" where possible (remember to not apply a sigmoid on the output of the model in this case!). For our model defined above, we therefore use the module `nn.BCEWithLogitsLoss`. "
   ]
  },
  {
   "cell_type": "code",
   "execution_count": 47,
   "metadata": {},
   "outputs": [],
   "source": [
    "loss_module = nn.BCEWithLogitsLoss()"
   ]
  },
  {
   "cell_type": "markdown",
   "metadata": {},
   "source": [
    "#### Stochastic Gradient Descent\n",
    "\n",
    "For updating the parameters, PyTorch provides the package `torch.optim` that has most popular optimizers implemented. We will discuss the specific optimizers and their differences later in the course, but will for now use the simplest of them: `torch.optim.SGD`. Stochastic Gradient Descent updates parameters by multiplying the gradients with a small constant, called learning rate, and subtracting those from the parameters (hence minimizing the loss). Therefore, we slowly move towards the direction of minimizing the loss. A good default value of the learning rate for a small network as ours is 0.1. "
   ]
  },
  {
   "cell_type": "code",
   "execution_count": 48,
   "metadata": {},
   "outputs": [],
   "source": [
    "# Input to the optimizer are the parameters of the model: model.parameters()\n",
    "optimizer = torch.optim.SGD(model.parameters(), lr=0.1)"
   ]
  },
  {
   "cell_type": "markdown",
   "metadata": {},
   "source": [
    "The optimizer provides two useful functions: `optimizer.step()`, and `optimizer.zero_grad()`. The step function updates the parameters based on the gradients as explained above. The function `optimizer.zero_grad()` sets the gradients of all parameters to zero. While this function seems less relevant at first, it is a crucial pre-step before performing backpropagation. If we would call the `backward` function on the loss while the parameter gradients are non-zero from the previous batch, the new gradients would actually be added to the previous ones instead of overwriting them. This is done because a parameter might occur multiple times in a computation graph, and we need to sum the gradients in this case instead of replacing them. Hence, remember to call `optimizer.zero_grad()` before calculating the gradients of a batch."
   ]
  },
  {
   "cell_type": "markdown",
   "metadata": {},
   "source": [
    "### Training\n",
    "\n",
    "Finally, we are ready to train our model. As a first step, we create a slightly larger dataset and specify a data loader with a larger batch size. "
   ]
  },
  {
   "cell_type": "code",
   "execution_count": 49,
   "metadata": {},
   "outputs": [],
   "source": [
    "train_dataset = XORDataset(size=2500)\n",
    "train_data_loader = data.DataLoader(train_dataset, batch_size=128, shuffle=True)"
   ]
  },
  {
   "cell_type": "markdown",
   "metadata": {},
   "source": [
    "Now, we can write a small training function. Remember our five steps: load a batch, obtain the predictions, calculate the loss, backpropagate, and update. Additionally, we have to push all data and model parameters to the device of our choice (GPU if available). For the tiny neural network we have, communicating the data to the GPU actually takes much more time than we could save from running the operation on GPU. For large networks, the communication time is significantly smaller than the actual runtime making a GPU crucial in these cases. Still, to practice, we will push the data to GPU here. "
   ]
  },
  {
   "cell_type": "code",
   "execution_count": 50,
   "metadata": {},
   "outputs": [
    {
     "data": {
      "text/plain": [
       "SimpleClassifier(\n",
       "  (linear1): Linear(in_features=2, out_features=4, bias=True)\n",
       "  (act_fn): Tanh()\n",
       "  (linear2): Linear(in_features=4, out_features=1, bias=True)\n",
       ")"
      ]
     },
     "execution_count": 50,
     "metadata": {},
     "output_type": "execute_result"
    }
   ],
   "source": [
    "# Push model to device. Has to be only done once\n",
    "model.to(device)"
   ]
  },
  {
   "cell_type": "markdown",
   "metadata": {},
   "source": [
    "In addition, we set our model to training mode. This is done by calling `model.train()`. There exist certain modules that need to perform a different forward step during training than during testing (e.g. BatchNorm and Dropout), and we can switch between them using `model.train()` and `model.eval()`."
   ]
  },
  {
   "cell_type": "code",
   "execution_count": 51,
   "metadata": {},
   "outputs": [],
   "source": [
    "def grad_data_inputs(model, optimizer, data_inputs, data_labels, loss_module):\n",
    "    data_inputs.requires_grad = True\n",
    "\n",
    "    x_batch_grad = torch.tensor(0.)\n",
    "    \n",
    "    preds = model(data_inputs)\n",
    "    preds = preds.squeeze(dim=1)\n",
    "\n",
    "    loss = loss_module(preds, data_labels.float())\n",
    "\n",
    "    optimizer.zero_grad()\n",
    "    \n",
    "    \n",
    "    data_inputs_grad = torch.autograd.grad(loss, data_inputs)[0]\n",
    "    data_inputs.requires_grad = False\n",
    "    return data_inputs_grad\n",
    "\n",
    "\n",
    "\n",
    "\n",
    "def train_model(model, optimizer, data_loader, loss_module, num_epochs=100):\n",
    "    # Set model to train mode\n",
    "    model.train() \n",
    "    \n",
    "    # Training loop\n",
    "    for epoch in range(num_epochs):\n",
    "        for data_inputs, data_labels in data_loader:\n",
    "            \n",
    "            ## Step 1: Move input data to device (only strictly necessary if we use GPU)\n",
    "            data_inputs = data_inputs.to(device)\n",
    "            data_labels = data_labels.to(device)\n",
    "            \n",
    "            ## Step 2: Run the model on the input data\n",
    "            preds = model(data_inputs)\n",
    "            preds = preds.squeeze(dim=1) # Output is [Batch size, 1], but we want [Batch size]\n",
    "            \n",
    "           \n",
    "\n",
    "            ## Step 3: Calculate the loss\n",
    "            loss = loss_module(preds, data_labels.float())\n",
    "            \n",
    "            ## Step 4: Perform backpropagation\n",
    "            # Before calculating the gradients, we need to ensure that they are all zero. \n",
    "            # The gradients would not be overwritten, but actually added to the existing ones.\n",
    "            optimizer.zero_grad() \n",
    "            # Perform backpropagation\n",
    "            loss.backward()\n",
    "            \n",
    "            ## Step 5: Update the parameters\n",
    "            optimizer.step()\n",
    "\n",
    "\n",
    "def aug_train_model(model, optimizer, data_loader, loss_module, num_epochs=100):\n",
    "    # Set model to train mode\n",
    "    model.train() \n",
    "    \n",
    "    # Training loop\n",
    "    for epoch in range(num_epochs):\n",
    "        for data_inputs, data_labels in data_loader:\n",
    "            \n",
    "            ## Step 1: Move input data to device (only strictly necessary if we use GPU)\n",
    "            data_inputs = data_inputs.to(device)\n",
    "            data_labels = data_labels.to(device)\n",
    "            \n",
    "            ## Step 2: Run the model on the input data\n",
    "            preds = model(data_inputs)\n",
    "            preds = preds.squeeze(dim=1) # Output is [Batch size, 1], but we want [Batch size]\n",
    "            \n",
    "            #AUGMENTATION OF LOSS FUNCTION\n",
    "\n",
    "            grad = grad_data_inputs(model, optimizer, data_inputs, data_labels, loss_module)\n",
    "\n",
    "            ## Step 3: Calculate the loss\n",
    "            loss = loss_module(preds, data_labels.float()) + grad.abs().sum()\n",
    "            \n",
    "            ## Step 4: Perform backpropagation\n",
    "            # Before calculating the gradients, we need to ensure that they are all zero. \n",
    "            # The gradients would not be overwritten, but actually added to the existing ones.\n",
    "            optimizer.zero_grad() \n",
    "            # Perform backpropagation\n",
    "            loss.backward()\n",
    "            \n",
    "            ## Step 5: Update the parameters\n",
    "            optimizer.step()\n"
   ]
  },
  {
   "cell_type": "code",
   "execution_count": 52,
   "metadata": {},
   "outputs": [],
   "source": [
    "# train_model(model, optimizer, train_data_loader, loss_module)\n",
    "\n",
    "aug_train_model(model, optimizer, train_data_loader, loss_module)\n"
   ]
  },
  {
   "cell_type": "code",
   "execution_count": 53,
   "metadata": {},
   "outputs": [
    {
     "name": "stdout",
     "output_type": "stream",
     "text": [
      "grad = tensor([[ 0.0122,  0.0059],\n",
      "        [ 0.0050,  0.0003],\n",
      "        [-0.0088, -0.0099],\n",
      "        [-0.0070, -0.0126],\n",
      "        [ 0.0167, -0.0043],\n",
      "        [-0.0781, -0.0719],\n",
      "        [ 0.0024, -0.0013],\n",
      "        [-0.0018, -0.0026]])\n"
     ]
    }
   ],
   "source": [
    "for data_inputs, data_labels in data_loader:\n",
    "    grad = grad_data_inputs(model, optimizer, data_inputs, data_labels, loss_module)\n",
    "    print(f'{grad = }')\n",
    "    break"
   ]
  },
  {
   "cell_type": "code",
   "execution_count": null,
   "metadata": {},
   "outputs": [],
   "source": []
  },
  {
   "cell_type": "markdown",
   "metadata": {},
   "source": [
    "#### Saving a model\n",
    "\n",
    "After finish training a model, we save the model to disk so that we can load the same weights at a later time. For this, we extract the so-called `state_dict` from the model which contains all learnable parameters. For our simple model, the state dict contains the following entries:"
   ]
  },
  {
   "cell_type": "code",
   "execution_count": 54,
   "metadata": {},
   "outputs": [
    {
     "name": "stdout",
     "output_type": "stream",
     "text": [
      "OrderedDict([('linear1.weight', tensor([[-2.5717, -3.3289],\n",
      "        [ 2.0438, -2.4557],\n",
      "        [-2.5880, -1.5610],\n",
      "        [-0.5301, -0.7622]])), ('linear1.bias', tensor([ 1.4486, -1.4188,  2.9483, -0.1544])), ('linear2.weight', tensor([[-4.4606,  3.1547,  4.3823, -0.1052]])), ('linear2.bias', tensor([-1.6126]))])\n"
     ]
    }
   ],
   "source": [
    "state_dict = model.state_dict()\n",
    "print(state_dict)"
   ]
  },
  {
   "cell_type": "markdown",
   "metadata": {},
   "source": [
    "To save the state dictionary, we can use `torch.save`:"
   ]
  },
  {
   "cell_type": "code",
   "execution_count": 55,
   "metadata": {},
   "outputs": [],
   "source": [
    "# torch.save(object, filename). For the filename, any extension can be used\n",
    "torch.save(state_dict, \"our_model.tar\")"
   ]
  },
  {
   "cell_type": "markdown",
   "metadata": {},
   "source": [
    "To load a model from a state dict, we use the function `torch.load` to load the state dict from the disk, and the module function `load_state_dict` to overwrite our parameters with the new values:"
   ]
  },
  {
   "cell_type": "code",
   "execution_count": 56,
   "metadata": {},
   "outputs": [
    {
     "name": "stdout",
     "output_type": "stream",
     "text": [
      "Original model\n",
      " OrderedDict([('linear1.weight', tensor([[-2.5717, -3.3289],\n",
      "        [ 2.0438, -2.4557],\n",
      "        [-2.5880, -1.5610],\n",
      "        [-0.5301, -0.7622]])), ('linear1.bias', tensor([ 1.4486, -1.4188,  2.9483, -0.1544])), ('linear2.weight', tensor([[-4.4606,  3.1547,  4.3823, -0.1052]])), ('linear2.bias', tensor([-1.6126]))])\n",
      "\n",
      "Loaded model\n",
      " OrderedDict([('linear1.weight', tensor([[-2.5717, -3.3289],\n",
      "        [ 2.0438, -2.4557],\n",
      "        [-2.5880, -1.5610],\n",
      "        [-0.5301, -0.7622]])), ('linear1.bias', tensor([ 1.4486, -1.4188,  2.9483, -0.1544])), ('linear2.weight', tensor([[-4.4606,  3.1547,  4.3823, -0.1052]])), ('linear2.bias', tensor([-1.6126]))])\n"
     ]
    }
   ],
   "source": [
    "# Load state dict from the disk (make sure it is the same name as above)\n",
    "state_dict = torch.load(\"our_model.tar\")\n",
    "\n",
    "# Create a new model and load the state\n",
    "new_model = SimpleClassifier(num_inputs=2, num_hidden=4, num_outputs=1)\n",
    "new_model.load_state_dict(state_dict)\n",
    "\n",
    "# Verify that the parameters are the same\n",
    "print(\"Original model\\n\", model.state_dict())\n",
    "print(\"\\nLoaded model\\n\", new_model.state_dict())"
   ]
  },
  {
   "cell_type": "markdown",
   "metadata": {},
   "source": [
    "A detailed tutorial on saving and loading models in PyTorch can be found [here](https://pytorch.org/tutorials/beginner/saving_loading_models.html)."
   ]
  },
  {
   "cell_type": "markdown",
   "metadata": {},
   "source": [
    "### Evaluation\n",
    "\n",
    "Once we have trained a model, it is time to evaluate it on a held-out test set. As our dataset consist of randomly generated data points, we need to first create a test set with a corresponding data loader."
   ]
  },
  {
   "cell_type": "code",
   "execution_count": 57,
   "metadata": {},
   "outputs": [],
   "source": [
    "test_dataset = XORDataset(size=500, std = 0.3)\n",
    "# drop_last -> Don't drop the last batch although it is smaller than 128\n",
    "test_data_loader = data.DataLoader(test_dataset, batch_size=128, shuffle=False, drop_last=False) "
   ]
  },
  {
   "cell_type": "markdown",
   "metadata": {},
   "source": [
    "As metric, we will use accuracy which is calculated as follows:\n",
    "\n",
    "$$acc = \\frac{\\#\\text{correct predictions}}{\\#\\text{all predictions}} = \\frac{TP+TN}{TP+TN+FP+FN}$$\n",
    "\n",
    "where TP are the true positives, TN true negatives, FP false positives, and FN the fale negatives. \n",
    "\n",
    "When evaluating the model, we don't need to keep track of the computation graph as we don't intend to calculate the gradients. This reduces the required memory and speed up the model. In PyTorch, we can deactivate the computation graph using `with torch.no_grad(): ...`. Remember to additionally set the model to eval mode."
   ]
  },
  {
   "cell_type": "code",
   "execution_count": 58,
   "metadata": {},
   "outputs": [],
   "source": [
    "def eval_model(model, data_loader):\n",
    "    model.eval() # Set model to eval mode\n",
    "    true_preds, num_preds = 0., 0.\n",
    "    \n",
    "    with torch.no_grad(): # Deactivate gradients for the following code\n",
    "        for data_inputs, data_labels in data_loader:\n",
    "            \n",
    "            # Determine prediction of model on dev set\n",
    "            data_inputs, data_labels = data_inputs.to(device), data_labels.to(device)\n",
    "            preds = model(data_inputs)\n",
    "            preds = preds.squeeze(dim=1)\n",
    "            preds = torch.sigmoid(preds) # Sigmoid to map predictions between 0 and 1\n",
    "            pred_labels = (preds >= 0.5).long() # Binarize predictions to 0 and 1\n",
    "            \n",
    "            # Keep records of predictions for the accuracy metric (true_preds=TP+TN, num_preds=TP+TN+FP+FN)\n",
    "            true_preds += (pred_labels == data_labels).sum()\n",
    "            num_preds += data_labels.shape[0]\n",
    "            \n",
    "    acc = true_preds / num_preds\n",
    "    print(f\"Accuracy of the model: {100.0*acc:4.2f}%\")"
   ]
  },
  {
   "cell_type": "code",
   "execution_count": 59,
   "metadata": {},
   "outputs": [
    {
     "name": "stdout",
     "output_type": "stream",
     "text": [
      "Accuracy of the model: 86.40%\n"
     ]
    }
   ],
   "source": [
    "eval_model(model, test_data_loader)"
   ]
  },
  {
   "cell_type": "markdown",
   "metadata": {},
   "source": [
    "If we trained our model correctly, we should see a score close to 100% accuracy. However, this is only possible because of our simple task, and unfortunately, we usually don't get such high scores on test sets of more complex tasks."
   ]
  },
  {
   "cell_type": "markdown",
   "metadata": {},
   "source": [
    "#### Visualizing classification boundaries\n",
    "\n",
    "To visualize what our model has learned, we can perform a prediction for every data point in a range of $[-0.5, 1.5]$, and visualize the predicted class as in the sample figure at the beginning of this section. This shows where the model has created decision boundaries, and which points would be classified as $0$, and which as $1$. We therefore get a background image out of blue (class 0) and orange (class 1). The spots where the model is uncertain we will see a blurry overlap. The specific code is less relevant compared to the output figure which should hopefully show us a clear separation of classes:"
   ]
  },
  {
   "cell_type": "code",
   "execution_count": 60,
   "metadata": {},
   "outputs": [
    {
     "data": {
      "application/pdf": "[encoded data removed]",
      "image/svg+xml": "<?xml version=\"1.0\" encoding=\"utf-8\" standalone=\"no\"?>\n<!DOCTYPE svg PUBLIC \"-//W3C//DTD SVG 1.1//EN\"\n  \"http://www.w3.org/Graphics/SVG/1.1/DTD/svg11.dtd\">\n<svg height=\"280.963594pt\" version=\"1.1\" viewBox=\"0 0 291.791094 280.963594\" width=\"291.791094pt\" xmlns=\"http://www.w3.org/2000/svg\" xmlns:xlink=\"http://www.w3.org/1999/xlink\">\n <metadata>\n  <rdf:RDF xmlns:cc=\"http://creativecommons.org/ns#\" xmlns:dc=\"http://purl.org/dc/elements/1.1/\" xmlns:rdf=\"http://www.w3.org/1999/02/22-rdf-syntax-ns#\">\n   <cc:Work>\n    <dc:type rdf:resource=\"http://purl.org/dc/dcmitype/StillImage\"/>\n    <dc:date>2022-03-23T12:53:44.231342</dc:date>\n    <dc:format>image/svg+xml</dc:format>\n    <dc:creator>\n     <cc:Agent>\n      <dc:title>Matplotlib v3.4.2, https://matplotlib.org/</dc:title>\n     </cc:Agent>\n    </dc:creator>\n   </cc:Work>\n  </rdf:RDF>\n </metadata>\n <defs>\n  <style type=\"text/css\">*{stroke-linecap:butt;stroke-linejoin:round;}</style>\n </defs>\n <g id=\"figure_1\">\n  <g id=\"patch_1\">\n   <path d=\"M 0 280.963594 \nL 291.791094 280.963594 \nL 291.791094 0 \nL 0 0 \nz\n\" style=\"fill:#ffffff;\"/>\n  </g>\n  <g id=\"axes_1\">\n   <g id=\"patch_2\">\n    <path d=\"M 59.506094 239.229375 \nL 276.946094 239.229375 \nL 276.946094 21.789375 \nL 59.506094 21.789375 \nz\n\" style=\"fill:#eaeaf2;\"/>\n   </g>\n   <g clip-path=\"url(#pd0741f3ee9)\">\n    <image height=\"217.584\" id=\"imagecd7d3611e4\" transform=\"scale(1 -1)translate(0 -217.584)\" width=\"217.44\" x=\"59.506094\" xlink:href=\"data:image/png;base64,\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\" y=\"-21.645375\"/>\n   </g>\n   <g id=\"matplotlib.axis_1\">\n    <g id=\"xtick_1\">\n     <g id=\"text_1\">\n      <!-- −0.5 -->\n      <g style=\"fill:#262626;\" transform=\"translate(48.64875 256.602969)scale(0.11 -0.11)\">\n       <defs>\n        <path d=\"M 3381 1997 \nL 356 1997 \nL 356 2522 \nL 3381 2522 \nL 3381 1997 \nz\n\" id=\"ArialMT-2212\" transform=\"scale(0.015625)\"/>\n        <path d=\"M 266 2259 \nQ 266 3072 433 3567 \nQ 600 4063 929 4331 \nQ 1259 4600 1759 4600 \nQ 2128 4600 2406 4451 \nQ 2684 4303 2865 4023 \nQ 3047 3744 3150 3342 \nQ 3253 2941 3253 2259 \nQ 3253 1453 3087 958 \nQ 2922 463 2592 192 \nQ 2263 -78 1759 -78 \nQ 1097 -78 719 397 \nQ 266 969 266 2259 \nz\nM 844 2259 \nQ 844 1131 1108 757 \nQ 1372 384 1759 384 \nQ 2147 384 2411 759 \nQ 2675 1134 2675 2259 \nQ 2675 3391 2411 3762 \nQ 2147 4134 1753 4134 \nQ 1366 4134 1134 3806 \nQ 844 3388 844 2259 \nz\n\" id=\"ArialMT-30\" transform=\"scale(0.015625)\"/>\n        <path d=\"M 581 0 \nL 581 641 \nL 1222 641 \nL 1222 0 \nL 581 0 \nz\n\" id=\"ArialMT-2e\" transform=\"scale(0.015625)\"/>\n        <path d=\"M 266 1200 \nL 856 1250 \nQ 922 819 1161 601 \nQ 1400 384 1738 384 \nQ 2144 384 2425 690 \nQ 2706 997 2706 1503 \nQ 2706 1984 2436 2262 \nQ 2166 2541 1728 2541 \nQ 1456 2541 1237 2417 \nQ 1019 2294 894 2097 \nL 366 2166 \nL 809 4519 \nL 3088 4519 \nL 3088 3981 \nL 1259 3981 \nL 1013 2750 \nQ 1425 3038 1878 3038 \nQ 2478 3038 2890 2622 \nQ 3303 2206 3303 1553 \nQ 3303 931 2941 478 \nQ 2500 -78 1738 -78 \nQ 1113 -78 717 272 \nQ 322 622 266 1200 \nz\n\" id=\"ArialMT-35\" transform=\"scale(0.015625)\"/>\n       </defs>\n       <use xlink:href=\"#ArialMT-2212\"/>\n       <use x=\"58.398438\" xlink:href=\"#ArialMT-30\"/>\n       <use x=\"114.013672\" xlink:href=\"#ArialMT-2e\"/>\n       <use x=\"141.796875\" xlink:href=\"#ArialMT-35\"/>\n      </g>\n     </g>\n    </g>\n    <g id=\"xtick_2\">\n     <g id=\"text_2\">\n      <!-- 0.0 -->\n      <g style=\"fill:#262626;\" transform=\"translate(106.221094 256.602969)scale(0.11 -0.11)\">\n       <use xlink:href=\"#ArialMT-30\"/>\n       <use x=\"55.615234\" xlink:href=\"#ArialMT-2e\"/>\n       <use x=\"83.398438\" xlink:href=\"#ArialMT-30\"/>\n      </g>\n     </g>\n    </g>\n    <g id=\"xtick_3\">\n     <g id=\"text_3\">\n      <!-- 0.5 -->\n      <g style=\"fill:#262626;\" transform=\"translate(160.581094 256.602969)scale(0.11 -0.11)\">\n       <use xlink:href=\"#ArialMT-30\"/>\n       <use x=\"55.615234\" xlink:href=\"#ArialMT-2e\"/>\n       <use x=\"83.398438\" xlink:href=\"#ArialMT-35\"/>\n      </g>\n     </g>\n    </g>\n    <g id=\"xtick_4\">\n     <g id=\"text_4\">\n      <!-- 1.0 -->\n      <g style=\"fill:#262626;\" transform=\"translate(214.941094 256.602969)scale(0.11 -0.11)\">\n       <defs>\n        <path d=\"M 2384 0 \nL 1822 0 \nL 1822 3584 \nQ 1619 3391 1289 3197 \nQ 959 3003 697 2906 \nL 697 3450 \nQ 1169 3672 1522 3987 \nQ 1875 4303 2022 4600 \nL 2384 4600 \nL 2384 0 \nz\n\" id=\"ArialMT-31\" transform=\"scale(0.015625)\"/>\n       </defs>\n       <use xlink:href=\"#ArialMT-31\"/>\n       <use x=\"55.615234\" xlink:href=\"#ArialMT-2e\"/>\n       <use x=\"83.398438\" xlink:href=\"#ArialMT-30\"/>\n      </g>\n     </g>\n    </g>\n    <g id=\"xtick_5\">\n     <g id=\"text_5\">\n      <!-- 1.5 -->\n      <g style=\"fill:#262626;\" transform=\"translate(269.301094 256.602969)scale(0.11 -0.11)\">\n       <use xlink:href=\"#ArialMT-31\"/>\n       <use x=\"55.615234\" xlink:href=\"#ArialMT-2e\"/>\n       <use x=\"83.398438\" xlink:href=\"#ArialMT-35\"/>\n      </g>\n     </g>\n    </g>\n    <g id=\"text_6\">\n     <!-- $x_1$ -->\n     <g style=\"fill:#262626;\" transform=\"translate(161.806094 271.378594)scale(0.12 -0.12)\">\n      <defs>\n       <path d=\"M 3841 3500 \nL 2234 1784 \nL 3219 0 \nL 2559 0 \nL 1819 1388 \nL 531 0 \nL -166 0 \nL 1556 1844 \nL 641 3500 \nL 1300 3500 \nL 1972 2234 \nL 3144 3500 \nL 3841 3500 \nz\n\" id=\"DejaVuSans-Oblique-78\" transform=\"scale(0.015625)\"/>\n       <path d=\"M 794 531 \nL 1825 531 \nL 1825 4091 \nL 703 3866 \nL 703 4441 \nL 1819 4666 \nL 2450 4666 \nL 2450 531 \nL 3481 531 \nL 3481 0 \nL 794 0 \nL 794 531 \nz\n\" id=\"DejaVuSans-31\" transform=\"scale(0.015625)\"/>\n      </defs>\n      <use transform=\"translate(0 0.3125)\" xlink:href=\"#DejaVuSans-Oblique-78\"/>\n      <use transform=\"translate(59.179688 -16.09375)scale(0.7)\" xlink:href=\"#DejaVuSans-31\"/>\n     </g>\n    </g>\n   </g>\n   <g id=\"matplotlib.axis_2\">\n    <g id=\"ytick_1\">\n     <g id=\"text_7\">\n      <!-- −0.50 -->\n      <g style=\"fill:#262626;\" transform=\"translate(22.174375 243.166172)scale(0.11 -0.11)\">\n       <use xlink:href=\"#ArialMT-2212\"/>\n       <use x=\"58.398438\" xlink:href=\"#ArialMT-30\"/>\n       <use x=\"114.013672\" xlink:href=\"#ArialMT-2e\"/>\n       <use x=\"141.796875\" xlink:href=\"#ArialMT-35\"/>\n       <use x=\"197.412109\" xlink:href=\"#ArialMT-30\"/>\n      </g>\n     </g>\n    </g>\n    <g id=\"ytick_2\">\n     <g id=\"text_8\">\n      <!-- −0.25 -->\n      <g style=\"fill:#262626;\" transform=\"translate(22.174375 215.986172)scale(0.11 -0.11)\">\n       <defs>\n        <path d=\"M 3222 541 \nL 3222 0 \nL 194 0 \nQ 188 203 259 391 \nQ 375 700 629 1000 \nQ 884 1300 1366 1694 \nQ 2113 2306 2375 2664 \nQ 2638 3022 2638 3341 \nQ 2638 3675 2398 3904 \nQ 2159 4134 1775 4134 \nQ 1369 4134 1125 3890 \nQ 881 3647 878 3216 \nL 300 3275 \nQ 359 3922 746 4261 \nQ 1134 4600 1788 4600 \nQ 2447 4600 2831 4234 \nQ 3216 3869 3216 3328 \nQ 3216 3053 3103 2787 \nQ 2991 2522 2730 2228 \nQ 2469 1934 1863 1422 \nQ 1356 997 1212 845 \nQ 1069 694 975 541 \nL 3222 541 \nz\n\" id=\"ArialMT-32\" transform=\"scale(0.015625)\"/>\n       </defs>\n       <use xlink:href=\"#ArialMT-2212\"/>\n       <use x=\"58.398438\" xlink:href=\"#ArialMT-30\"/>\n       <use x=\"114.013672\" xlink:href=\"#ArialMT-2e\"/>\n       <use x=\"141.796875\" xlink:href=\"#ArialMT-32\"/>\n       <use x=\"197.412109\" xlink:href=\"#ArialMT-35\"/>\n      </g>\n     </g>\n    </g>\n    <g id=\"ytick_3\">\n     <g id=\"text_9\">\n      <!-- 0.00 -->\n      <g style=\"fill:#262626;\" transform=\"translate(28.599062 188.806172)scale(0.11 -0.11)\">\n       <use xlink:href=\"#ArialMT-30\"/>\n       <use x=\"55.615234\" xlink:href=\"#ArialMT-2e\"/>\n       <use x=\"83.398438\" xlink:href=\"#ArialMT-30\"/>\n       <use x=\"139.013672\" xlink:href=\"#ArialMT-30\"/>\n      </g>\n     </g>\n    </g>\n    <g id=\"ytick_4\">\n     <g id=\"text_10\">\n      <!-- 0.25 -->\n      <g style=\"fill:#262626;\" transform=\"translate(28.599062 161.626172)scale(0.11 -0.11)\">\n       <use xlink:href=\"#ArialMT-30\"/>\n       <use x=\"55.615234\" xlink:href=\"#ArialMT-2e\"/>\n       <use x=\"83.398438\" xlink:href=\"#ArialMT-32\"/>\n       <use x=\"139.013672\" xlink:href=\"#ArialMT-35\"/>\n      </g>\n     </g>\n    </g>\n    <g id=\"ytick_5\">\n     <g id=\"text_11\">\n      <!-- 0.50 -->\n      <g style=\"fill:#262626;\" transform=\"translate(28.599062 134.446172)scale(0.11 -0.11)\">\n       <use xlink:href=\"#ArialMT-30\"/>\n       <use x=\"55.615234\" xlink:href=\"#ArialMT-2e\"/>\n       <use x=\"83.398438\" xlink:href=\"#ArialMT-35\"/>\n       <use x=\"139.013672\" xlink:href=\"#ArialMT-30\"/>\n      </g>\n     </g>\n    </g>\n    <g id=\"ytick_6\">\n     <g id=\"text_12\">\n      <!-- 0.75 -->\n      <g style=\"fill:#262626;\" transform=\"translate(28.599062 107.266172)scale(0.11 -0.11)\">\n       <defs>\n        <path d=\"M 303 3981 \nL 303 4522 \nL 3269 4522 \nL 3269 4084 \nQ 2831 3619 2401 2847 \nQ 1972 2075 1738 1259 \nQ 1569 684 1522 0 \nL 944 0 \nQ 953 541 1156 1306 \nQ 1359 2072 1739 2783 \nQ 2119 3494 2547 3981 \nL 303 3981 \nz\n\" id=\"ArialMT-37\" transform=\"scale(0.015625)\"/>\n       </defs>\n       <use xlink:href=\"#ArialMT-30\"/>\n       <use x=\"55.615234\" xlink:href=\"#ArialMT-2e\"/>\n       <use x=\"83.398438\" xlink:href=\"#ArialMT-37\"/>\n       <use x=\"139.013672\" xlink:href=\"#ArialMT-35\"/>\n      </g>\n     </g>\n    </g>\n    <g id=\"ytick_7\">\n     <g id=\"text_13\">\n      <!-- 1.00 -->\n      <g style=\"fill:#262626;\" transform=\"translate(28.599062 80.086172)scale(0.11 -0.11)\">\n       <use xlink:href=\"#ArialMT-31\"/>\n       <use x=\"55.615234\" xlink:href=\"#ArialMT-2e\"/>\n       <use x=\"83.398438\" xlink:href=\"#ArialMT-30\"/>\n       <use x=\"139.013672\" xlink:href=\"#ArialMT-30\"/>\n      </g>\n     </g>\n    </g>\n    <g id=\"ytick_8\">\n     <g id=\"text_14\">\n      <!-- 1.25 -->\n      <g style=\"fill:#262626;\" transform=\"translate(28.599062 52.906172)scale(0.11 -0.11)\">\n       <use xlink:href=\"#ArialMT-31\"/>\n       <use x=\"55.615234\" xlink:href=\"#ArialMT-2e\"/>\n       <use x=\"83.398438\" xlink:href=\"#ArialMT-32\"/>\n       <use x=\"139.013672\" xlink:href=\"#ArialMT-35\"/>\n      </g>\n     </g>\n    </g>\n    <g id=\"ytick_9\">\n     <g id=\"text_15\">\n      <!-- 1.50 -->\n      <g style=\"fill:#262626;\" transform=\"translate(28.599062 25.726172)scale(0.11 -0.11)\">\n       <use xlink:href=\"#ArialMT-31\"/>\n       <use x=\"55.615234\" xlink:href=\"#ArialMT-2e\"/>\n       <use x=\"83.398438\" xlink:href=\"#ArialMT-35\"/>\n       <use x=\"139.013672\" xlink:href=\"#ArialMT-30\"/>\n      </g>\n     </g>\n    </g>\n    <g id=\"text_16\">\n     <!-- $x_2$ -->\n     <g style=\"fill:#262626;\" transform=\"translate(15.789375 136.929375)rotate(-90)scale(0.12 -0.12)\">\n      <defs>\n       <path d=\"M 1228 531 \nL 3431 531 \nL 3431 0 \nL 469 0 \nL 469 531 \nQ 828 903 1448 1529 \nQ 2069 2156 2228 2338 \nQ 2531 2678 2651 2914 \nQ 2772 3150 2772 3378 \nQ 2772 3750 2511 3984 \nQ 2250 4219 1831 4219 \nQ 1534 4219 1204 4116 \nQ 875 4013 500 3803 \nL 500 4441 \nQ 881 4594 1212 4672 \nQ 1544 4750 1819 4750 \nQ 2544 4750 2975 4387 \nQ 3406 4025 3406 3419 \nQ 3406 3131 3298 2873 \nQ 3191 2616 2906 2266 \nQ 2828 2175 2409 1742 \nQ 1991 1309 1228 531 \nz\n\" id=\"DejaVuSans-32\" transform=\"scale(0.015625)\"/>\n      </defs>\n      <use transform=\"translate(0 0.3125)\" xlink:href=\"#DejaVuSans-Oblique-78\"/>\n      <use transform=\"translate(59.179688 -16.09375)scale(0.7)\" xlink:href=\"#DejaVuSans-32\"/>\n     </g>\n    </g>\n   </g>\n   <g id=\"PathCollection_1\">\n    <defs>\n     <path d=\"M 0 3 \nC 0.795609 3 1.55874 2.683901 2.12132 2.12132 \nC 2.683901 1.55874 3 0.795609 3 0 \nC 3 -0.795609 2.683901 -1.55874 2.12132 -2.12132 \nC 1.55874 -2.683901 0.795609 -3 0 -3 \nC -0.795609 -3 -1.55874 -2.683901 -2.12132 -2.12132 \nC -2.683901 -1.55874 -3 -0.795609 -3 0 \nC -3 0.795609 -2.683901 1.55874 -2.12132 2.12132 \nC -1.55874 2.683901 -0.795609 3 0 3 \nz\n\" id=\"mf3d1f0bdb2\" style=\"stroke:#333333;\"/>\n    </defs>\n    <g clip-path=\"url(#pd0741f3ee9)\">\n     <use style=\"fill:#4c72b0;stroke:#333333;\" x=\"263.20933\" xlink:href=\"#mf3d1f0bdb2\" y=\"102.481672\"/>\n     <use style=\"fill:#4c72b0;stroke:#333333;\" x=\"75.411741\" xlink:href=\"#mf3d1f0bdb2\" y=\"176.467442\"/>\n     <use style=\"fill:#4c72b0;stroke:#333333;\" x=\"109.427064\" xlink:href=\"#mf3d1f0bdb2\" y=\"209.492022\"/>\n     <use style=\"fill:#4c72b0;stroke:#333333;\" x=\"220.754007\" xlink:href=\"#mf3d1f0bdb2\" y=\"63.847746\"/>\n     <use style=\"fill:#4c72b0;stroke:#333333;\" x=\"98.260944\" xlink:href=\"#mf3d1f0bdb2\" y=\"179.430385\"/>\n     <use style=\"fill:#4c72b0;stroke:#333333;\" x=\"125.660174\" xlink:href=\"#mf3d1f0bdb2\" y=\"197.901648\"/>\n     <use style=\"fill:#4c72b0;stroke:#333333;\" x=\"135.841196\" xlink:href=\"#mf3d1f0bdb2\" y=\"205.799016\"/>\n     <use style=\"fill:#4c72b0;stroke:#333333;\" x=\"153.640058\" xlink:href=\"#mf3d1f0bdb2\" y=\"184.733635\"/>\n     <use style=\"fill:#4c72b0;stroke:#333333;\" x=\"197.698004\" xlink:href=\"#mf3d1f0bdb2\" y=\"117.944208\"/>\n     <use style=\"fill:#4c72b0;stroke:#333333;\" x=\"216.02665\" xlink:href=\"#mf3d1f0bdb2\" y=\"45.527356\"/>\n     <use style=\"fill:#4c72b0;stroke:#333333;\" x=\"179.073303\" xlink:href=\"#mf3d1f0bdb2\" y=\"91.243375\"/>\n     <use style=\"fill:#4c72b0;stroke:#333333;\" x=\"135.454595\" xlink:href=\"#mf3d1f0bdb2\" y=\"205.448944\"/>\n     <use style=\"fill:#4c72b0;stroke:#333333;\" x=\"119.472421\" xlink:href=\"#mf3d1f0bdb2\" y=\"224.943124\"/>\n     <use style=\"fill:#4c72b0;stroke:#333333;\" x=\"105.891909\" xlink:href=\"#mf3d1f0bdb2\" y=\"124.995611\"/>\n     <use style=\"fill:#4c72b0;stroke:#333333;\" x=\"228.168606\" xlink:href=\"#mf3d1f0bdb2\" y=\"63.88156\"/>\n     <use style=\"fill:#4c72b0;stroke:#333333;\" x=\"235.638702\" xlink:href=\"#mf3d1f0bdb2\" y=\"33.646254\"/>\n     <use style=\"fill:#4c72b0;stroke:#333333;\" x=\"116.671331\" xlink:href=\"#mf3d1f0bdb2\" y=\"248.590146\"/>\n     <use style=\"fill:#4c72b0;stroke:#333333;\" x=\"272.85464\" xlink:href=\"#mf3d1f0bdb2\" y=\"55.527095\"/>\n     <use style=\"fill:#4c72b0;stroke:#333333;\" x=\"106.350822\" xlink:href=\"#mf3d1f0bdb2\" y=\"213.491405\"/>\n     <use style=\"fill:#4c72b0;stroke:#333333;\" x=\"274.022012\" xlink:href=\"#mf3d1f0bdb2\" y=\"129.42495\"/>\n     <use style=\"fill:#4c72b0;stroke:#333333;\" x=\"89.823476\" xlink:href=\"#mf3d1f0bdb2\" y=\"203.241401\"/>\n     <use style=\"fill:#4c72b0;stroke:#333333;\" x=\"115.423556\" xlink:href=\"#mf3d1f0bdb2\" y=\"208.289451\"/>\n     <use style=\"fill:#4c72b0;stroke:#333333;\" x=\"134.270368\" xlink:href=\"#mf3d1f0bdb2\" y=\"221.627596\"/>\n     <use style=\"fill:#4c72b0;stroke:#333333;\" x=\"222.362364\" xlink:href=\"#mf3d1f0bdb2\" y=\"114.180246\"/>\n     <use style=\"fill:#4c72b0;stroke:#333333;\" x=\"122.176771\" xlink:href=\"#mf3d1f0bdb2\" y=\"258.580489\"/>\n     <use style=\"fill:#4c72b0;stroke:#333333;\" x=\"247.336803\" xlink:href=\"#mf3d1f0bdb2\" y=\"29.284135\"/>\n     <use style=\"fill:#4c72b0;stroke:#333333;\" x=\"107.898147\" xlink:href=\"#mf3d1f0bdb2\" y=\"125.52093\"/>\n     <use style=\"fill:#4c72b0;stroke:#333333;\" x=\"165.920092\" xlink:href=\"#mf3d1f0bdb2\" y=\"183.345578\"/>\n     <use style=\"fill:#4c72b0;stroke:#333333;\" x=\"169.192359\" xlink:href=\"#mf3d1f0bdb2\" y=\"92.593911\"/>\n     <use style=\"fill:#4c72b0;stroke:#333333;\" x=\"89.322173\" xlink:href=\"#mf3d1f0bdb2\" y=\"238.350447\"/>\n     <use style=\"fill:#4c72b0;stroke:#333333;\" x=\"99.712665\" xlink:href=\"#mf3d1f0bdb2\" y=\"148.830802\"/>\n     <use style=\"fill:#4c72b0;stroke:#333333;\" x=\"89.987163\" xlink:href=\"#mf3d1f0bdb2\" y=\"234.821418\"/>\n     <use style=\"fill:#4c72b0;stroke:#333333;\" x=\"258.947058\" xlink:href=\"#mf3d1f0bdb2\" y=\"108.363674\"/>\n     <use style=\"fill:#4c72b0;stroke:#333333;\" x=\"235.929301\" xlink:href=\"#mf3d1f0bdb2\" y=\"22.001317\"/>\n     <use style=\"fill:#4c72b0;stroke:#333333;\" x=\"112.708094\" xlink:href=\"#mf3d1f0bdb2\" y=\"198.274272\"/>\n     <use style=\"fill:#4c72b0;stroke:#333333;\" x=\"124.181344\" xlink:href=\"#mf3d1f0bdb2\" y=\"162.159296\"/>\n     <use style=\"fill:#4c72b0;stroke:#333333;\" x=\"142.097438\" xlink:href=\"#mf3d1f0bdb2\" y=\"154.02491\"/>\n     <use style=\"fill:#4c72b0;stroke:#333333;\" x=\"160.784527\" xlink:href=\"#mf3d1f0bdb2\" y=\"157.981698\"/>\n     <use style=\"fill:#4c72b0;stroke:#333333;\" x=\"211.53525\" xlink:href=\"#mf3d1f0bdb2\" y=\"75.289191\"/>\n     <use style=\"fill:#4c72b0;stroke:#333333;\" x=\"29.137471\" xlink:href=\"#mf3d1f0bdb2\" y=\"210.782339\"/>\n     <use style=\"fill:#4c72b0;stroke:#333333;\" x=\"147.842461\" xlink:href=\"#mf3d1f0bdb2\" y=\"148.604117\"/>\n     <use style=\"fill:#4c72b0;stroke:#333333;\" x=\"140.502311\" xlink:href=\"#mf3d1f0bdb2\" y=\"198.559391\"/>\n     <use style=\"fill:#4c72b0;stroke:#333333;\" x=\"235.124367\" xlink:href=\"#mf3d1f0bdb2\" y=\"60.343296\"/>\n     <use style=\"fill:#4c72b0;stroke:#333333;\" x=\"91.904407\" xlink:href=\"#mf3d1f0bdb2\" y=\"188.154534\"/>\n     <use style=\"fill:#4c72b0;stroke:#333333;\" x=\"207.930422\" xlink:href=\"#mf3d1f0bdb2\" y=\"57.785879\"/>\n     <use style=\"fill:#4c72b0;stroke:#333333;\" x=\"115.006217\" xlink:href=\"#mf3d1f0bdb2\" y=\"191.418043\"/>\n     <use style=\"fill:#4c72b0;stroke:#333333;\" x=\"264.241836\" xlink:href=\"#mf3d1f0bdb2\" y=\"61.301254\"/>\n     <use style=\"fill:#4c72b0;stroke:#333333;\" x=\"256.782289\" xlink:href=\"#mf3d1f0bdb2\" y=\"97.901001\"/>\n     <use style=\"fill:#4c72b0;stroke:#333333;\" x=\"88.569368\" xlink:href=\"#mf3d1f0bdb2\" y=\"212.77721\"/>\n     <use style=\"fill:#4c72b0;stroke:#333333;\" x=\"113.362097\" xlink:href=\"#mf3d1f0bdb2\" y=\"174.627218\"/>\n     <use style=\"fill:#4c72b0;stroke:#333333;\" x=\"201.747861\" xlink:href=\"#mf3d1f0bdb2\" y=\"66.860269\"/>\n     <use style=\"fill:#4c72b0;stroke:#333333;\" x=\"142.423885\" xlink:href=\"#mf3d1f0bdb2\" y=\"148.222186\"/>\n     <use style=\"fill:#4c72b0;stroke:#333333;\" x=\"207.465579\" xlink:href=\"#mf3d1f0bdb2\" y=\"-1\"/>\n     <use style=\"fill:#4c72b0;stroke:#333333;\" x=\"215.196249\" xlink:href=\"#mf3d1f0bdb2\" y=\"-1\"/>\n     <use style=\"fill:#4c72b0;stroke:#333333;\" x=\"248.815122\" xlink:href=\"#mf3d1f0bdb2\" y=\"90.585445\"/>\n     <use style=\"fill:#4c72b0;stroke:#333333;\" x=\"174.194134\" xlink:href=\"#mf3d1f0bdb2\" y=\"197.96944\"/>\n     <use style=\"fill:#4c72b0;stroke:#333333;\" x=\"143.04201\" xlink:href=\"#mf3d1f0bdb2\" y=\"188.805092\"/>\n     <use style=\"fill:#4c72b0;stroke:#333333;\" x=\"135.208319\" xlink:href=\"#mf3d1f0bdb2\" y=\"179.255035\"/>\n     <use style=\"fill:#4c72b0;stroke:#333333;\" x=\"131.230501\" xlink:href=\"#mf3d1f0bdb2\" y=\"188.663342\"/>\n     <use style=\"fill:#4c72b0;stroke:#333333;\" x=\"66.57361\" xlink:href=\"#mf3d1f0bdb2\" y=\"211.113047\"/>\n     <use style=\"fill:#4c72b0;stroke:#333333;\" x=\"234.569998\" xlink:href=\"#mf3d1f0bdb2\" y=\"74.016152\"/>\n     <use style=\"fill:#4c72b0;stroke:#333333;\" x=\"228.698986\" xlink:href=\"#mf3d1f0bdb2\" y=\"112.927717\"/>\n     <use style=\"fill:#4c72b0;stroke:#333333;\" x=\"104.602952\" xlink:href=\"#mf3d1f0bdb2\" y=\"157.887726\"/>\n     <use style=\"fill:#4c72b0;stroke:#333333;\" x=\"201.584929\" xlink:href=\"#mf3d1f0bdb2\" y=\"75.037435\"/>\n     <use style=\"fill:#4c72b0;stroke:#333333;\" x=\"141.108246\" xlink:href=\"#mf3d1f0bdb2\" y=\"186.545072\"/>\n     <use style=\"fill:#4c72b0;stroke:#333333;\" x=\"198.147666\" xlink:href=\"#mf3d1f0bdb2\" y=\"87.568301\"/>\n     <use style=\"fill:#4c72b0;stroke:#333333;\" x=\"194.80193\" xlink:href=\"#mf3d1f0bdb2\" y=\"84.832762\"/>\n     <use style=\"fill:#4c72b0;stroke:#333333;\" x=\"222.258441\" xlink:href=\"#mf3d1f0bdb2\" y=\"29.527182\"/>\n     <use style=\"fill:#4c72b0;stroke:#333333;\" x=\"235.662148\" xlink:href=\"#mf3d1f0bdb2\" y=\"82.635696\"/>\n    </g>\n   </g>\n   <g id=\"PathCollection_2\">\n    <defs>\n     <path d=\"M 0 3 \nC 0.795609 3 1.55874 2.683901 2.12132 2.12132 \nC 2.683901 1.55874 3 0.795609 3 0 \nC 3 -0.795609 2.683901 -1.55874 2.12132 -2.12132 \nC 1.55874 -2.683901 0.795609 -3 0 -3 \nC -0.795609 -3 -1.55874 -2.683901 -2.12132 -2.12132 \nC -2.683901 -1.55874 -3 -0.795609 -3 0 \nC -3 0.795609 -2.683901 1.55874 -2.12132 2.12132 \nC -1.55874 2.683901 -0.795609 3 0 3 \nz\n\" id=\"m5dc9d0db91\" style=\"stroke:#333333;\"/>\n    </defs>\n    <g clip-path=\"url(#pd0741f3ee9)\">\n     <use style=\"fill:#dd8452;stroke:#333333;\" x=\"152.699461\" xlink:href=\"#m5dc9d0db91\" y=\"149.239995\"/>\n     <use style=\"fill:#dd8452;stroke:#333333;\" x=\"120.644421\" xlink:href=\"#m5dc9d0db91\" y=\"28.951803\"/>\n     <use style=\"fill:#dd8452;stroke:#333333;\" x=\"189.221349\" xlink:href=\"#m5dc9d0db91\" y=\"162.223878\"/>\n     <use style=\"fill:#dd8452;stroke:#333333;\" x=\"184.707878\" xlink:href=\"#m5dc9d0db91\" y=\"175.304716\"/>\n     <use style=\"fill:#dd8452;stroke:#333333;\" x=\"116.084732\" xlink:href=\"#m5dc9d0db91\" y=\"85.689395\"/>\n     <use style=\"fill:#dd8452;stroke:#333333;\" x=\"153.090073\" xlink:href=\"#m5dc9d0db91\" y=\"101.267331\"/>\n     <use style=\"fill:#dd8452;stroke:#333333;\" x=\"201.846989\" xlink:href=\"#m5dc9d0db91\" y=\"169.84719\"/>\n     <use style=\"fill:#dd8452;stroke:#333333;\" x=\"89.023869\" xlink:href=\"#m5dc9d0db91\" y=\"50.582171\"/>\n     <use style=\"fill:#dd8452;stroke:#333333;\" x=\"254.879516\" xlink:href=\"#m5dc9d0db91\" y=\"204.035261\"/>\n     <use style=\"fill:#dd8452;stroke:#333333;\" x=\"269.173696\" xlink:href=\"#m5dc9d0db91\" y=\"181.565048\"/>\n     <use style=\"fill:#dd8452;stroke:#333333;\" x=\"91.534498\" xlink:href=\"#m5dc9d0db91\" y=\"140.409915\"/>\n     <use style=\"fill:#dd8452;stroke:#333333;\" x=\"138.440442\" xlink:href=\"#m5dc9d0db91\" y=\"96.945324\"/>\n     <use style=\"fill:#dd8452;stroke:#333333;\" x=\"243.422104\" xlink:href=\"#m5dc9d0db91\" y=\"154.818662\"/>\n     <use style=\"fill:#dd8452;stroke:#333333;\" x=\"125.447844\" xlink:href=\"#m5dc9d0db91\" y=\"35.816543\"/>\n     <use style=\"fill:#dd8452;stroke:#333333;\" x=\"80.767232\" xlink:href=\"#m5dc9d0db91\" y=\"52.321164\"/>\n     <use style=\"fill:#dd8452;stroke:#333333;\" x=\"104.992601\" xlink:href=\"#m5dc9d0db91\" y=\"57.876472\"/>\n     <use style=\"fill:#dd8452;stroke:#333333;\" x=\"261.338789\" xlink:href=\"#m5dc9d0db91\" y=\"197.560705\"/>\n     <use style=\"fill:#dd8452;stroke:#333333;\" x=\"127.200284\" xlink:href=\"#m5dc9d0db91\" y=\"51.013067\"/>\n     <use style=\"fill:#dd8452;stroke:#333333;\" x=\"112.306468\" xlink:href=\"#m5dc9d0db91\" y=\"34.012931\"/>\n     <use style=\"fill:#dd8452;stroke:#333333;\" x=\"119.577126\" xlink:href=\"#m5dc9d0db91\" y=\"73.184741\"/>\n     <use style=\"fill:#dd8452;stroke:#333333;\" x=\"261.013379\" xlink:href=\"#m5dc9d0db91\" y=\"224.410898\"/>\n     <use style=\"fill:#dd8452;stroke:#333333;\" x=\"87.203129\" xlink:href=\"#m5dc9d0db91\" y=\"73.271342\"/>\n     <use style=\"fill:#dd8452;stroke:#333333;\" x=\"178.282632\" xlink:href=\"#m5dc9d0db91\" y=\"173.572222\"/>\n     <use style=\"fill:#dd8452;stroke:#333333;\" x=\"200.009938\" xlink:href=\"#m5dc9d0db91\" y=\"152.098837\"/>\n     <use style=\"fill:#dd8452;stroke:#333333;\" x=\"244.111806\" xlink:href=\"#m5dc9d0db91\" y=\"168.289322\"/>\n     <use style=\"fill:#dd8452;stroke:#333333;\" x=\"233.890923\" xlink:href=\"#m5dc9d0db91\" y=\"125.984097\"/>\n     <use style=\"fill:#dd8452;stroke:#333333;\" x=\"240.077521\" xlink:href=\"#m5dc9d0db91\" y=\"158.456767\"/>\n     <use style=\"fill:#dd8452;stroke:#333333;\" x=\"136.649903\" xlink:href=\"#m5dc9d0db91\" y=\"123.135614\"/>\n     <use style=\"fill:#dd8452;stroke:#333333;\" x=\"222.956347\" xlink:href=\"#m5dc9d0db91\" y=\"169.152019\"/>\n     <use style=\"fill:#dd8452;stroke:#333333;\" x=\"75.3768\" xlink:href=\"#m5dc9d0db91\" y=\"114.511275\"/>\n     <use style=\"fill:#dd8452;stroke:#333333;\" x=\"219.473736\" xlink:href=\"#m5dc9d0db91\" y=\"218.469368\"/>\n     <use style=\"fill:#dd8452;stroke:#333333;\" x=\"132.977689\" xlink:href=\"#m5dc9d0db91\" y=\"87.571879\"/>\n     <use style=\"fill:#dd8452;stroke:#333333;\" x=\"136.438125\" xlink:href=\"#m5dc9d0db91\" y=\"81.27163\"/>\n     <use style=\"fill:#dd8452;stroke:#333333;\" x=\"212.460061\" xlink:href=\"#m5dc9d0db91\" y=\"207.640119\"/>\n     <use style=\"fill:#dd8452;stroke:#333333;\" x=\"266.152463\" xlink:href=\"#m5dc9d0db91\" y=\"182.089244\"/>\n     <use style=\"fill:#dd8452;stroke:#333333;\" x=\"110.70569\" xlink:href=\"#m5dc9d0db91\" y=\"42.965117\"/>\n     <use style=\"fill:#dd8452;stroke:#333333;\" x=\"62.365033\" xlink:href=\"#m5dc9d0db91\" y=\"45.350498\"/>\n     <use style=\"fill:#dd8452;stroke:#333333;\" x=\"153.116418\" xlink:href=\"#m5dc9d0db91\" y=\"84.656954\"/>\n     <use style=\"fill:#dd8452;stroke:#333333;\" x=\"219.385385\" xlink:href=\"#m5dc9d0db91\" y=\"177.235527\"/>\n     <use style=\"fill:#dd8452;stroke:#333333;\" x=\"234.874983\" xlink:href=\"#m5dc9d0db91\" y=\"154.116533\"/>\n     <use style=\"fill:#dd8452;stroke:#333333;\" x=\"60.090246\" xlink:href=\"#m5dc9d0db91\" y=\"86.175009\"/>\n     <use style=\"fill:#dd8452;stroke:#333333;\" x=\"308.451328\" xlink:href=\"#m5dc9d0db91\" y=\"134.509198\"/>\n     <use style=\"fill:#dd8452;stroke:#333333;\" x=\"96.072643\" xlink:href=\"#m5dc9d0db91\" y=\"48.402589\"/>\n     <use style=\"fill:#dd8452;stroke:#333333;\" x=\"48.975968\" xlink:href=\"#m5dc9d0db91\" y=\"115.019978\"/>\n     <use style=\"fill:#dd8452;stroke:#333333;\" x=\"106.920765\" xlink:href=\"#m5dc9d0db91\" y=\"48.448029\"/>\n     <use style=\"fill:#dd8452;stroke:#333333;\" x=\"139.425419\" xlink:href=\"#m5dc9d0db91\" y=\"37.003551\"/>\n     <use style=\"fill:#dd8452;stroke:#333333;\" x=\"238.642775\" xlink:href=\"#m5dc9d0db91\" y=\"140.404802\"/>\n     <use style=\"fill:#dd8452;stroke:#333333;\" x=\"279.28969\" xlink:href=\"#m5dc9d0db91\" y=\"179.912773\"/>\n     <use style=\"fill:#dd8452;stroke:#333333;\" x=\"176.032805\" xlink:href=\"#m5dc9d0db91\" y=\"112.818927\"/>\n     <use style=\"fill:#dd8452;stroke:#333333;\" x=\"84.121571\" xlink:href=\"#m5dc9d0db91\" y=\"71.036471\"/>\n     <use style=\"fill:#dd8452;stroke:#333333;\" x=\"186.824491\" xlink:href=\"#m5dc9d0db91\" y=\"166.312363\"/>\n     <use style=\"fill:#dd8452;stroke:#333333;\" x=\"70.289437\" xlink:href=\"#m5dc9d0db91\" y=\"65.663179\"/>\n     <use style=\"fill:#dd8452;stroke:#333333;\" x=\"191.50429\" xlink:href=\"#m5dc9d0db91\" y=\"169.479913\"/>\n     <use style=\"fill:#dd8452;stroke:#333333;\" x=\"124.914792\" xlink:href=\"#m5dc9d0db91\" y=\"76.011087\"/>\n     <use style=\"fill:#dd8452;stroke:#333333;\" x=\"214.802258\" xlink:href=\"#m5dc9d0db91\" y=\"132.898965\"/>\n     <use style=\"fill:#dd8452;stroke:#333333;\" x=\"236.296613\" xlink:href=\"#m5dc9d0db91\" y=\"142.289039\"/>\n     <use style=\"fill:#dd8452;stroke:#333333;\" x=\"200.268771\" xlink:href=\"#m5dc9d0db91\" y=\"185.687601\"/>\n     <use style=\"fill:#dd8452;stroke:#333333;\" x=\"198.858987\" xlink:href=\"#m5dc9d0db91\" y=\"165.570045\"/>\n     <use style=\"fill:#dd8452;stroke:#333333;\" x=\"250.276294\" xlink:href=\"#m5dc9d0db91\" y=\"159.893627\"/>\n     <use style=\"fill:#dd8452;stroke:#333333;\" x=\"96.534572\" xlink:href=\"#m5dc9d0db91\" y=\"51.509348\"/>\n    </g>\n   </g>\n   <g id=\"patch_3\">\n    <path d=\"M 59.506094 239.229375 \nL 59.506094 21.789375 \n\" style=\"fill:none;stroke:#ffffff;stroke-linecap:square;stroke-linejoin:miter;stroke-width:1.25;\"/>\n   </g>\n   <g id=\"patch_4\">\n    <path d=\"M 276.946094 239.229375 \nL 276.946094 21.789375 \n\" style=\"fill:none;stroke:#ffffff;stroke-linecap:square;stroke-linejoin:miter;stroke-width:1.25;\"/>\n   </g>\n   <g id=\"patch_5\">\n    <path d=\"M 59.506094 239.229375 \nL 276.946094 239.229375 \n\" style=\"fill:none;stroke:#ffffff;stroke-linecap:square;stroke-linejoin:miter;stroke-width:1.25;\"/>\n   </g>\n   <g id=\"patch_6\">\n    <path d=\"M 59.506094 21.789375 \nL 276.946094 21.789375 \n\" style=\"fill:none;stroke:#ffffff;stroke-linecap:square;stroke-linejoin:miter;stroke-width:1.25;\"/>\n   </g>\n   <g id=\"text_17\">\n    <!-- Dataset samples -->\n    <g style=\"fill:#262626;\" transform=\"translate(123.542031 15.789375)scale(0.12 -0.12)\">\n     <defs>\n      <path d=\"M 494 0 \nL 494 4581 \nL 2072 4581 \nQ 2606 4581 2888 4516 \nQ 3281 4425 3559 4188 \nQ 3922 3881 4101 3404 \nQ 4281 2928 4281 2316 \nQ 4281 1794 4159 1391 \nQ 4038 988 3847 723 \nQ 3656 459 3429 307 \nQ 3203 156 2883 78 \nQ 2563 0 2147 0 \nL 494 0 \nz\nM 1100 541 \nL 2078 541 \nQ 2531 541 2789 625 \nQ 3047 709 3200 863 \nQ 3416 1078 3536 1442 \nQ 3656 1806 3656 2325 \nQ 3656 3044 3420 3430 \nQ 3184 3816 2847 3947 \nQ 2603 4041 2063 4041 \nL 1100 4041 \nL 1100 541 \nz\n\" id=\"ArialMT-44\" transform=\"scale(0.015625)\"/>\n      <path d=\"M 2588 409 \nQ 2275 144 1986 34 \nQ 1697 -75 1366 -75 \nQ 819 -75 525 192 \nQ 231 459 231 875 \nQ 231 1119 342 1320 \nQ 453 1522 633 1644 \nQ 813 1766 1038 1828 \nQ 1203 1872 1538 1913 \nQ 2219 1994 2541 2106 \nQ 2544 2222 2544 2253 \nQ 2544 2597 2384 2738 \nQ 2169 2928 1744 2928 \nQ 1347 2928 1158 2789 \nQ 969 2650 878 2297 \nL 328 2372 \nQ 403 2725 575 2942 \nQ 747 3159 1072 3276 \nQ 1397 3394 1825 3394 \nQ 2250 3394 2515 3294 \nQ 2781 3194 2906 3042 \nQ 3031 2891 3081 2659 \nQ 3109 2516 3109 2141 \nL 3109 1391 \nQ 3109 606 3145 398 \nQ 3181 191 3288 0 \nL 2700 0 \nQ 2613 175 2588 409 \nz\nM 2541 1666 \nQ 2234 1541 1622 1453 \nQ 1275 1403 1131 1340 \nQ 988 1278 909 1158 \nQ 831 1038 831 891 \nQ 831 666 1001 516 \nQ 1172 366 1500 366 \nQ 1825 366 2078 508 \nQ 2331 650 2450 897 \nQ 2541 1088 2541 1459 \nL 2541 1666 \nz\n\" id=\"ArialMT-61\" transform=\"scale(0.015625)\"/>\n      <path d=\"M 1650 503 \nL 1731 6 \nQ 1494 -44 1306 -44 \nQ 1000 -44 831 53 \nQ 663 150 594 308 \nQ 525 466 525 972 \nL 525 2881 \nL 113 2881 \nL 113 3319 \nL 525 3319 \nL 525 4141 \nL 1084 4478 \nL 1084 3319 \nL 1650 3319 \nL 1650 2881 \nL 1084 2881 \nL 1084 941 \nQ 1084 700 1114 631 \nQ 1144 563 1211 522 \nQ 1278 481 1403 481 \nQ 1497 481 1650 503 \nz\n\" id=\"ArialMT-74\" transform=\"scale(0.015625)\"/>\n      <path d=\"M 197 991 \nL 753 1078 \nQ 800 744 1014 566 \nQ 1228 388 1613 388 \nQ 2000 388 2187 545 \nQ 2375 703 2375 916 \nQ 2375 1106 2209 1216 \nQ 2094 1291 1634 1406 \nQ 1016 1563 777 1677 \nQ 538 1791 414 1992 \nQ 291 2194 291 2438 \nQ 291 2659 392 2848 \nQ 494 3038 669 3163 \nQ 800 3259 1026 3326 \nQ 1253 3394 1513 3394 \nQ 1903 3394 2198 3281 \nQ 2494 3169 2634 2976 \nQ 2775 2784 2828 2463 \nL 2278 2388 \nQ 2241 2644 2061 2787 \nQ 1881 2931 1553 2931 \nQ 1166 2931 1000 2803 \nQ 834 2675 834 2503 \nQ 834 2394 903 2306 \nQ 972 2216 1119 2156 \nQ 1203 2125 1616 2013 \nQ 2213 1853 2448 1751 \nQ 2684 1650 2818 1456 \nQ 2953 1263 2953 975 \nQ 2953 694 2789 445 \nQ 2625 197 2315 61 \nQ 2006 -75 1616 -75 \nQ 969 -75 630 194 \nQ 291 463 197 991 \nz\n\" id=\"ArialMT-73\" transform=\"scale(0.015625)\"/>\n      <path d=\"M 2694 1069 \nL 3275 997 \nQ 3138 488 2766 206 \nQ 2394 -75 1816 -75 \nQ 1088 -75 661 373 \nQ 234 822 234 1631 \nQ 234 2469 665 2931 \nQ 1097 3394 1784 3394 \nQ 2450 3394 2872 2941 \nQ 3294 2488 3294 1666 \nQ 3294 1616 3291 1516 \nL 816 1516 \nQ 847 969 1125 678 \nQ 1403 388 1819 388 \nQ 2128 388 2347 550 \nQ 2566 713 2694 1069 \nz\nM 847 1978 \nL 2700 1978 \nQ 2663 2397 2488 2606 \nQ 2219 2931 1791 2931 \nQ 1403 2931 1139 2672 \nQ 875 2413 847 1978 \nz\n\" id=\"ArialMT-65\" transform=\"scale(0.015625)\"/>\n      <path id=\"ArialMT-20\" transform=\"scale(0.015625)\"/>\n      <path d=\"M 422 0 \nL 422 3319 \nL 925 3319 \nL 925 2853 \nQ 1081 3097 1340 3245 \nQ 1600 3394 1931 3394 \nQ 2300 3394 2536 3241 \nQ 2772 3088 2869 2813 \nQ 3263 3394 3894 3394 \nQ 4388 3394 4653 3120 \nQ 4919 2847 4919 2278 \nL 4919 0 \nL 4359 0 \nL 4359 2091 \nQ 4359 2428 4304 2576 \nQ 4250 2725 4106 2815 \nQ 3963 2906 3769 2906 \nQ 3419 2906 3187 2673 \nQ 2956 2441 2956 1928 \nL 2956 0 \nL 2394 0 \nL 2394 2156 \nQ 2394 2531 2256 2718 \nQ 2119 2906 1806 2906 \nQ 1569 2906 1367 2781 \nQ 1166 2656 1075 2415 \nQ 984 2175 984 1722 \nL 984 0 \nL 422 0 \nz\n\" id=\"ArialMT-6d\" transform=\"scale(0.015625)\"/>\n      <path d=\"M 422 -1272 \nL 422 3319 \nL 934 3319 \nL 934 2888 \nQ 1116 3141 1344 3267 \nQ 1572 3394 1897 3394 \nQ 2322 3394 2647 3175 \nQ 2972 2956 3137 2557 \nQ 3303 2159 3303 1684 \nQ 3303 1175 3120 767 \nQ 2938 359 2589 142 \nQ 2241 -75 1856 -75 \nQ 1575 -75 1351 44 \nQ 1128 163 984 344 \nL 984 -1272 \nL 422 -1272 \nz\nM 931 1641 \nQ 931 1000 1190 694 \nQ 1450 388 1819 388 \nQ 2194 388 2461 705 \nQ 2728 1022 2728 1688 \nQ 2728 2322 2467 2637 \nQ 2206 2953 1844 2953 \nQ 1484 2953 1207 2617 \nQ 931 2281 931 1641 \nz\n\" id=\"ArialMT-70\" transform=\"scale(0.015625)\"/>\n      <path d=\"M 409 0 \nL 409 4581 \nL 972 4581 \nL 972 0 \nL 409 0 \nz\n\" id=\"ArialMT-6c\" transform=\"scale(0.015625)\"/>\n     </defs>\n     <use xlink:href=\"#ArialMT-44\"/>\n     <use x=\"72.216797\" xlink:href=\"#ArialMT-61\"/>\n     <use x=\"127.832031\" xlink:href=\"#ArialMT-74\"/>\n     <use x=\"155.615234\" xlink:href=\"#ArialMT-61\"/>\n     <use x=\"211.230469\" xlink:href=\"#ArialMT-73\"/>\n     <use x=\"261.230469\" xlink:href=\"#ArialMT-65\"/>\n     <use x=\"316.845703\" xlink:href=\"#ArialMT-74\"/>\n     <use x=\"344.628906\" xlink:href=\"#ArialMT-20\"/>\n     <use x=\"372.412109\" xlink:href=\"#ArialMT-73\"/>\n     <use x=\"422.412109\" xlink:href=\"#ArialMT-61\"/>\n     <use x=\"478.027344\" xlink:href=\"#ArialMT-6d\"/>\n     <use x=\"561.328125\" xlink:href=\"#ArialMT-70\"/>\n     <use x=\"616.943359\" xlink:href=\"#ArialMT-6c\"/>\n     <use x=\"639.160156\" xlink:href=\"#ArialMT-65\"/>\n     <use x=\"694.775391\" xlink:href=\"#ArialMT-73\"/>\n    </g>\n   </g>\n   <g id=\"legend_1\">\n    <g id=\"patch_7\">\n     <path d=\"M 132.287031 61.709063 \nL 204.165156 61.709063 \nQ 206.365156 61.709063 206.365156 59.509063 \nL 206.365156 29.489375 \nQ 206.365156 27.289375 204.165156 27.289375 \nL 132.287031 27.289375 \nQ 130.087031 27.289375 130.087031 29.489375 \nL 130.087031 59.509063 \nQ 130.087031 61.709063 132.287031 61.709063 \nz\n\" style=\"fill:#eaeaf2;opacity:0.8;stroke:#cccccc;stroke-linejoin:miter;\"/>\n    </g>\n    <g id=\"PathCollection_3\">\n     <g>\n      <use style=\"fill:#4c72b0;stroke:#333333;\" x=\"145.487031\" xlink:href=\"#mf3d1f0bdb2\" y=\"36.675469\"/>\n     </g>\n    </g>\n    <g id=\"text_18\">\n     <!-- Class 0 -->\n     <g style=\"fill:#262626;\" transform=\"translate(165.287031 39.562969)scale(0.11 -0.11)\">\n      <defs>\n       <path d=\"M 3763 1606 \nL 4369 1453 \nQ 4178 706 3683 314 \nQ 3188 -78 2472 -78 \nQ 1731 -78 1267 223 \nQ 803 525 561 1097 \nQ 319 1669 319 2325 \nQ 319 3041 592 3573 \nQ 866 4106 1370 4382 \nQ 1875 4659 2481 4659 \nQ 3169 4659 3637 4309 \nQ 4106 3959 4291 3325 \nL 3694 3184 \nQ 3534 3684 3231 3912 \nQ 2928 4141 2469 4141 \nQ 1941 4141 1586 3887 \nQ 1231 3634 1087 3207 \nQ 944 2781 944 2328 \nQ 944 1744 1114 1308 \nQ 1284 872 1643 656 \nQ 2003 441 2422 441 \nQ 2931 441 3284 734 \nQ 3638 1028 3763 1606 \nz\n\" id=\"ArialMT-43\" transform=\"scale(0.015625)\"/>\n      </defs>\n      <use xlink:href=\"#ArialMT-43\"/>\n      <use x=\"72.216797\" xlink:href=\"#ArialMT-6c\"/>\n      <use x=\"94.433594\" xlink:href=\"#ArialMT-61\"/>\n      <use x=\"150.048828\" xlink:href=\"#ArialMT-73\"/>\n      <use x=\"200.048828\" xlink:href=\"#ArialMT-73\"/>\n      <use x=\"250.048828\" xlink:href=\"#ArialMT-20\"/>\n      <use x=\"277.832031\" xlink:href=\"#ArialMT-30\"/>\n     </g>\n    </g>\n    <g id=\"PathCollection_4\">\n     <g>\n      <use style=\"fill:#dd8452;stroke:#333333;\" x=\"145.487031\" xlink:href=\"#m5dc9d0db91\" y=\"52.235313\"/>\n     </g>\n    </g>\n    <g id=\"text_19\">\n     <!-- Class 1 -->\n     <g style=\"fill:#262626;\" transform=\"translate(165.287031 55.122813)scale(0.11 -0.11)\">\n      <use xlink:href=\"#ArialMT-43\"/>\n      <use x=\"72.216797\" xlink:href=\"#ArialMT-6c\"/>\n      <use x=\"94.433594\" xlink:href=\"#ArialMT-61\"/>\n      <use x=\"150.048828\" xlink:href=\"#ArialMT-73\"/>\n      <use x=\"200.048828\" xlink:href=\"#ArialMT-73\"/>\n      <use x=\"250.048828\" xlink:href=\"#ArialMT-20\"/>\n      <use x=\"277.832031\" xlink:href=\"#ArialMT-31\"/>\n     </g>\n    </g>\n   </g>\n  </g>\n </g>\n <defs>\n  <clipPath id=\"pd0741f3ee9\">\n   <rect height=\"217.44\" width=\"217.44\" x=\"59.506094\" y=\"21.789375\"/>\n  </clipPath>\n </defs>\n</svg>\n",
      "text/plain": [
       "<Figure size 2000x2000 with 1 Axes>"
      ]
     },
     "metadata": {},
     "output_type": "display_data"
    }
   ],
   "source": [
    "\n",
    "\n",
    "\n",
    "@torch.no_grad() # Decorator, same effect as \"with torch.no_grad(): ...\" over the whole function.\n",
    "def visualize_classification(model, data, label):\n",
    "\n",
    "    \n",
    "\n",
    "    if isinstance(data, torch.Tensor):\n",
    "        data = data.cpu().numpy()\n",
    "    if isinstance(label, torch.Tensor):\n",
    "        label = label.cpu().numpy()\n",
    "    data_0 = data[label == 0]\n",
    "    data_1 = data[label == 1]\n",
    "\n",
    "    \n",
    "    \n",
    "    \n",
    "    fig = plt.figure(figsize=(4,4), dpi=500)\n",
    "    plt.scatter(data_0[:,0], data_0[:,1], edgecolor=\"#333\", label=\"Class 0\")\n",
    "    plt.scatter(data_1[:,0], data_1[:,1], edgecolor=\"#333\", label=\"Class 1\")\n",
    "    plt.title(\"Dataset samples\")\n",
    "    plt.ylabel(r\"$x_2$\")\n",
    "    plt.xlabel(r\"$x_1$\")\n",
    "    plt.legend()\n",
    "\n",
    "    # for i in range(len(data[:,0])):\n",
    "    #         plt.arrow(data[i, 0], data[i, 1], grad[i, 0], grad[i, 1], head_width=0.05, head_length=0.1, fc='k', ec='k', alpha = 0.5)\n",
    "    \n",
    "    # Let's make use of a lot of operations we have learned above\n",
    "    model.to(device)\n",
    "    c0 = torch.Tensor(to_rgba(\"C0\")).to(device)\n",
    "    c1 = torch.Tensor(to_rgba(\"C1\")).to(device)\n",
    "    x1 = torch.arange(-0.5, 1.5, step=0.01, device=device)\n",
    "    x2 = torch.arange(-0.5, 1.5, step=0.01, device=device)\n",
    "    xx1, xx2 = torch.meshgrid(x1, x2)  # Meshgrid function as in numpy\n",
    "    model_inputs = torch.stack([xx1, xx2], dim=-1)\n",
    "    preds = model(model_inputs)\n",
    "    preds = torch.sigmoid(preds)\n",
    "    output_image = (1 - preds) * c0[None,None] + preds * c1[None,None]  # Specifying \"None\" in a dimension creates a new one\n",
    "    output_image = output_image.cpu().numpy()  # Convert to numpy array. This only works for tensors on CPU, hence first push to CPU\n",
    "    plt.imshow(output_image, origin='lower', extent=(-0.5, 1.5, -0.5, 1.5))\n",
    "    plt.grid(False)\n",
    "    return fig\n",
    "\n",
    "\n",
    "for data, label in test_data_loader:\n",
    "    grad = grad_data_inputs(model, optimizer, data, label, loss_module)\n",
    "    visualize_classification(model, data, label)\n",
    "    break\n",
    "\n",
    "plt.show()"
   ]
  },
  {
   "cell_type": "code",
   "execution_count": 61,
   "metadata": {},
   "outputs": [
    {
     "name": "stdout",
     "output_type": "stream",
     "text": [
      "tensor([[-0.5000, -0.5000, -0.5000,  ..., -0.5000, -0.5000, -0.5000],\n",
      "        [-0.4900, -0.4900, -0.4900,  ..., -0.4900, -0.4900, -0.4900],\n",
      "        [-0.4800, -0.4800, -0.4800,  ..., -0.4800, -0.4800, -0.4800],\n",
      "        ...,\n",
      "        [ 1.4700,  1.4700,  1.4700,  ...,  1.4700,  1.4700,  1.4700],\n",
      "        [ 1.4800,  1.4800,  1.4800,  ...,  1.4800,  1.4800,  1.4800],\n",
      "        [ 1.4900,  1.4900,  1.4900,  ...,  1.4900,  1.4900,  1.4900]])\n",
      "tensor([[[0.0124],\n",
      "         [0.0121],\n",
      "         [0.0119],\n",
      "         ...,\n",
      "         [0.9795],\n",
      "         [0.9795],\n",
      "         [0.9795]],\n",
      "\n",
      "        [[0.0126],\n",
      "         [0.0123],\n",
      "         [0.0121],\n",
      "         ...,\n",
      "         [0.9794],\n",
      "         [0.9794],\n",
      "         [0.9794]],\n",
      "\n",
      "        [[0.0129],\n",
      "         [0.0126],\n",
      "         [0.0123],\n",
      "         ...,\n",
      "         [0.9793],\n",
      "         [0.9793],\n",
      "         [0.9793]],\n",
      "\n",
      "        ...,\n",
      "\n",
      "        [[0.9790],\n",
      "         [0.9796],\n",
      "         [0.9801],\n",
      "         ...,\n",
      "         [0.0114],\n",
      "         [0.0113],\n",
      "         [0.0113]],\n",
      "\n",
      "        [[0.9783],\n",
      "         [0.9788],\n",
      "         [0.9792],\n",
      "         ...,\n",
      "         [0.0114],\n",
      "         [0.0114],\n",
      "         [0.0113]],\n",
      "\n",
      "        [[0.9774],\n",
      "         [0.9779],\n",
      "         [0.9783],\n",
      "         ...,\n",
      "         [0.0115],\n",
      "         [0.0114],\n",
      "         [0.0114]]], grad_fn=<SigmoidBackward>)\n"
     ]
    },
    {
     "data": {
      "application/pdf": "[encoded data removed]",
      "image/svg+xml": "<?xml version=\"1.0\" encoding=\"utf-8\" standalone=\"no\"?>\n<!DOCTYPE svg PUBLIC \"-//W3C//DTD SVG 1.1//EN\"\n  \"http://www.w3.org/Graphics/SVG/1.1/DTD/svg11.dtd\">\n<svg height=\"254.793041pt\" version=\"1.1\" viewBox=\"0 0 259.691094 254.793041\" width=\"259.691094pt\" xmlns=\"http://www.w3.org/2000/svg\" xmlns:xlink=\"http://www.w3.org/1999/xlink\">\n <metadata>\n  <rdf:RDF xmlns:cc=\"http://creativecommons.org/ns#\" xmlns:dc=\"http://purl.org/dc/elements/1.1/\" xmlns:rdf=\"http://www.w3.org/1999/02/22-rdf-syntax-ns#\">\n   <cc:Work>\n    <dc:type rdf:resource=\"http://purl.org/dc/dcmitype/StillImage\"/>\n    <dc:date>2022-03-23T12:53:45.786312</dc:date>\n    <dc:format>image/svg+xml</dc:format>\n    <dc:creator>\n     <cc:Agent>\n      <dc:title>Matplotlib v3.4.2, https://matplotlib.org/</dc:title>\n     </cc:Agent>\n    </dc:creator>\n   </cc:Work>\n  </rdf:RDF>\n </metadata>\n <defs>\n  <style type=\"text/css\">*{stroke-linecap:butt;stroke-linejoin:round;}</style>\n </defs>\n <g id=\"figure_1\">\n  <g id=\"patch_1\">\n   <path d=\"M 0 254.793041 \nL 259.691094 254.793041 \nL 259.691094 0 \nL 0 0 \nz\n\" style=\"fill:#ffffff;\"/>\n  </g>\n  <g id=\"axes_1\">\n   <g id=\"patch_2\">\n    <path d=\"M 35.051094 228.033197 \nL 252.491094 228.033197 \nL 252.491094 10.593197 \nL 35.051094 10.593197 \nz\n\" style=\"fill:#eaeaf2;\"/>\n   </g>\n   <g clip-path=\"url(#p81a98d3bfb)\">\n    <image height=\"218\" id=\"image3ebf61c9ec\" transform=\"scale(1 -1)translate(0 -218)\" width=\"218\" x=\"35.051094\" xlink:href=\"data:image/png;base64,\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\" y=\"-10.033197\"/>\n   </g>\n   <g id=\"matplotlib.axis_1\">\n    <g id=\"xtick_1\">\n     <g id=\"text_1\">\n      <!-- 0 -->\n      <g style=\"fill:#262626;\" transform=\"translate(32.536178 245.406791)scale(0.11 -0.11)\">\n       <defs>\n        <path d=\"M 266 2259 \nQ 266 3072 433 3567 \nQ 600 4063 929 4331 \nQ 1259 4600 1759 4600 \nQ 2128 4600 2406 4451 \nQ 2684 4303 2865 4023 \nQ 3047 3744 3150 3342 \nQ 3253 2941 3253 2259 \nQ 3253 1453 3087 958 \nQ 2922 463 2592 192 \nQ 2263 -78 1759 -78 \nQ 1097 -78 719 397 \nQ 266 969 266 2259 \nz\nM 844 2259 \nQ 844 1131 1108 757 \nQ 1372 384 1759 384 \nQ 2147 384 2411 759 \nQ 2675 1134 2675 2259 \nQ 2675 3391 2411 3762 \nQ 2147 4134 1753 4134 \nQ 1366 4134 1134 3806 \nQ 844 3388 844 2259 \nz\n\" id=\"ArialMT-30\" transform=\"scale(0.015625)\"/>\n       </defs>\n       <use xlink:href=\"#ArialMT-30\"/>\n      </g>\n     </g>\n    </g>\n    <g id=\"xtick_2\">\n     <g id=\"text_2\">\n      <!-- 50 -->\n      <g style=\"fill:#262626;\" transform=\"translate(83.837663 245.406791)scale(0.11 -0.11)\">\n       <defs>\n        <path d=\"M 266 1200 \nL 856 1250 \nQ 922 819 1161 601 \nQ 1400 384 1738 384 \nQ 2144 384 2425 690 \nQ 2706 997 2706 1503 \nQ 2706 1984 2436 2262 \nQ 2166 2541 1728 2541 \nQ 1456 2541 1237 2417 \nQ 1019 2294 894 2097 \nL 366 2166 \nL 809 4519 \nL 3088 4519 \nL 3088 3981 \nL 1259 3981 \nL 1013 2750 \nQ 1425 3038 1878 3038 \nQ 2478 3038 2890 2622 \nQ 3303 2206 3303 1553 \nQ 3303 931 2941 478 \nQ 2500 -78 1738 -78 \nQ 1113 -78 717 272 \nQ 322 622 266 1200 \nz\n\" id=\"ArialMT-35\" transform=\"scale(0.015625)\"/>\n       </defs>\n       <use xlink:href=\"#ArialMT-35\"/>\n       <use x=\"55.615234\" xlink:href=\"#ArialMT-30\"/>\n      </g>\n     </g>\n    </g>\n    <g id=\"xtick_3\">\n     <g id=\"text_3\">\n      <!-- 100 -->\n      <g style=\"fill:#262626;\" transform=\"translate(135.139147 245.406791)scale(0.11 -0.11)\">\n       <defs>\n        <path d=\"M 2384 0 \nL 1822 0 \nL 1822 3584 \nQ 1619 3391 1289 3197 \nQ 959 3003 697 2906 \nL 697 3450 \nQ 1169 3672 1522 3987 \nQ 1875 4303 2022 4600 \nL 2384 4600 \nL 2384 0 \nz\n\" id=\"ArialMT-31\" transform=\"scale(0.015625)\"/>\n       </defs>\n       <use xlink:href=\"#ArialMT-31\"/>\n       <use x=\"55.615234\" xlink:href=\"#ArialMT-30\"/>\n       <use x=\"111.230469\" xlink:href=\"#ArialMT-30\"/>\n      </g>\n     </g>\n    </g>\n    <g id=\"xtick_4\">\n     <g id=\"text_4\">\n      <!-- 150 -->\n      <g style=\"fill:#262626;\" transform=\"translate(189.499147 245.406791)scale(0.11 -0.11)\">\n       <use xlink:href=\"#ArialMT-31\"/>\n       <use x=\"55.615234\" xlink:href=\"#ArialMT-35\"/>\n       <use x=\"111.230469\" xlink:href=\"#ArialMT-30\"/>\n      </g>\n     </g>\n    </g>\n   </g>\n   <g id=\"matplotlib.axis_2\">\n    <g id=\"ytick_1\">\n     <g id=\"text_5\">\n      <!-- 0 -->\n      <g style=\"fill:#262626;\" transform=\"translate(19.434063 15.073594)scale(0.11 -0.11)\">\n       <use xlink:href=\"#ArialMT-30\"/>\n      </g>\n     </g>\n    </g>\n    <g id=\"ytick_2\">\n     <g id=\"text_6\">\n      <!-- 25 -->\n      <g style=\"fill:#262626;\" transform=\"translate(13.317031 42.253594)scale(0.11 -0.11)\">\n       <defs>\n        <path d=\"M 3222 541 \nL 3222 0 \nL 194 0 \nQ 188 203 259 391 \nQ 375 700 629 1000 \nQ 884 1300 1366 1694 \nQ 2113 2306 2375 2664 \nQ 2638 3022 2638 3341 \nQ 2638 3675 2398 3904 \nQ 2159 4134 1775 4134 \nQ 1369 4134 1125 3890 \nQ 881 3647 878 3216 \nL 300 3275 \nQ 359 3922 746 4261 \nQ 1134 4600 1788 4600 \nQ 2447 4600 2831 4234 \nQ 3216 3869 3216 3328 \nQ 3216 3053 3103 2787 \nQ 2991 2522 2730 2228 \nQ 2469 1934 1863 1422 \nQ 1356 997 1212 845 \nQ 1069 694 975 541 \nL 3222 541 \nz\n\" id=\"ArialMT-32\" transform=\"scale(0.015625)\"/>\n       </defs>\n       <use xlink:href=\"#ArialMT-32\"/>\n       <use x=\"55.615234\" xlink:href=\"#ArialMT-35\"/>\n      </g>\n     </g>\n    </g>\n    <g id=\"ytick_3\">\n     <g id=\"text_7\">\n      <!-- 50 -->\n      <g style=\"fill:#262626;\" transform=\"translate(13.317031 69.433594)scale(0.11 -0.11)\">\n       <use xlink:href=\"#ArialMT-35\"/>\n       <use x=\"55.615234\" xlink:href=\"#ArialMT-30\"/>\n      </g>\n     </g>\n    </g>\n    <g id=\"ytick_4\">\n     <g id=\"text_8\">\n      <!-- 75 -->\n      <g style=\"fill:#262626;\" transform=\"translate(13.317031 96.613594)scale(0.11 -0.11)\">\n       <defs>\n        <path d=\"M 303 3981 \nL 303 4522 \nL 3269 4522 \nL 3269 4084 \nQ 2831 3619 2401 2847 \nQ 1972 2075 1738 1259 \nQ 1569 684 1522 0 \nL 944 0 \nQ 953 541 1156 1306 \nQ 1359 2072 1739 2783 \nQ 2119 3494 2547 3981 \nL 303 3981 \nz\n\" id=\"ArialMT-37\" transform=\"scale(0.015625)\"/>\n       </defs>\n       <use xlink:href=\"#ArialMT-37\"/>\n       <use x=\"55.615234\" xlink:href=\"#ArialMT-35\"/>\n      </g>\n     </g>\n    </g>\n    <g id=\"ytick_5\">\n     <g id=\"text_9\">\n      <!-- 100 -->\n      <g style=\"fill:#262626;\" transform=\"translate(7.2 123.793594)scale(0.11 -0.11)\">\n       <use xlink:href=\"#ArialMT-31\"/>\n       <use x=\"55.615234\" xlink:href=\"#ArialMT-30\"/>\n       <use x=\"111.230469\" xlink:href=\"#ArialMT-30\"/>\n      </g>\n     </g>\n    </g>\n    <g id=\"ytick_6\">\n     <g id=\"text_10\">\n      <!-- 125 -->\n      <g style=\"fill:#262626;\" transform=\"translate(7.2 150.973594)scale(0.11 -0.11)\">\n       <use xlink:href=\"#ArialMT-31\"/>\n       <use x=\"55.615234\" xlink:href=\"#ArialMT-32\"/>\n       <use x=\"111.230469\" xlink:href=\"#ArialMT-35\"/>\n      </g>\n     </g>\n    </g>\n    <g id=\"ytick_7\">\n     <g id=\"text_11\">\n      <!-- 150 -->\n      <g style=\"fill:#262626;\" transform=\"translate(7.2 178.153594)scale(0.11 -0.11)\">\n       <use xlink:href=\"#ArialMT-31\"/>\n       <use x=\"55.615234\" xlink:href=\"#ArialMT-35\"/>\n       <use x=\"111.230469\" xlink:href=\"#ArialMT-30\"/>\n      </g>\n     </g>\n    </g>\n    <g id=\"ytick_8\">\n     <g id=\"text_12\">\n      <!-- 175 -->\n      <g style=\"fill:#262626;\" transform=\"translate(7.2 205.333594)scale(0.11 -0.11)\">\n       <use xlink:href=\"#ArialMT-31\"/>\n       <use x=\"55.615234\" xlink:href=\"#ArialMT-37\"/>\n       <use x=\"111.230469\" xlink:href=\"#ArialMT-35\"/>\n      </g>\n     </g>\n    </g>\n   </g>\n   <g id=\"patch_3\">\n    <path d=\"M 35.051094 228.033197 \nL 35.051094 10.593197 \n\" style=\"fill:none;stroke:#ffffff;stroke-linecap:square;stroke-linejoin:miter;stroke-width:1.25;\"/>\n   </g>\n   <g id=\"patch_4\">\n    <path d=\"M 252.491094 228.033197 \nL 252.491094 10.593197 \n\" style=\"fill:none;stroke:#ffffff;stroke-linecap:square;stroke-linejoin:miter;stroke-width:1.25;\"/>\n   </g>\n   <g id=\"patch_5\">\n    <path d=\"M 35.051094 228.033197 \nL 252.491094 228.033197 \n\" style=\"fill:none;stroke:#ffffff;stroke-linecap:square;stroke-linejoin:miter;stroke-width:1.25;\"/>\n   </g>\n   <g id=\"patch_6\">\n    <path d=\"M 35.051094 10.593197 \nL 252.491094 10.593197 \n\" style=\"fill:none;stroke:#ffffff;stroke-linecap:square;stroke-linejoin:miter;stroke-width:1.25;\"/>\n   </g>\n  </g>\n </g>\n <defs>\n  <clipPath id=\"p81a98d3bfb\">\n   <rect height=\"217.44\" width=\"217.44\" x=\"35.051094\" y=\"10.593197\"/>\n  </clipPath>\n </defs>\n</svg>\n",
      "text/plain": [
       "<Figure size 432x288 with 1 Axes>"
      ]
     },
     "metadata": {},
     "output_type": "display_data"
    }
   ],
   "source": [
    "\n",
    "c0 = torch.Tensor(to_rgba(\"C0\")).to(device)\n",
    "c1 = torch.Tensor(to_rgba(\"C1\")).to(device)\n",
    "x1 = torch.arange(-0.5, 1.5, step=0.01, device=device)\n",
    "x2 = torch.arange(-0.5, 1.5, step=0.01, device=device)\n",
    "xx1, xx2 = torch.meshgrid(x1, x2)  # Meshgrid function as in numpy\n",
    "print(xx1)\n",
    "model_inputs = torch.stack([xx1, xx2], dim=-1)\n",
    "preds = model(model_inputs)\n",
    "preds = torch.sigmoid(preds)\n",
    "print(preds)\n",
    "output_image = (1 - preds) * c0[None,None] #+ preds * c1[None,None]  # Specifying \"None\" in a dimension creates a new one\n",
    "output_image = output_image.detach().numpy()  # Convert to numpy array. This only works for tensors on CPU, hence first push to CPU\n",
    "plt.imshow(output_image)\n",
    "plt.grid(False)"
   ]
  },
  {
   "cell_type": "code",
   "execution_count": null,
   "metadata": {},
   "outputs": [],
   "source": []
  },
  {
   "cell_type": "markdown",
   "metadata": {},
   "source": [
    "The decision boundaries might not look exactly as in the figure in the preamble of this section which can be caused by running it on CPU or a different GPU architecture. Nevertheless, the result on the accuracy metric should be the approximately the same. "
   ]
  },
  {
   "cell_type": "markdown",
   "metadata": {},
   "source": [
    "## Additional features we didn't get to discuss yet\n",
    "\n",
    "Finally, you are all set to start with your own PyTorch project! In summary, we have looked at how we can build neural networks in PyTorch, and train and test them on data. However, there is still much more to PyTorch we haven't discussed yet. In the comming series of Jupyter notebooks, we will discover more and more functionalities of PyTorch, so that you also get familiar to PyTorch concepts beyond the basics. If you are already interested in learning more of PyTorch, we recommend the official [tutorial website](https://pytorch.org/tutorials/) that contains many tutorials on various topics. Especially logging with Tensorboard ([official tutorial here](https://pytorch.org/tutorials/intermediate/tensorboard_tutorial.html)) is a good practice that we will explore further from Tutorial 5 on in combination with PyTorch Lightning.\n",
    "Nonetheless, let's check it shortly out how we could use TensorBoard in our small example."
   ]
  },
  {
   "cell_type": "markdown",
   "metadata": {},
   "source": [
    "### TensorBoard logging\n",
    "\n",
    "TensorBoard is a logging and visualization tool that is a popular choice for training deep learning models. Although initially published for TensorFlow, TensorBoard is also integrated in PyTorch allowing us to easily use it. First, let's import it below."
   ]
  },
  {
   "cell_type": "code",
   "execution_count": 62,
   "metadata": {},
   "outputs": [],
   "source": [
    "# Import tensorboard logger from PyTorch\n",
    "from torch.utils.tensorboard import SummaryWriter\n",
    "\n",
    "# Load tensorboard extension for Jupyter Notebook, only need to start TB in the notebook\n",
    "%load_ext tensorboard"
   ]
  },
  {
   "cell_type": "markdown",
   "metadata": {},
   "source": [
    "The last line is required if you want to run TensorBoard directly in the Jupyter Notebook. Otherwise, you can start TensorBoard from the terminal.\n",
    "\n",
    "PyTorch's TensorBoard API is simple to use. We start the logging process by creating a new object, `writer = SummaryWriter(...)`, where we specify the directory in which the logging file should be saved. With this object, we can log different aspects of our model by calling functions of the style `writer.add_...`. For example, we can visualize the computation graph with the function `writer.add_graph`, or add a scalar value like the loss with `writer.add_scalar`. Let's adapt our initial training function with adding a TensorBoard logger below."
   ]
  },
  {
   "cell_type": "code",
   "execution_count": 63,
   "metadata": {},
   "outputs": [],
   "source": [
    "def train_model_with_logger(model, optimizer, data_loader, loss_module, val_dataset, num_epochs=100, logging_dir='runs/our_experiment'):\n",
    "    # Create TensorBoard logger\n",
    "    writer = SummaryWriter(logging_dir)\n",
    "    model_plotted = False\n",
    "    \n",
    "    # Set model to train mode\n",
    "    model.train() \n",
    "    \n",
    "    # Training loop\n",
    "    for epoch in tqdm(range(num_epochs)):\n",
    "        epoch_loss = 0.0\n",
    "        for data_inputs, data_labels in data_loader:\n",
    "            \n",
    "            ## Step 1: Move input data to device (only strictly necessary if we use GPU)\n",
    "            data_inputs = data_inputs.to(device)\n",
    "            data_labels = data_labels.to(device)\n",
    "            \n",
    "            # For the very first batch, we visualize the computation graph in TensorBoard\n",
    "            if not model_plotted:\n",
    "                writer.add_graph(model, data_inputs)\n",
    "                model_plotted = True\n",
    "            \n",
    "            ## Step 2: Run the model on the input data\n",
    "            preds = model(data_inputs)\n",
    "            preds = preds.squeeze(dim=1) # Output is [Batch size, 1], but we want [Batch size]\n",
    "            \n",
    "            ## Step 3: Calculate the loss\n",
    "            loss = loss_module(preds, data_labels.float())\n",
    "            \n",
    "            ## Step 4: Perform backpropagation\n",
    "            # Before calculating the gradients, we need to ensure that they are all zero. \n",
    "            # The gradients would not be overwritten, but actually added to the existing ones.\n",
    "            optimizer.zero_grad() \n",
    "            # Perform backpropagation\n",
    "            loss.backward()\n",
    "            \n",
    "            ## Step 5: Update the parameters\n",
    "            optimizer.step()\n",
    "            \n",
    "            ## Step 6: Take the running average of the loss\n",
    "            epoch_loss += loss.item()\n",
    "            \n",
    "        # Add average loss to TensorBoard\n",
    "        epoch_loss /= len(data_loader)\n",
    "        writer.add_scalar('training_loss',\n",
    "                          epoch_loss,\n",
    "                          global_step = epoch + 1)\n",
    "        \n",
    "        # Visualize prediction and add figure to TensorBoard\n",
    "        # Since matplotlib figures can be slow in rendering, we only do it every 10th epoch\n",
    "        if (epoch + 1) % 10 == 0:\n",
    "            fig = visualize_classification(model, val_dataset.data, val_dataset.label)\n",
    "            writer.add_figure('predictions',\n",
    "                              fig,\n",
    "                              global_step = epoch + 1)\n",
    "    \n",
    "    writer.close()"
   ]
  },
  {
   "cell_type": "markdown",
   "metadata": {},
   "source": [
    "Let's use this method to train a model as before, with a new model and optimizer."
   ]
  },
  {
   "cell_type": "code",
   "execution_count": 64,
   "metadata": {},
   "outputs": [
    {
     "data": {
      "application/vnd.jupyter.widget-view+json": {
       "model_id": "84a33a6b79414299bd8b4eb03bd3ae62",
       "version_major": 2,
       "version_minor": 0
      },
      "text/plain": [
       "  0%|          | 0/100 [00:00<?, ?it/s]"
      ]
     },
     "metadata": {},
     "output_type": "display_data"
    }
   ],
   "source": [
    "model = SimpleClassifier(num_inputs=2, num_hidden=4, num_outputs=1).to(device)\n",
    "optimizer = torch.optim.SGD(model.parameters(), lr=0.1)\n",
    "train_model_with_logger(model, optimizer, train_data_loader, loss_module, val_dataset=dataset)"
   ]
  },
  {
   "cell_type": "markdown",
   "metadata": {},
   "source": [
    "The TensorBoard file in the folder `runs/our_experiment` now contains a loss curve, the computation graph of our network, and a visualization of the learned predictions over number of epochs. To start the TensorBoard visualizer, simply run the following statement:"
   ]
  },
  {
   "cell_type": "code",
   "execution_count": 66,
   "metadata": {},
   "outputs": [
    {
     "data": {
      "text/plain": [
       "Reusing TensorBoard on port 6007 (pid 33758), started 0:03:33 ago. (Use '!kill 33758' to kill it.)"
      ]
     },
     "metadata": {},
     "output_type": "display_data"
    },
    {
     "data": {
      "text/html": [
       "\n",
       "      <iframe id=\"tensorboard-frame-606f44f6f536f475\" width=\"100%\" height=\"800\" frameborder=\"0\">\n",
       "      </iframe>\n",
       "      <script>\n",
       "        (function() {\n",
       "          const frame = document.getElementById(\"tensorboard-frame-606f44f6f536f475\");\n",
       "          const url = new URL(\"http://localhost\");\n",
       "          const port = 6007;\n",
       "          if (port) {\n",
       "            url.port = port;\n",
       "          }\n",
       "          frame.src = url;\n",
       "        })();\n",
       "      </script>\n",
       "    "
      ],
      "text/plain": [
       "<IPython.core.display.HTML object>"
      ]
     },
     "metadata": {},
     "output_type": "display_data"
    }
   ],
   "source": [
    "%tensorboard --logdir runs/our_experiment"
   ]
  },
  {
   "cell_type": "markdown",
   "metadata": {},
   "source": [
    "<center><img src=\"tensorboard_screenshot.png\" width=\"1100px\"></center>\n",
    "\n",
    "TensorBoard visualizations can help to identify possible issues with your model, and identify situations such as overfitting. You can also track the training progress while a model is training, since the logger automatically writes everything added to it to the logging file. Feel free to explore the TensorBoard functionalities, and we will make use of TensorBoards a couple of times from Tutorial 5 on."
   ]
  }
 ],
 "metadata": {
  "kernelspec": {
   "display_name": "Python 3",
   "language": "python",
   "name": "python3"
  },
  "language_info": {
   "codemirror_mode": {
    "name": "ipython",
    "version": 3
   },
   "file_extension": ".py",
   "mimetype": "text/x-python",
   "name": "python",
   "nbconvert_exporter": "python",
   "pygments_lexer": "ipython3",
   "version": "3.9.10"
  }
 },
 "nbformat": 4,
 "nbformat_minor": 4
}
