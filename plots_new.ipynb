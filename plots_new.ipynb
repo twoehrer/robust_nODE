{
 "cells": [
  {
   "cell_type": "code",
   "execution_count": 1,
   "metadata": {},
   "outputs": [],
   "source": [
    "import torch\n",
    "\n",
    "device = torch.device('cuda' if torch.cuda.is_available() else 'cpu')\n",
    "\n",
    "from torch.utils.data import DataLoader,TensorDataset\n",
    "from plots.gifs import trajectory_gif\n",
    "from plots.plots import get_feature_history, plt_train_error, plt_norm_state, plt_norm_control, plt_classifier, feature_plot, plt_dataset\n",
    "from models.training import Trainer, robTrainer\n",
    "from models.neural_odes import NeuralODE, robNeuralODE\n",
    "from models.resnets import ResNet\n",
    "import pickle\n",
    "import sys\n",
    "import matplotlib.pyplot as plt\n",
    "import imageio\n",
    "\n",
    "from sklearn.datasets import make_moons, make_circles\n",
    "from sklearn.model_selection import train_test_split\n",
    "\n",
    "#if training = False, models will be loaded from file\n"
   ]
  },
  {
   "cell_type": "code",
   "execution_count": 2,
   "metadata": {},
   "outputs": [],
   "source": [
    "hidden_dim, data_dim = 2, 2\n",
    "T, num_steps = 5.0, 10  #T is the end time, num_steps are the amount of discretization steps for the ODE solver\n",
    "dt = T/num_steps\n",
    "turnpike = False\n",
    "bound = 0.\n",
    "fp = False\n",
    "cross_entropy = True\n",
    "noise = 0.2\n",
    "\n",
    "\n",
    "training = True #train new network or load saved one\n",
    "num_epochs = 2 #number of optimization epochs for gradient decent\n",
    "\n",
    "if turnpike:\n",
    "    weight_decay = 0 if bound>0. else dt*0.01\n",
    "else: \n",
    "    weight_decay = dt*0.01          #0.01 for fp, 0.1 else"
   ]
  },
  {
   "cell_type": "code",
   "execution_count": 3,
   "metadata": {},
   "outputs": [],
   "source": [
    "anode = NeuralODE(device, data_dim, hidden_dim, augment_dim=0, non_linearity='tanh', \n",
    "                    architecture='outside', T=T, time_steps=num_steps, fixed_projector=fp, cross_entropy=cross_entropy)\n",
    "\n",
    "optimizer_anode = torch.optim.Adam(anode.parameters(), lr=1e-3, weight_decay=weight_decay) #weight decay parameter modifies norm\n",
    "trainer_anode = Trainer(anode, optimizer_anode, device, cross_entropy=cross_entropy, \n",
    "                        turnpike=turnpike, bound=bound, fixed_projector=fp, verbose = False)\n",
    "\n",
    "\n",
    "anode_test = NeuralODE(device, data_dim, hidden_dim, augment_dim=0, non_linearity='tanh', \n",
    "                    architecture='outside', T=T, time_steps=num_steps, fixed_projector=fp, cross_entropy=cross_entropy)\n",
    "\n",
    "optimizer_anode_test = torch.optim.Adam(anode_test.parameters(), lr=1e-3, weight_decay=weight_decay) #weight decay parameter modifies norm\n",
    "trainer_anode_test = Trainer(anode_test, optimizer_anode_test, device, cross_entropy=cross_entropy, \n",
    "                        turnpike=turnpike, bound=bound, fixed_projector=fp, verbose = False)\n"
   ]
  },
  {
   "cell_type": "code",
   "execution_count": 4,
   "metadata": {},
   "outputs": [
    {
     "data": {
      "text/plain": [
       "(tensor([3.8884, 0.5821], grad_fn=<AddBackward0>),\n",
       " tensor([[ 3.0499, -0.0346],\n",
       "         [ 2.9069,  0.2364],\n",
       "         [ 2.7729,  0.5903],\n",
       "         [ 2.7523,  0.9638],\n",
       "         [ 2.4026,  1.1522],\n",
       "         [ 2.3357,  1.1824],\n",
       "         [ 2.5455,  0.9758],\n",
       "         [ 2.7181,  0.6679],\n",
       "         [ 3.2609,  0.6052],\n",
       "         [ 3.8884,  0.5821]], grad_fn=<AddmmBackward>))"
      ]
     },
     "execution_count": 4,
     "metadata": {},
     "output_type": "execute_result"
    }
   ],
   "source": [
    "#NOW I USE IMPLEMENTED ADJOINT\n",
    "rob_node = NeuralODE(device, data_dim, hidden_dim, adjoint = True, augment_dim=0, non_linearity='tanh', \n",
    "                            architecture='outside', T=T, time_steps=num_steps, fixed_projector=fp, cross_entropy=cross_entropy)\n",
    "\n",
    "\n",
    "optimizer_rob_node = torch.optim.Adam(rob_node.parameters(), lr=1e-3, weight_decay=weight_decay) #weight decay parameter modifies norm\n",
    "trainer_rob_node = robTrainer(rob_node, optimizer_rob_node, device, cross_entropy=cross_entropy, \n",
    "                        turnpike=turnpike, bound=bound, fixed_projector=fp, verbose = False)\n",
    "\n",
    "x = torch.tensor([1.,2.])\n",
    "rob_node(x)\n",
    "\n",
    "rob_node(x + torch.tensor([0.5,0.5]))\n",
    "                    "
   ]
  },
  {
   "cell_type": "markdown",
   "metadata": {},
   "source": [
    "initializing self.adjoint_flow creates additional layers into rob_node. Does this effect the learning? Or can I just save/load only the important ones and it will be fine?"
   ]
  },
  {
   "cell_type": "code",
   "execution_count": 5,
   "metadata": {},
   "outputs": [
    {
     "name": "stderr",
     "output_type": "stream",
     "text": [
      "/Users/Tobi/FAUbox/Python/borjan dynamical.systems/models/training.py:116: UserWarning: Implicit dimension choice for softmax has been deprecated. Change the call to include dim=X as an argument.\n",
      "  softpred = m(y_pred)\n"
     ]
    },
    {
     "ename": "ModuleAttributeError",
     "evalue": "'NeuralODE' object has no attribute 'adj_traj_p1'",
     "output_type": "error",
     "traceback": [
      "\u001b[0;31m---------------------------------------------------------------------------\u001b[0m",
      "\u001b[0;31mModuleAttributeError\u001b[0m                      Traceback (most recent call last)",
      "\u001b[0;32m/var/folders/mr/rhl90_4n1sl5ykvnqh3d18t40000gn/T/ipykernel_52518/1833022333.py\u001b[0m in \u001b[0;36m<module>\u001b[0;34m\u001b[0m\n\u001b[1;32m     39\u001b[0m     \u001b[0;31m#trainer_anode_test.train(dataloader, num_epochs)\u001b[0m\u001b[0;34m\u001b[0m\u001b[0;34m\u001b[0m\u001b[0;34m\u001b[0m\u001b[0m\n\u001b[1;32m     40\u001b[0m \u001b[0;34m\u001b[0m\u001b[0m\n\u001b[0;32m---> 41\u001b[0;31m     \u001b[0mtrainer_rob_node\u001b[0m\u001b[0;34m.\u001b[0m\u001b[0mtrain\u001b[0m\u001b[0;34m(\u001b[0m\u001b[0mdataloader\u001b[0m\u001b[0;34m,\u001b[0m \u001b[0mnum_epochs\u001b[0m\u001b[0;34m)\u001b[0m\u001b[0;34m\u001b[0m\u001b[0;34m\u001b[0m\u001b[0m\n\u001b[0m\u001b[1;32m     42\u001b[0m \u001b[0;34m\u001b[0m\u001b[0m\n\u001b[1;32m     43\u001b[0m     \u001b[0mtorch\u001b[0m\u001b[0;34m.\u001b[0m\u001b[0msave\u001b[0m\u001b[0;34m(\u001b[0m\u001b[0manode\u001b[0m\u001b[0;34m.\u001b[0m\u001b[0mstate_dict\u001b[0m\u001b[0;34m(\u001b[0m\u001b[0;34m)\u001b[0m\u001b[0;34m,\u001b[0m \u001b[0;34m'anode.pth'\u001b[0m\u001b[0;34m)\u001b[0m\u001b[0;34m\u001b[0m\u001b[0;34m\u001b[0m\u001b[0m\n",
      "\u001b[0;32m~/FAUbox/Python/borjan dynamical.systems/models/training.py\u001b[0m in \u001b[0;36mtrain\u001b[0;34m(self, data_loader, num_epochs)\u001b[0m\n\u001b[1;32m    367\u001b[0m     \u001b[0;32mdef\u001b[0m \u001b[0mtrain\u001b[0m\u001b[0;34m(\u001b[0m\u001b[0mself\u001b[0m\u001b[0;34m,\u001b[0m \u001b[0mdata_loader\u001b[0m\u001b[0;34m,\u001b[0m \u001b[0mnum_epochs\u001b[0m\u001b[0;34m)\u001b[0m\u001b[0;34m:\u001b[0m\u001b[0;34m\u001b[0m\u001b[0;34m\u001b[0m\u001b[0m\n\u001b[1;32m    368\u001b[0m         \u001b[0;32mfor\u001b[0m \u001b[0mepoch\u001b[0m \u001b[0;32min\u001b[0m \u001b[0mrange\u001b[0m\u001b[0;34m(\u001b[0m\u001b[0mnum_epochs\u001b[0m\u001b[0;34m)\u001b[0m\u001b[0;34m:\u001b[0m\u001b[0;34m\u001b[0m\u001b[0;34m\u001b[0m\u001b[0m\n\u001b[0;32m--> 369\u001b[0;31m             \u001b[0mavg_loss\u001b[0m \u001b[0;34m=\u001b[0m \u001b[0mself\u001b[0m\u001b[0;34m.\u001b[0m\u001b[0m_train_epoch\u001b[0m\u001b[0;34m(\u001b[0m\u001b[0mdata_loader\u001b[0m\u001b[0;34m,\u001b[0m \u001b[0mepoch\u001b[0m\u001b[0;34m)\u001b[0m\u001b[0;34m\u001b[0m\u001b[0;34m\u001b[0m\u001b[0m\n\u001b[0m\u001b[1;32m    370\u001b[0m             \u001b[0;32mif\u001b[0m \u001b[0mself\u001b[0m\u001b[0;34m.\u001b[0m\u001b[0mverbose\u001b[0m\u001b[0;34m:\u001b[0m\u001b[0;34m\u001b[0m\u001b[0;34m\u001b[0m\u001b[0m\n\u001b[1;32m    371\u001b[0m                 \u001b[0mprint\u001b[0m\u001b[0;34m(\u001b[0m\u001b[0;34m\"Epoch {}: {:.3f}\"\u001b[0m\u001b[0;34m.\u001b[0m\u001b[0mformat\u001b[0m\u001b[0;34m(\u001b[0m\u001b[0mepoch\u001b[0m \u001b[0;34m+\u001b[0m \u001b[0;36m1\u001b[0m\u001b[0;34m,\u001b[0m \u001b[0mavg_loss\u001b[0m\u001b[0;34m)\u001b[0m\u001b[0;34m)\u001b[0m\u001b[0;34m\u001b[0m\u001b[0;34m\u001b[0m\u001b[0m\n",
      "\u001b[0;32m~/FAUbox/Python/borjan dynamical.systems/models/training.py\u001b[0m in \u001b[0;36m_train_epoch\u001b[0;34m(self, data_loader, epoch)\u001b[0m\n\u001b[1;32m    384\u001b[0m             \u001b[0;32mif\u001b[0m \u001b[0;32mnot\u001b[0m \u001b[0mself\u001b[0m\u001b[0;34m.\u001b[0m\u001b[0mis_resnet\u001b[0m\u001b[0;34m:\u001b[0m\u001b[0;34m\u001b[0m\u001b[0;34m\u001b[0m\u001b[0m\n\u001b[1;32m    385\u001b[0m                 \u001b[0my_pred\u001b[0m\u001b[0;34m,\u001b[0m \u001b[0mtraj\u001b[0m  \u001b[0;34m=\u001b[0m \u001b[0mself\u001b[0m\u001b[0;34m.\u001b[0m\u001b[0mmodel\u001b[0m\u001b[0;34m(\u001b[0m\u001b[0mx_batch\u001b[0m\u001b[0;34m)\u001b[0m\u001b[0;34m\u001b[0m\u001b[0;34m\u001b[0m\u001b[0m\n\u001b[0;32m--> 386\u001b[0;31m                 \u001b[0madj_traj\u001b[0m \u001b[0;34m=\u001b[0m \u001b[0mtorch\u001b[0m\u001b[0;34m.\u001b[0m\u001b[0mcat\u001b[0m\u001b[0;34m(\u001b[0m\u001b[0;34m(\u001b[0m\u001b[0mself\u001b[0m\u001b[0;34m.\u001b[0m\u001b[0mmodel\u001b[0m\u001b[0;34m.\u001b[0m\u001b[0madj_traj_p1\u001b[0m\u001b[0;34m,\u001b[0m \u001b[0mself\u001b[0m\u001b[0;34m.\u001b[0m\u001b[0mmodel\u001b[0m\u001b[0;34m.\u001b[0m\u001b[0madj_traj_p2\u001b[0m\u001b[0;34m)\u001b[0m\u001b[0;34m)\u001b[0m \u001b[0;31m#added adj_traj here for output\u001b[0m\u001b[0;34m\u001b[0m\u001b[0;34m\u001b[0m\u001b[0m\n\u001b[0m\u001b[1;32m    387\u001b[0m                 \u001b[0mtime_steps\u001b[0m \u001b[0;34m=\u001b[0m \u001b[0mself\u001b[0m\u001b[0;34m.\u001b[0m\u001b[0mmodel\u001b[0m\u001b[0;34m.\u001b[0m\u001b[0mtime_steps\u001b[0m\u001b[0;34m\u001b[0m\u001b[0;34m\u001b[0m\u001b[0m\n\u001b[1;32m    388\u001b[0m                 \u001b[0mT\u001b[0m \u001b[0;34m=\u001b[0m \u001b[0mself\u001b[0m\u001b[0;34m.\u001b[0m\u001b[0mmodel\u001b[0m\u001b[0;34m.\u001b[0m\u001b[0mT\u001b[0m\u001b[0;34m\u001b[0m\u001b[0;34m\u001b[0m\u001b[0m\n",
      "\u001b[0;32m/opt/anaconda3/envs/neuralODE/lib/python3.8/site-packages/torch/nn/modules/module.py\u001b[0m in \u001b[0;36m__getattr__\u001b[0;34m(self, name)\u001b[0m\n\u001b[1;32m    776\u001b[0m             \u001b[0;32mif\u001b[0m \u001b[0mname\u001b[0m \u001b[0;32min\u001b[0m \u001b[0mmodules\u001b[0m\u001b[0;34m:\u001b[0m\u001b[0;34m\u001b[0m\u001b[0;34m\u001b[0m\u001b[0m\n\u001b[1;32m    777\u001b[0m                 \u001b[0;32mreturn\u001b[0m \u001b[0mmodules\u001b[0m\u001b[0;34m[\u001b[0m\u001b[0mname\u001b[0m\u001b[0;34m]\u001b[0m\u001b[0;34m\u001b[0m\u001b[0;34m\u001b[0m\u001b[0m\n\u001b[0;32m--> 778\u001b[0;31m         raise ModuleAttributeError(\"'{}' object has no attribute '{}'\".format(\n\u001b[0m\u001b[1;32m    779\u001b[0m             type(self).__name__, name))\n\u001b[1;32m    780\u001b[0m \u001b[0;34m\u001b[0m\u001b[0m\n",
      "\u001b[0;31mModuleAttributeError\u001b[0m: 'NeuralODE' object has no attribute 'adj_traj_p1'"
     ]
    }
   ],
   "source": [
    "'''Train or load the models'''\n",
    "\n",
    "#%%capture #this surpresses output\n",
    "shuffle = False\n",
    "\n",
    "\n",
    "#old source for data points\n",
    "#with open('data.txt', 'rb') as fp:\n",
    " #   data_line, test = pickle.load(fp)\n",
    "\n",
    "\n",
    "\n",
    "X, y = make_circles(3000, noise=noise, factor=0.15, random_state=1)\n",
    "\n",
    "X_train, X_test, y_train, y_test = train_test_split(X, y, test_size=.05)\n",
    "\n",
    "X_train = torch.Tensor(X_train) # transform to torch tensor for dataloader\n",
    "y_train = torch.Tensor(y_train) #transform to torch tensor for dataloader\n",
    "\n",
    "X_test = torch.Tensor(X_train) # transform to torch tensor for dataloader\n",
    "y_test = torch.Tensor(y_train) #transform to torch tensor for dataloader\n",
    "\n",
    "X_train = X_train.type(torch.float32)  #type of orginial pickle.load data\n",
    "y_train = y_train.type(torch.int64) #dtype of original picle.load data\n",
    "\n",
    "X_test = X_test.type(torch.float32)  #type of orginial pickle.load data\n",
    "y_test = y_test.type(torch.int64) #dtype of original picle.load data\n",
    "\n",
    "\n",
    "data_line = TensorDataset(X_train,y_train) # create your datset\n",
    "test = TensorDataset(X_test, y_test)\n",
    "\n",
    "dataloader = DataLoader(data_line, batch_size=64, shuffle=shuffle)\n",
    "dataloader_viz = DataLoader(data_line, batch_size=128, shuffle=shuffle)\n",
    "\n",
    "\n",
    "if training:\n",
    "    trainer_anode.train(dataloader, num_epochs)\n",
    "    #trainer_anode_test.train(dataloader, num_epochs)\n",
    "\n",
    "    trainer_rob_node.train(dataloader, num_epochs)\n",
    "\n",
    "    torch.save(anode.state_dict(), 'anode.pth')\n",
    "    torch.save(rob_node.state_dict(), 'rob_node.pth')\n",
    "else:\n",
    "    anode.load_state_dict(torch.load('anode.pth'))\n",
    "    rob_node.load_state_dict(torch.load('rob_node.pth'))"
   ]
  },
  {
   "cell_type": "code",
   "execution_count": null,
   "metadata": {},
   "outputs": [
    {
     "name": "stdout",
     "output_type": "stream",
     "text": [
      "robNeuralODE(\n",
      "  (f_dynamics): Dynamics(\n",
      "    (non_linearity): Tanh()\n",
      "    (fc2_time): Sequential(\n",
      "      (0): Linear(in_features=2, out_features=2, bias=True)\n",
      "      (1): Linear(in_features=2, out_features=2, bias=True)\n",
      "      (2): Linear(in_features=2, out_features=2, bias=True)\n",
      "      (3): Linear(in_features=2, out_features=2, bias=True)\n",
      "      (4): Linear(in_features=2, out_features=2, bias=True)\n",
      "      (5): Linear(in_features=2, out_features=2, bias=True)\n",
      "      (6): Linear(in_features=2, out_features=2, bias=True)\n",
      "      (7): Linear(in_features=2, out_features=2, bias=True)\n",
      "      (8): Linear(in_features=2, out_features=2, bias=True)\n",
      "      (9): Linear(in_features=2, out_features=2, bias=True)\n",
      "    )\n",
      "  )\n",
      "  (flow): Semiflow(\n",
      "    (dynamics): Dynamics(\n",
      "      (non_linearity): Tanh()\n",
      "      (fc2_time): Sequential(\n",
      "        (0): Linear(in_features=2, out_features=2, bias=True)\n",
      "        (1): Linear(in_features=2, out_features=2, bias=True)\n",
      "        (2): Linear(in_features=2, out_features=2, bias=True)\n",
      "        (3): Linear(in_features=2, out_features=2, bias=True)\n",
      "        (4): Linear(in_features=2, out_features=2, bias=True)\n",
      "        (5): Linear(in_features=2, out_features=2, bias=True)\n",
      "        (6): Linear(in_features=2, out_features=2, bias=True)\n",
      "        (7): Linear(in_features=2, out_features=2, bias=True)\n",
      "        (8): Linear(in_features=2, out_features=2, bias=True)\n",
      "        (9): Linear(in_features=2, out_features=2, bias=True)\n",
      "      )\n",
      "    )\n",
      "  )\n",
      "  (linear_layer): Linear(in_features=2, out_features=2, bias=True)\n",
      "  (non_linearity): Tanh()\n",
      ")\n"
     ]
    }
   ],
   "source": [
    "print(rob_node)\n",
    "# print(anode)"
   ]
  },
  {
   "cell_type": "code",
   "execution_count": null,
   "metadata": {},
   "outputs": [
    {
     "name": "stdout",
     "output_type": "stream",
     "text": [
      "normal\n"
     ]
    },
    {
     "name": "stderr",
     "output_type": "stream",
     "text": [
      "/Users/Tobi/FAUbox/Python/borjan dynamical.systems/plots/plots.py:382: UserWarning: Implicit dimension choice for softmax has been deprecated. Change the call to include dim=X as an argument.\n",
      "  predictions = m(pre_)\n"
     ]
    },
    {
     "data": {
      "image/png": "[encoded data removed]",
      "text/plain": [
       "<Figure size 432x288 with 2 Axes>"
      ]
     },
     "metadata": {},
     "output_type": "display_data"
    },
    {
     "name": "stdout",
     "output_type": "stream",
     "text": [
      "robust\n"
     ]
    },
    {
     "name": "stderr",
     "output_type": "stream",
     "text": [
      "/Users/Tobi/FAUbox/Python/borjan dynamical.systems/plots/plots.py:382: UserWarning: Implicit dimension choice for softmax has been deprecated. Change the call to include dim=X as an argument.\n",
      "  predictions = m(pre_)\n"
     ]
    },
    {
     "data": {
      "image/png": "[encoded data removed]",
      "text/plain": [
       "<Figure size 432x288 with 2 Axes>"
      ]
     },
     "metadata": {},
     "output_type": "display_data"
    },
    {
     "name": "stdout",
     "output_type": "stream",
     "text": [
      "tensor([-0.0437,  9.1015])\n"
     ]
    }
   ],
   "source": [
    "filename_base = '1traj'\n",
    "\n",
    "filename_s = filename_base + '_s'\n",
    "filename_r = filename_base + '_r'\n",
    "\n",
    "print('normal')\n",
    "plt_classifier(anode, data_line, test, num_steps=10, save_fig = '1generalization.png') \n",
    "\n",
    "print('robust')\n",
    "plt_classifier(rob_node, data_line, test, num_steps=10, save_fig = '1rob_generalization.png') \n",
    "\n",
    "\n",
    "# plt.figure(1)\n",
    "# plt.subplot(121)\n",
    "# plt.imshow(imageio.imread('1generalization.png'))\n",
    "# plt.title('standard')\n",
    "# plt.axis('off')\n",
    "# plt.subplot(122)\n",
    "# plt.imshow(imageio.imread(filename_r + '29.png'))\n",
    "# plt.title('augmented robustness')\n",
    "# plt.axis('off')\n",
    "\n",
    "inputs, targets = next(iter(dataloader_viz))\n",
    "print(sum(inputs))\n",
    "\n",
    "\n",
    "\n",
    "trajectory_gif(anode, inputs, targets, timesteps=num_steps, filename = filename_s +'.gif')\n",
    "trajectory_gif(rob_node, inputs, targets, timesteps=num_steps, filename = filename_r + '.gif')\n",
    "filename_base = '1traj'\n",
    "\n",
    "\n",
    "# plt.figure(1)\n",
    "# plt.subplot(121)\n",
    "# plt.imshow(imageio.imread(filename_s + '29.png'))\n",
    "# plt.title('standard')\n",
    "# plt.axis('off')\n",
    "# plt.subplot(122)\n",
    "# plt.imshow(imageio.imread(filename_r + '29.png'))\n",
    "# plt.title('augmented robustness')\n",
    "# plt.axis('off')\n",
    "\n",
    "# plt.savefig('1comparison_' + filename_base + '.png',\n",
    "#                     format='png', dpi=300, bbox_inches='tight')\n",
    "\n",
    "# from IPython.display import Image\n",
    "# Image(filename='1comparison_1traj.png') "
   ]
  },
  {
   "cell_type": "code",
   "execution_count": null,
   "metadata": {},
   "outputs": [
    {
     "name": "stdout",
     "output_type": "stream",
     "text": [
      "<bound method Module.state_dict of robNeuralODE(\n",
      "  (f_dynamics): Dynamics(\n",
      "    (non_linearity): Tanh()\n",
      "    (fc2_time): Sequential(\n",
      "      (0): Linear(in_features=2, out_features=2, bias=True)\n",
      "      (1): Linear(in_features=2, out_features=2, bias=True)\n",
      "      (2): Linear(in_features=2, out_features=2, bias=True)\n",
      "      (3): Linear(in_features=2, out_features=2, bias=True)\n",
      "      (4): Linear(in_features=2, out_features=2, bias=True)\n",
      "      (5): Linear(in_features=2, out_features=2, bias=True)\n",
      "      (6): Linear(in_features=2, out_features=2, bias=True)\n",
      "      (7): Linear(in_features=2, out_features=2, bias=True)\n",
      "      (8): Linear(in_features=2, out_features=2, bias=True)\n",
      "      (9): Linear(in_features=2, out_features=2, bias=True)\n",
      "    )\n",
      "  )\n",
      "  (flow): Semiflow(\n",
      "    (dynamics): Dynamics(\n",
      "      (non_linearity): Tanh()\n",
      "      (fc2_time): Sequential(\n",
      "        (0): Linear(in_features=2, out_features=2, bias=True)\n",
      "        (1): Linear(in_features=2, out_features=2, bias=True)\n",
      "        (2): Linear(in_features=2, out_features=2, bias=True)\n",
      "        (3): Linear(in_features=2, out_features=2, bias=True)\n",
      "        (4): Linear(in_features=2, out_features=2, bias=True)\n",
      "        (5): Linear(in_features=2, out_features=2, bias=True)\n",
      "        (6): Linear(in_features=2, out_features=2, bias=True)\n",
      "        (7): Linear(in_features=2, out_features=2, bias=True)\n",
      "        (8): Linear(in_features=2, out_features=2, bias=True)\n",
      "        (9): Linear(in_features=2, out_features=2, bias=True)\n",
      "      )\n",
      "    )\n",
      "  )\n",
      "  (linear_layer): Linear(in_features=2, out_features=2, bias=True)\n",
      "  (non_linearity): Tanh()\n",
      ")>\n",
      "anode\n",
      "flow.dynamics.fc2_time.0.weight tensor([[-0.2862, -0.8457],\n",
      "        [-0.3156, -0.6865]])\n",
      "flow.dynamics.fc2_time.0.bias tensor([-0.0394, -0.4021])\n",
      "flow.dynamics.fc2_time.1.weight tensor([[-0.6481, -1.8130],\n",
      "        [-1.7359, -2.2318]])\n",
      "flow.dynamics.fc2_time.1.bias tensor([0.3416, 0.4206])\n",
      "flow.dynamics.fc2_time.2.weight tensor([[ 0.4434,  0.3583],\n",
      "        [-0.6828,  0.9057]])\n",
      "flow.dynamics.fc2_time.2.bias tensor([-0.1182,  0.5298])\n",
      "flow.dynamics.fc2_time.3.weight tensor([[ 0.0682,  0.0650],\n",
      "        [ 0.8871, -0.3551]])\n",
      "flow.dynamics.fc2_time.3.bias tensor([-0.2981,  0.5240])\n",
      "flow.dynamics.fc2_time.4.weight tensor([[-0.0592,  0.2865],\n",
      "        [ 0.8921,  0.4555]])\n",
      "flow.dynamics.fc2_time.4.bias tensor([-0.1463, -0.2128])\n",
      "flow.dynamics.fc2_time.5.weight tensor([[0.0259, 0.2516],\n",
      "        [0.2049, 1.1098]])\n",
      "flow.dynamics.fc2_time.5.bias tensor([-0.3439, -0.7681])\n",
      "flow.dynamics.fc2_time.6.weight tensor([[0.0948, 0.4632],\n",
      "        [0.2425, 1.0238]])\n",
      "flow.dynamics.fc2_time.6.bias tensor([-0.3212, -0.5986])\n",
      "flow.dynamics.fc2_time.7.weight tensor([[0.2129, 0.6837],\n",
      "        [0.2344, 0.8207]])\n",
      "flow.dynamics.fc2_time.7.bias tensor([-0.3244, -0.3647])\n",
      "flow.dynamics.fc2_time.8.weight tensor([[0.3304, 0.5926],\n",
      "        [0.4345, 0.7605]])\n",
      "flow.dynamics.fc2_time.8.bias tensor([-0.2453, -0.3412])\n",
      "flow.dynamics.fc2_time.9.weight tensor([[0.3628, 0.5285],\n",
      "        [0.4415, 0.6521]])\n",
      "flow.dynamics.fc2_time.9.bias tensor([-0.1445, -0.2290])\n",
      "linear_layer.weight tensor([[-0.8377, -1.3804],\n",
      "        [ 0.8995,  1.0385]])\n",
      "linear_layer.bias tensor([ 0.3761, -0.3556])\n",
      "\n",
      " anode_test\n",
      "flow.dynamics.fc2_time.0.weight tensor([[-0.0667, -0.6837],\n",
      "        [-0.2251, -0.2154]])\n",
      "flow.dynamics.fc2_time.0.bias tensor([-0.6846, -0.5519])\n",
      "flow.dynamics.fc2_time.1.weight tensor([[-0.4677,  0.0811],\n",
      "        [ 0.7057, -0.5565]])\n",
      "flow.dynamics.fc2_time.1.bias tensor([0.6200, 0.6906])\n",
      "flow.dynamics.fc2_time.2.weight tensor([[-0.6573, -0.5082],\n",
      "        [ 0.2956, -0.2193]])\n",
      "flow.dynamics.fc2_time.2.bias tensor([0.3375, 0.3746])\n",
      "flow.dynamics.fc2_time.3.weight tensor([[-0.5828, -0.5895],\n",
      "        [-0.4365,  0.5745]])\n",
      "flow.dynamics.fc2_time.3.bias tensor([-0.3789,  0.6834])\n",
      "flow.dynamics.fc2_time.4.weight tensor([[-0.1626, -0.3237],\n",
      "        [ 0.4741, -0.5366]])\n",
      "flow.dynamics.fc2_time.4.bias tensor([0.4931, 0.0841])\n",
      "flow.dynamics.fc2_time.5.weight tensor([[ 0.6609,  0.1189],\n",
      "        [-0.6249, -0.0930]])\n",
      "flow.dynamics.fc2_time.5.bias tensor([-0.2274, -0.2658])\n",
      "flow.dynamics.fc2_time.6.weight tensor([[ 0.4793, -0.6617],\n",
      "        [-0.6976, -0.4177]])\n",
      "flow.dynamics.fc2_time.6.bias tensor([-0.2915,  0.2206])\n",
      "flow.dynamics.fc2_time.7.weight tensor([[-0.6993, -0.6973],\n",
      "        [ 0.1474,  0.6399]])\n",
      "flow.dynamics.fc2_time.7.bias tensor([-0.1007, -0.6239])\n",
      "flow.dynamics.fc2_time.8.weight tensor([[-0.2390, -0.1162],\n",
      "        [ 0.6973, -0.6790]])\n",
      "flow.dynamics.fc2_time.8.bias tensor([-0.3948,  0.3743])\n",
      "flow.dynamics.fc2_time.9.weight tensor([[ 0.4205, -0.2192],\n",
      "        [ 0.0870,  0.6618]])\n",
      "flow.dynamics.fc2_time.9.bias tensor([0.0870, 0.2311])\n",
      "linear_layer.weight tensor([[-0.2482,  0.7021],\n",
      "        [ 0.0341, -0.6720]])\n",
      "linear_layer.bias tensor([-0.1416, -0.2461])\n",
      "\n",
      " rob_node\n",
      "f_dynamics.fc2_time.0.weight tensor([[-0.5030, -0.9462],\n",
      "        [-0.6562,  0.0997]])\n",
      "f_dynamics.fc2_time.0.bias tensor([0.6020, 0.0745])\n",
      "f_dynamics.fc2_time.1.weight tensor([[-0.6868, -0.5149],\n",
      "        [-0.7772,  0.3093]])\n",
      "f_dynamics.fc2_time.1.bias tensor([0.3361, 0.2873])\n",
      "f_dynamics.fc2_time.2.weight tensor([[-0.0359,  0.3737],\n",
      "        [-0.6467, -0.0596]])\n",
      "f_dynamics.fc2_time.2.bias tensor([ 0.0031, -0.1326])\n",
      "f_dynamics.fc2_time.3.weight tensor([[-0.5405, -0.4977],\n",
      "        [-0.3884, -0.0256]])\n",
      "f_dynamics.fc2_time.3.bias tensor([ 0.3141, -0.7540])\n",
      "f_dynamics.fc2_time.4.weight tensor([[ 0.3555, -0.8362],\n",
      "        [-0.4178, -0.1188]])\n",
      "f_dynamics.fc2_time.4.bias tensor([ 0.1968, -0.6684])\n",
      "f_dynamics.fc2_time.5.weight tensor([[ 1.6644, -0.1362],\n",
      "        [-0.5452,  0.5021]])\n",
      "f_dynamics.fc2_time.5.bias tensor([-0.0033,  0.1806])\n",
      "f_dynamics.fc2_time.6.weight tensor([[ 0.3108, -1.0003],\n",
      "        [-0.8350, -0.3087]])\n",
      "f_dynamics.fc2_time.6.bias tensor([-0.0950,  0.3934])\n",
      "f_dynamics.fc2_time.7.weight tensor([[ 0.8319, -0.5588],\n",
      "        [-0.5365, -0.3334]])\n",
      "f_dynamics.fc2_time.7.bias tensor([ 0.1556, -0.3132])\n",
      "f_dynamics.fc2_time.8.weight tensor([[0.1911, 0.1793],\n",
      "        [0.8514, 0.9739]])\n",
      "f_dynamics.fc2_time.8.bias tensor([-0.7418,  0.0272])\n",
      "f_dynamics.fc2_time.9.weight tensor([[ 0.9749, -0.2333],\n",
      "        [ 0.0898,  0.1128]])\n",
      "f_dynamics.fc2_time.9.bias tensor([ 0.1536, -0.6754])\n",
      "linear_layer.weight tensor([[-0.7393, -0.7499],\n",
      "        [ 0.7032,  0.7067]])\n",
      "linear_layer.bias tensor([-0.1243, -0.0088])\n"
     ]
    }
   ],
   "source": [
    "print(rob_node.state_dict)\n",
    "\n",
    "print('anode')\n",
    "\n",
    "for name, param in anode.named_parameters():\n",
    "    if param.requires_grad:\n",
    "        print(name, param.data)\n",
    "\n",
    "\n",
    "print('\\n','anode_test')\n",
    "\n",
    "\n",
    "for name, param in anode_test.named_parameters():\n",
    "    if param.requires_grad:\n",
    "        print(name, param.data)\n",
    "\n",
    "        \n",
    "        \n",
    "print('\\n','rob_node')\n",
    "\n",
    "\n",
    "for name, param in rob_node.named_parameters():\n",
    "    if param.requires_grad:\n",
    "        print(name, param.data)"
   ]
  },
  {
   "cell_type": "code",
   "execution_count": null,
   "metadata": {},
   "outputs": [
    {
     "name": "stdout",
     "output_type": "stream",
     "text": [
      "tensor([[1, 2],\n",
      "        [3, 4]])\n",
      "tensor([[10, 13],\n",
      "        [22, 29]])\n"
     ]
    }
   ],
   "source": [
    "x =torch.tensor([[1,2],[3,4]])\n",
    "print(x)\n",
    "print(torch.mm(x,x+1))"
   ]
  },
  {
   "cell_type": "code",
   "execution_count": null,
   "metadata": {},
   "outputs": [
    {
     "name": "stdout",
     "output_type": "stream",
     "text": [
      "x tensor([1., 2.])\n",
      "inner tensor([-1.,  3.])\n",
      "embedd tensor([[[-1.,  0.],\n",
      "         [ 0.,  0.]],\n",
      "\n",
      "        [[ 0.,  0.],\n",
      "         [ 0.,  3.]]])\n",
      "outer tensor([[0., 3.],\n",
      "        [1., 0.]])\n",
      "final tensor([6., 1.])\n",
      "x torch.Size([100, 2, 1]) out torch.Size([100, 2, 1])\n",
      "torch.Size([100, 2, 1])\n",
      "torch.Size([100, 2])\n"
     ]
    }
   ],
   "source": [
    "# w1_t = anode.state_dict.fc1_time[1].weight\n",
    "wt = anode.flow.dynamics.fc2_time[0].weight\n",
    "bt = anode.flow.dynamics.fc2_time[0].bias\n",
    "\n",
    "x = torch.zeros(100,2)\n",
    "x[0] = torch.tensor([1.,2.])\n",
    "w = torch.tensor([[0.,-1.],[1.,0.]])\n",
    "print('x', x[0])\n",
    "print('inner',torch.matmul(w,x[0])+ x[0]) \n",
    "inner = torch.matmul(w,x[0])+ x[0]\n",
    "inner = torch.diag_embed(inner)\n",
    "print('embedd', torch.diag_embed(inner))\n",
    "outer = torch.matmul(w.t(),inner)\n",
    "print('outer',outer)\n",
    "print('final', torch.matmul(outer,x[0]))\n",
    "# print(torch.matmul(mat.t(),x[1]))\n",
    "\n",
    "out = torch.matmul(x,w.t()) + x\n",
    "out = torch.diag_embed(out)\n",
    "out = torch.matmul(w.t(),out)\n",
    "x = x[:,:,None]\n",
    "out = torch.matmul(out,x)\n",
    "# print(out)\n",
    "print('x',x.size(),'out', out.size())\n",
    "print(out.size())\n",
    "print(out.flatten(start_dim=1).size())\n",
    "\n"
   ]
  }
 ],
 "metadata": {
  "interpreter": {
   "hash": "c0c5483d19f4fe5b21c2c2570e90b3190ed247dc8e6ba08ec1bd3c7fe8667884"
  },
  "kernelspec": {
   "display_name": "Python 3.8.11 64-bit",
   "name": "python3"
  },
  "language_info": {
   "codemirror_mode": {
    "name": "ipython",
    "version": 3
   },
   "file_extension": ".py",
   "mimetype": "text/x-python",
   "name": "python",
   "nbconvert_exporter": "python",
   "pygments_lexer": "ipython3",
   "version": "3.8.11"
  },
  "orig_nbformat": 4
 },
 "nbformat": 4,
 "nbformat_minor": 2
}
