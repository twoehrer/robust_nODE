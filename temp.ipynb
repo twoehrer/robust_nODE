{
 "cells": [
  {
   "cell_type": "code",
   "execution_count": 2,
   "metadata": {},
   "outputs": [],
   "source": [
    "import torch\n",
    "from torch.autograd import grad\n",
    "import torch.nn as nn\n"
   ]
  },
  {
   "cell_type": "code",
   "execution_count": 3,
   "metadata": {},
   "outputs": [
    {
     "name": "stdout",
     "output_type": "stream",
     "text": [
      "torch.Size([1, 1])\n",
      "Loss: 9.0\n",
      "dloss/dx:\n",
      " tensor([[24.]])\n"
     ]
    }
   ],
   "source": [
    "\n",
    "\n",
    "\n",
    "# Create some dummy data.\n",
    "x = torch.ones(1, 1, requires_grad=True)\n",
    "gt = torch.ones_like(x) * 2 - 1  # \"ground-truths\" \n",
    "\n",
    "print(x.size())\n",
    "# We will use MSELoss as an example.\n",
    "loss_fn = nn.MSELoss()\n",
    "\n",
    "# Do some computations.\n",
    "v = x + 1\n",
    "y = v ** 2\n",
    "\n",
    "# Compute loss.\n",
    "loss = loss_fn(y, gt)\n",
    "\n",
    "print(f'Loss: {loss}')\n",
    "\n",
    "# Now compute gradients:\n",
    "d_loss_dx = grad(outputs=loss, inputs=x)[0]\n",
    "print(f'dloss/dx:\\n {d_loss_dx}')"
   ]
  },
  {
   "cell_type": "code",
   "execution_count": 92,
   "metadata": {},
   "outputs": [
    {
     "name": "stdout",
     "output_type": "stream",
     "text": [
      "0 0\n",
      "1 10\n",
      "2 20\n"
     ]
    }
   ],
   "source": [
    "for j, i in enumerate(range(0,21, 10)):\n",
    "    print(j, i)"
   ]
  },
  {
   "cell_type": "code",
   "execution_count": null,
   "metadata": {},
   "outputs": [],
   "source": []
  }
 ],
 "metadata": {
  "interpreter": {
   "hash": "13fb894ac7fe12cffb7d2d81d90b3f663ed89144aa737bba55d6b1944589c027"
  },
  "kernelspec": {
   "display_name": "Python 3.9.6 ('neuralode2')",
   "language": "python",
   "name": "python3"
  },
  "language_info": {
   "codemirror_mode": {
    "name": "ipython",
    "version": 3
   },
   "file_extension": ".py",
   "mimetype": "text/x-python",
   "name": "python",
   "nbconvert_exporter": "python",
   "pygments_lexer": "ipython3",
   "version": "3.9.10"
  },
  "orig_nbformat": 4
 },
 "nbformat": 4,
 "nbformat_minor": 2
}
