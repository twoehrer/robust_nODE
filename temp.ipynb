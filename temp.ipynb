{
 "cells": [
  {
   "cell_type": "code",
   "execution_count": 2,
   "metadata": {},
   "outputs": [],
   "source": [
    "import torch\n",
    "import torch.nn as nn\n"
   ]
  },
  {
   "cell_type": "code",
   "execution_count": 3,
   "metadata": {},
   "outputs": [
    {
     "name": "stdout",
     "output_type": "stream",
     "text": [
      "g_x = x.grad = tensor([4., 4., 4., 4., 4., 4., 4., 4., 4., 4.])\n",
      "\n",
      "g_x = x.grad = tensor([0., 0., 0., 0., 0., 0., 0., 0., 0., 0.])\n",
      "\n",
      "g_x = x.grad = tensor([0., 0., 0., 0., 0., 0., 0., 0., 0., 0.])\n",
      "\n"
     ]
    }
   ],
   "source": [
    "x = torch.ones(10, requires_grad=True)\n",
    "weights = {'x':x}\n",
    "\n",
    "y = x**2\n",
    "z = x**3\n",
    "\n",
    "\n",
    "\n",
    "l = (x**4).sum()\n",
    "l.backward()\n",
    "g_x = x.grad.data\n",
    "\n",
    "#g_x.requires_grad = True ## Adds it to the computation graph!\n",
    "print(f'g_x = x.grad = {x.grad}\\n')\n",
    "\n",
    "x.grad.zero_()\n",
    "\n",
    "print(f'g_x = x.grad = {x.grad}\\n')\n",
    "#weights['g_x'] = g_x\n",
    "#print(f'weights = {weights}\\n')\n",
    "\n",
    "J = 0*x.sum() #(x**4).sum() + (y + z + g_x).sum()\n",
    "J.backward()\n",
    "print(f'g_x = x.grad = {x.grad}\\n')\n"
   ]
  },
  {
   "cell_type": "code",
   "execution_count": null,
   "metadata": {},
   "outputs": [],
   "source": []
  },
  {
   "cell_type": "code",
   "execution_count": 5,
   "metadata": {},
   "outputs": [
    {
     "name": "stdout",
     "output_type": "stream",
     "text": [
      "WIN WIN WIN\n",
      "WIN WIN WIN\n",
      "WIN WIN WIN\n",
      "WIN WIN WIN\n",
      "WIN WIN WIN\n",
      "WIN WIN WIN\n",
      "WIN WIN WIN\n",
      "WIN WIN WIN\n",
      "WIN WIN WIN\n",
      "WIN WIN WIN\n"
     ]
    }
   ],
   "source": []
  },
  {
   "cell_type": "code",
   "execution_count": null,
   "metadata": {},
   "outputs": [],
   "source": []
  }
 ],
 "metadata": {
  "interpreter": {
   "hash": "13fb894ac7fe12cffb7d2d81d90b3f663ed89144aa737bba55d6b1944589c027"
  },
  "kernelspec": {
   "display_name": "Python 3.9.6 ('neuralode2')",
   "language": "python",
   "name": "python3"
  },
  "language_info": {
   "codemirror_mode": {
    "name": "ipython",
    "version": 3
   },
   "file_extension": ".py",
   "mimetype": "text/x-python",
   "name": "python",
   "nbconvert_exporter": "python",
   "pygments_lexer": "ipython3",
   "version": "3.9.6"
  },
  "orig_nbformat": 4
 },
 "nbformat": 4,
 "nbformat_minor": 2
}
